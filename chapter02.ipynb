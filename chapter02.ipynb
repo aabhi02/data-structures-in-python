{
 "cells": [
  {
   "cell_type": "markdown",
   "metadata": {},
   "source": [
    "2.2 Expressions and Evaluation"
   ]
  },
  {
   "cell_type": "code",
   "execution_count": 1,
   "metadata": {},
   "outputs": [
    {
     "name": "stdout",
     "output_type": "stream",
     "text": [
      "4\n",
      "False\n",
      "35.0\n"
     ]
    }
   ],
   "source": [
    "print(2+2)\n",
    "print(5>7)\n",
    "print(5*(3+abs(-12)/3)) # this expression is evaluated in the order -> abs, /, +, *"
   ]
  },
  {
   "cell_type": "markdown",
   "metadata": {},
   "source": [
    "2.3 Variables, Types & State"
   ]
  },
  {
   "cell_type": "code",
   "execution_count": 2,
   "metadata": {},
   "outputs": [
    {
     "name": "stdout",
     "output_type": "stream",
     "text": [
      "Type of variable x <class 'int'>\n",
      "Type of variable y <class 'float'>\n",
      "Type of variable z <class 'bool'>\n"
     ]
    }
   ],
   "source": [
    "x=5\n",
    "y=3.2\n",
    "z=True\n",
    "print(\"Type of variable x\", type(x))\n",
    "print(\"Type of variable y\", type(y))\n",
    "print(\"Type of variable z\", type(z))"
   ]
  },
  {
   "cell_type": "markdown",
   "metadata": {},
   "source": [
    "An object cannot change it's identity, it's type and value can be changed."
   ]
  },
  {
   "cell_type": "code",
   "execution_count": 3,
   "metadata": {},
   "outputs": [
    {
     "name": "stdout",
     "output_type": "stream",
     "text": [
      "True\n",
      "False\n",
      "True\n"
     ]
    }
   ],
   "source": [
    "x=[1,2,3]\n",
    "y=x\n",
    "z=[1,2,3]\n",
    "print(y is x)\n",
    "print(z is x)\n",
    "print(z==x)"
   ]
  },
  {
   "cell_type": "code",
   "execution_count": 4,
   "metadata": {},
   "outputs": [
    {
     "name": "stdout",
     "output_type": "stream",
     "text": [
      "value of x: 2 type(x) <class 'int'>\n",
      "value of x: 2.0 type(x) <class 'float'>\n"
     ]
    }
   ],
   "source": [
    "x=2\n",
    "print(\"value of x:\", x, \"type(x)\", type(x))\n",
    "x=float(x)\n",
    "print(\"value of x:\", x, \"type(x)\", type(x))"
   ]
  },
  {
   "cell_type": "markdown",
   "metadata": {},
   "source": [
    "2.4 Collections<br>\n",
    "most important\n",
    "- String\n",
    "- Lists\n",
    "- Tuples\n",
    "- dictionaries\n",
    "- Sets"
   ]
  },
  {
   "cell_type": "code",
   "execution_count": 5,
   "metadata": {},
   "outputs": [
    {
     "name": "stdout",
     "output_type": "stream",
     "text": [
      "<class 'str'>\n",
      "Hello, World.\n",
      "H\n",
      "7\n"
     ]
    },
    {
     "ename": "TypeError",
     "evalue": "'str' object does not support item assignment",
     "output_type": "error",
     "traceback": [
      "\u001b[1;31m---------------------------------------------------------------------------\u001b[0m",
      "\u001b[1;31mTypeError\u001b[0m                                 Traceback (most recent call last)",
      "Cell \u001b[1;32mIn[5], line 10\u001b[0m\n\u001b[0;32m      8\u001b[0m n \u001b[39m=\u001b[39m \u001b[39mstr\u001b[39m(\u001b[39m9876\u001b[39m)\n\u001b[0;32m      9\u001b[0m \u001b[39mprint\u001b[39m(n[\u001b[39m2\u001b[39m])\n\u001b[1;32m---> 10\u001b[0m n[\u001b[39m2\u001b[39m]\u001b[39m=\u001b[39m\u001b[39m0\u001b[39m\n",
      "\u001b[1;31mTypeError\u001b[0m: 'str' object does not support item assignment"
     ]
    }
   ],
   "source": [
    "# String\n",
    "s=\"Hello, \"\n",
    "t=\"World.\"\n",
    "u=s+t\n",
    "print(type(u))\n",
    "print(u)\n",
    "print(u[0])\n",
    "n = str(9876)\n",
    "print(n[2])\n",
    "n[2]=0          #note that string items are immutable"
   ]
  },
  {
   "cell_type": "code",
   "execution_count": 6,
   "metadata": {},
   "outputs": [
    {
     "name": "stdout",
     "output_type": "stream",
     "text": [
      "<class 'list'>\n",
      "The first item is 1\n",
      "The second item is 2\n",
      "The last item is 100\n",
      "The second to last item is 6\n"
     ]
    }
   ],
   "source": [
    "# List\n",
    "L = [1,2,3,4,5,6]\n",
    "print(type(L))\n",
    "L.append(100)\n",
    "print(\"The first item is\", L[0])\n",
    "print(\"The second item is\", L[1])\n",
    "print(\"The last item is\", L[-1])\n",
    "print(\"The second to last item is\", L[-2])"
   ]
  },
  {
   "cell_type": "code",
   "execution_count": 7,
   "metadata": {},
   "outputs": [
    {
     "name": "stdout",
     "output_type": "stream",
     "text": [
      "[1, 2, 'skip', 'a', 'few', 99, 100]\n"
     ]
    }
   ],
   "source": [
    "# overwrite values\n",
    "L[2] = \"skip\"\n",
    "L[3] = \"a\"\n",
    "L[4] = 'few'\n",
    "L[-2] = 99\n",
    "print(L)"
   ]
  },
  {
   "cell_type": "code",
   "execution_count": 8,
   "metadata": {},
   "outputs": [
    {
     "name": "stdout",
     "output_type": "stream",
     "text": [
      "<class 'tuple'>\n",
      "(1, 2, 'skip a few', 99, 100)\n",
      "100\n"
     ]
    }
   ],
   "source": [
    "# Tuples\n",
    "t = (1, 2, \"skip a few\", 99, 100)\n",
    "print(type(t))\n",
    "print(t)\n",
    "print(t[4])"
   ]
  },
  {
   "cell_type": "code",
   "execution_count": 9,
   "metadata": {},
   "outputs": [
    {
     "name": "stdout",
     "output_type": "stream",
     "text": [
      "{5: 'five', 2: 'two', 'pi': 3.1415926}\n",
      "3.1415926\n"
     ]
    }
   ],
   "source": [
    "# Dictionaries\n",
    "d = dict()\n",
    "d[5] = \"five\"\n",
    "d[2] = \"two\"\n",
    "d[\"pi\"] = 3.1415926\n",
    "print(d)\n",
    "print(d[\"pi\"])"
   ]
  },
  {
   "cell_type": "code",
   "execution_count": 10,
   "metadata": {},
   "outputs": [
    {
     "name": "stdout",
     "output_type": "stream",
     "text": [
      "<class 'set'>\n",
      "{1, 2, 3}\n"
     ]
    }
   ],
   "source": [
    "# Sets\n",
    "s = {2,1}\n",
    "print(type(s))\n",
    "s.add(3)\n",
    "s.add(2)\n",
    "s.add(2)\n",
    "s.add(2)\n",
    "print(s)"
   ]
  },
  {
   "cell_type": "markdown",
   "metadata": {},
   "source": [
    "2.5 Some common things to do with collections"
   ]
  },
  {
   "cell_type": "code",
   "execution_count": 11,
   "metadata": {},
   "outputs": [
    {
     "name": "stdout",
     "output_type": "stream",
     "text": [
      "8 4 2 3 4\n"
     ]
    }
   ],
   "source": [
    "a = \"a string\"\n",
    "b = [\"my\", \"second\", \"favorite\", \"list\"]\n",
    "c = (1, \"tuple\")\n",
    "d = {\"a\": \"b\", \"b\": 2, \"c\": False}\n",
    "e = {1,2,3,4,4,4,4,2,2,2,1}\n",
    "print(len(a), len(b), len(c), len(d), len(e))"
   ]
  },
  {
   "cell_type": "code",
   "execution_count": 12,
   "metadata": {},
   "outputs": [
    {
     "name": "stdout",
     "output_type": "stream",
     "text": [
      "trin\n",
      " stri\n",
      "['second', 'favorite', 'list']\n",
      "(1, 2)\n"
     ]
    }
   ],
   "source": [
    "# Important: slicing a sequence creates a new object.\n",
    "a = \"a string\"\n",
    "b = [\"my\", \"second\", \"favorite\", \"list\"]\n",
    "c = (1, 2,3,\"tuple\")\n",
    "print(a[3:7])\n",
    "print(a[1:-2])\n",
    "print(b[1:])\n",
    "print(c[:2])"
   ]
  },
  {
   "cell_type": "markdown",
   "metadata": {},
   "source": [
    "2.6 Iterating over a collection"
   ]
  },
  {
   "cell_type": "code",
   "execution_count": 13,
   "metadata": {},
   "outputs": [
    {
     "name": "stdout",
     "output_type": "stream",
     "text": [
      "1\n",
      "3\n",
      "5\n",
      "1\n",
      "2\n",
      "skip a few\n",
      "99\n",
      "100\n",
      "a\n",
      "b\n",
      "z\n",
      "a\n",
      "b\n",
      "r\n",
      "a\n",
      "c\n",
      "a\n",
      "d\n",
      "a\n",
      "b\n",
      "r\n",
      "a\n",
      "a\n",
      "b\n",
      "c\n",
      "a 96\n",
      "b 97\n",
      "c 98\n",
      "96\n",
      "97\n",
      "98\n"
     ]
    }
   ],
   "source": [
    "mylist = [1,3,5]\n",
    "mytuple = (1, 2, \"skip a few\", 99, 100)\n",
    "myset = {\"a\", \"b\", \"z\"}\n",
    "mystring = \"abracadabra\"\n",
    "mydict = {\"a\": 96, \"b\": 97, \"c\": 98}\n",
    "for item in mylist:\n",
    "    print(item)\n",
    "for item in mytuple:\n",
    "    print(item)\n",
    "for element in myset:\n",
    "    print(element)\n",
    "for character in mystring:\n",
    "    print(character)\n",
    "for key in mydict:\n",
    "    print(key)\n",
    "for key, value in mydict.items():\n",
    "    print(key, value)\n",
    "for value in mydict.values():\n",
    "    print(value)"
   ]
  },
  {
   "cell_type": "code",
   "execution_count": 14,
   "metadata": {},
   "outputs": [
    {
     "name": "stdout",
     "output_type": "stream",
     "text": [
      "1 11 21 31 41 51 61 71 81 91 "
     ]
    }
   ],
   "source": [
    "for i in range(10):\n",
    "    j = 10 * i + 1\n",
    "    print(j, end=\" \")"
   ]
  },
  {
   "cell_type": "markdown",
   "metadata": {},
   "source": [
    "2.7 Other Forms of Control Flow"
   ]
  },
  {
   "cell_type": "code",
   "execution_count": 15,
   "metadata": {},
   "outputs": [
    {
     "name": "stdout",
     "output_type": "stream",
     "text": [
      "This should be printed.\n"
     ]
    }
   ],
   "source": [
    "if 3 + 3 < 7:\n",
    "    print(\"This should be printed.\")\n",
    "if 2 ** 8 != 256:\n",
    "    print(\"This should not be printed.\")"
   ]
  },
  {
   "cell_type": "code",
   "execution_count": 16,
   "metadata": {},
   "outputs": [
    {
     "name": "stdout",
     "output_type": "stream",
     "text": [
      "This will print.\n"
     ]
    }
   ],
   "source": [
    "if False:\n",
    "    print(\"This is bad.\")\n",
    "else:\n",
    "    print(\"This will print.\")"
   ]
  },
  {
   "cell_type": "code",
   "execution_count": 17,
   "metadata": {},
   "outputs": [
    {
     "name": "stdout",
     "output_type": "stream",
     "text": [
      "1 2 4 8 16 32 64 "
     ]
    }
   ],
   "source": [
    "x = 1\n",
    "while x < 128:\n",
    "    print(x, end=\" \")\n",
    "    x = x * 2"
   ]
  },
  {
   "cell_type": "code",
   "execution_count": 18,
   "metadata": {},
   "outputs": [
    {
     "name": "stdout",
     "output_type": "stream",
     "text": [
      "You can’t do that!\n"
     ]
    }
   ],
   "source": [
    "x = \"not a number\"\n",
    "try:\n",
    "    f = float(x)\n",
    "except ValueError:\n",
    "    print(\"You can’t do that!\")"
   ]
  },
  {
   "cell_type": "code",
   "execution_count": 19,
   "metadata": {},
   "outputs": [
    {
     "name": "stdout",
     "output_type": "stream",
     "text": [
      "17\n",
      "NaNaNaNaNaNaNaNa batman\n"
     ]
    }
   ],
   "source": [
    "def foo(x, y):\n",
    "    return 8 * x + y\n",
    "print(foo(2, 1))\n",
    "print(foo(\"Na\", \" batman\"))"
   ]
  },
  {
   "cell_type": "code",
   "execution_count": 20,
   "metadata": {},
   "outputs": [
    {
     "name": "stdout",
     "output_type": "stream",
     "text": [
      "6\n",
      "6\n"
     ]
    }
   ],
   "source": [
    "def foo(x):\n",
    "    return x + 2\n",
    "def bar(somefunction):\n",
    "    return somefunction(4)\n",
    "print(bar(foo))\n",
    "somevariable = foo\n",
    "print(bar(somevariable))"
   ]
  },
  {
   "cell_type": "markdown",
   "metadata": {},
   "source": [
    "2.8 Modules and Imports"
   ]
  },
  {
   "cell_type": "code",
   "execution_count": 21,
   "metadata": {},
   "outputs": [
    {
     "name": "stdout",
     "output_type": "stream",
     "text": [
      "5\n",
      "0\n",
      "15\n"
     ]
    }
   ],
   "source": [
    "class twofunctions:\n",
    "    def f(x):\n",
    "        return 2 * x + 3\n",
    "    def g(x):\n",
    "        return x ** 2 - 1\n",
    "def f(x):\n",
    "    return x - 1\n",
    "print(twofunctions.f(1)) # Will print 5\n",
    "print(f(1)) # Will print 0\n",
    "print(twofunctions.g(4)) # Will print 15"
   ]
  }
 ],
 "metadata": {
  "kernelspec": {
   "display_name": "base",
   "language": "python",
   "name": "python3"
  },
  "language_info": {
   "codemirror_mode": {
    "name": "ipython",
    "version": 3
   },
   "file_extension": ".py",
   "mimetype": "text/x-python",
   "name": "python",
   "nbconvert_exporter": "python",
   "pygments_lexer": "ipython3",
   "version": "3.10.9"
  },
  "orig_nbformat": 4
 },
 "nbformat": 4,
 "nbformat_minor": 2
}
