{
 "cells": [
  {
   "cell_type": "markdown",
   "metadata": {},
   "source": [
    "Chapter 3\n",
    "Object-Oriented Programming<br><br>\n",
    "What do you mean by object-oriented programming?<br>\n",
    "Object-oriented programming (OOP) is a style of programming characterized by the identification of classes of objects closely linked with the methods (functions) with which they are associated. It also includes ideas of inheritance of attributes and methods.<br><br>\n",
    "Class − *A user-defined prototype for an object that defines a set of attributes that characterize any object of the class.*"
   ]
  },
  {
   "cell_type": "code",
   "execution_count": 1,
   "metadata": {},
   "outputs": [
    {
     "name": "stdout",
     "output_type": "stream",
     "text": [
      "<class 'type'>\n"
     ]
    }
   ],
   "source": [
    "class newClass:\n",
    "    def __init__(self):\n",
    "        pass\n",
    "print(type(newClass))"
   ]
  },
  {
   "cell_type": "code",
   "execution_count": 2,
   "metadata": {},
   "outputs": [
    {
     "name": "stdout",
     "output_type": "stream",
     "text": [
      "<class 'type'>\n"
     ]
    }
   ],
   "source": [
    "print(type(type))"
   ]
  },
  {
   "cell_type": "code",
   "execution_count": 3,
   "metadata": {},
   "outputs": [
    {
     "name": "stdout",
     "output_type": "stream",
     "text": [
      "<class '__main__.newClass'>\n"
     ]
    }
   ],
   "source": [
    "obj=newClass()\n",
    "print(type(obj))"
   ]
  },
  {
   "cell_type": "markdown",
   "metadata": {},
   "source": [
    "Object - *An object is an instance of a class*"
   ]
  },
  {
   "cell_type": "code",
   "execution_count": 4,
   "metadata": {},
   "outputs": [
    {
     "name": "stdout",
     "output_type": "stream",
     "text": [
      "<class 'list'>\n",
      "True\n",
      "False\n"
     ]
    }
   ],
   "source": [
    "myList=[]\n",
    "print(type(myList))\n",
    "print(isinstance(myList, list))\n",
    "print(isinstance(myList, str))"
   ]
  },
  {
   "cell_type": "code",
   "execution_count": 5,
   "metadata": {},
   "outputs": [
    {
     "name": "stdout",
     "output_type": "stream",
     "text": [
      "<class 'function'>\n"
     ]
    }
   ],
   "source": [
    "def fun():\n",
    "    pass\n",
    "print(type(fun))"
   ]
  },
  {
   "cell_type": "code",
   "execution_count": 6,
   "metadata": {},
   "outputs": [
    {
     "name": "stdout",
     "output_type": "stream",
     "text": [
      "<class 'function'>\n",
      "<class 'generator'>\n",
      "0\n",
      "1\n",
      "2\n",
      "3\n",
      "4\n"
     ]
    }
   ],
   "source": [
    "def gen_fun():\n",
    "    for i in range(5):\n",
    "        yield i\n",
    "print(type(gen_fun))\n",
    "print(type(gen_fun()))\n",
    "ret=gen_fun()\n",
    "print(next(ret))\n",
    "print(next(ret))\n",
    "print(next(ret))\n",
    "print(next(ret))\n",
    "print(next(ret))"
   ]
  },
  {
   "cell_type": "code",
   "execution_count": 7,
   "metadata": {},
   "outputs": [
    {
     "name": "stdout",
     "output_type": "stream",
     "text": [
      "<class 'generator'>\n",
      "Hello world!!\n",
      "World Hello!!\n"
     ]
    }
   ],
   "source": [
    "def gen_fun():\n",
    "\tyield \"Hello world!!\"\n",
    "\tyield \"World Hello!!\"\n",
    "\n",
    "\n",
    "obj = gen_fun()\n",
    "\n",
    "print(type(obj))\n",
    "\n",
    "print(next(obj))\n",
    "print(next(obj))"
   ]
  },
  {
   "cell_type": "markdown",
   "metadata": {},
   "source": [
    "3.1 Simple Example"
   ]
  },
  {
   "cell_type": "code",
   "execution_count": 8,
   "metadata": {},
   "outputs": [
    {
     "name": "stdout",
     "output_type": "stream",
     "text": [
      "5.0\n",
      "(6, 10)\n",
      "(3, 4, 3, 6)\n",
      "True\n"
     ]
    }
   ],
   "source": [
    "u=(3, 4)\n",
    "v=(3, 6)\n",
    "\n",
    "def add(a, b):\n",
    "    return (a[0] + b[0], a[1] + b[1])\n",
    "def subtract(a,b):\n",
    "    return (a[0] - b[0], a[1] - b[1])\n",
    "def dot(a, b):\n",
    "    return (a[0] * b[0] + a[1] * b[1])\n",
    "def norm(a):\n",
    "    return (a[0] * a[0] + a[1] * a[1]) ** 0.5\n",
    "def isvertical(a):\n",
    "    return a[0] == 0\n",
    "print(norm(u))\n",
    "print(add(u,v))\n",
    "print(u + v)\n",
    "print(isvertical(subtract(v, u)))"
   ]
  },
  {
   "cell_type": "markdown",
   "metadata": {},
   "source": [
    "Method- *A function defined in a class is called a **Method**.*<br>\n",
    "The *__ init __* method is called a initializer."
   ]
  },
  {
   "cell_type": "code",
   "execution_count": 9,
   "metadata": {},
   "outputs": [
    {
     "name": "stdout",
     "output_type": "stream",
     "text": [
      "5.0\n",
      "13.0\n"
     ]
    }
   ],
   "source": [
    "class Vector:\n",
    "    def __init__(self, x, y):\n",
    "        self.x = x\n",
    "        self.y = y\n",
    "    def norm(self):\n",
    "        return (self.x ** 2 + self.y ** 2) ** 0.5\n",
    "u = Vector(3,4)\n",
    "print(u.norm())\n",
    "print(Vector(5,12).norm())"
   ]
  },
  {
   "cell_type": "code",
   "execution_count": 10,
   "metadata": {},
   "outputs": [
    {
     "name": "stdout",
     "output_type": "stream",
     "text": [
      "<__main__.Vector object at 0x7fb5ce0df610>\n"
     ]
    }
   ],
   "source": [
    "# vector addition\n",
    "class Vector:\n",
    "    def __init__(self, x, y):\n",
    "        self.x = x\n",
    "        self.y = y\n",
    "    def norm(self):\n",
    "        return (self.x ** 2 + self.y ** 2) ** 0.5\n",
    "    def __add__(self, other):\n",
    "        newx = self.x + other.x\n",
    "        newy = self.y + other.y\n",
    "        return Vector(newx, newy)\n",
    "u = Vector(3,4)\n",
    "v = Vector(3,6)\n",
    "print(u + v)"
   ]
  },
  {
   "cell_type": "code",
   "execution_count": 11,
   "metadata": {},
   "outputs": [
    {
     "name": "stdout",
     "output_type": "stream",
     "text": [
      "(6.000000, 10.000000)\n"
     ]
    }
   ],
   "source": [
    "# vector addition with printing actual result values\n",
    "class Vector:\n",
    "    def __init__(self, x, y):\n",
    "        try:\n",
    "            self.x = float(x)\n",
    "            self.y = float(y)\n",
    "        except ValueError:\n",
    "            self.x = 0.0\n",
    "            self.y = 0.0\n",
    "    def norm(self):\n",
    "        return (self.x ** 2 + self.y ** 2) ** 0.5\n",
    "    def __add__(self, other):\n",
    "        newx = self.x + other.x\n",
    "        newy = self.y + other.y\n",
    "        return Vector(newx, newy)\n",
    "    def __str__(self):\n",
    "        return \"(%f, %f)\" %(self.x, self.y)     # we have to specify ourselves\n",
    "u = Vector(3,4)\n",
    "v = Vector(3,6)\n",
    "print(u + v)"
   ]
  },
  {
   "cell_type": "markdown",
   "metadata": {},
   "source": [
    "3.2 Enacpsulation and the public interface of a class<br><br>\n",
    "Encapsulation as two different but related, meanings:\n",
    "- Combining data and methods that operate on that data.(i.e., **classes**)\n",
    "- The boundary between the inside and outside of the class, specifying what is visible to the user of the class(i.e., access specifiers ex: public, private etc.,)"
   ]
  },
  {
   "cell_type": "code",
   "execution_count": 12,
   "metadata": {},
   "outputs": [
    {
     "name": "stdout",
     "output_type": "stream",
     "text": [
      "The Dairy is called Don't read this!!!\n"
     ]
    }
   ],
   "source": [
    "#Example\n",
    "\n",
    "class Diary:\n",
    "    def __init__(self, title):\n",
    "        self.title=title\n",
    "        self._entries=[]\n",
    "    \n",
    "    def addEntry(self, entry):\n",
    "        self._entries.append(entry)\n",
    "    \n",
    "    def _lastEntry(self):\n",
    "        return self._entries[-1]\n",
    "    \n",
    "myDiary=Diary(\"Don't read this!!!\")\n",
    "myDiary.addEntry(\"It was a good day.\")\n",
    "print(\"The Dairy is called\",myDiary.title)"
   ]
  },
  {
   "cell_type": "markdown",
   "metadata": {},
   "source": [
    "3.3 Inheritance and *is a* relationship<br>\n",
    "Inheritance means is a<br>\n",
    "If classB extends classA then classB is a object of classA object."
   ]
  },
  {
   "cell_type": "code",
   "execution_count": 13,
   "metadata": {},
   "outputs": [],
   "source": [
    "#Example of classes which can be implemented by using inheritance\n",
    "\n",
    "class Triangle:\n",
    "    def __init__(self, points):\n",
    "        self._sides = 3\n",
    "        self._points = list(points)\n",
    "        if len(self._points) != 3:\n",
    "            raise ValueError(\"Wrong number of points.\")\n",
    "    \n",
    "    def sides(self):\n",
    "        return 3\n",
    "    \n",
    "    def __str__(self):\n",
    "        return \"I'm a triangle.\"\n",
    "    \n",
    "    \n",
    "class Square:\n",
    "    def __init_(self, points):\n",
    "        self._sides = 4\n",
    "        self._points = points\n",
    "        if len(self._points) != 3:\n",
    "            raise ValueError(\"Wrong number of points.\")\n",
    "            \n",
    "    def sides(self):\n",
    "        return 4\n",
    "    \n",
    "    def __str__(self):\n",
    "        return \"I'm so square.\""
   ]
  },
  {
   "cell_type": "code",
   "execution_count": 14,
   "metadata": {},
   "outputs": [
    {
     "name": "stdout",
     "output_type": "stream",
     "text": [
      "I'm a triangle. \n",
      "I have 3 sides\n"
     ]
    }
   ],
   "source": [
    "#Example for inheritance\n",
    "\n",
    "class polygon:\n",
    "    def __init__(self, sides, points):\n",
    "        self._sides=sides\n",
    "        self._points=list(points)\n",
    "        if len(self._points) !=self._sides:\n",
    "            raise ValueError(\"Wrong number of points\")\n",
    "        \n",
    "    def sides(self):\n",
    "        return self._sides\n",
    "    \n",
    "\n",
    "class triangle(polygon):\n",
    "    def __init__(self, points):\n",
    "        polygon.__init__(self, 3, points)\n",
    "\n",
    "    def __str__(self):\n",
    "        return \"I'm a triangle.\"\n",
    "    \n",
    "class square(polygon):\n",
    "    def __init__(self, points):\n",
    "        polygon.__init__(self, 4, points)\n",
    "    \n",
    "    def __str__(self):\n",
    "        return \"I'm so square.\"\n",
    "\n",
    "tri=triangle([1,2,3])\n",
    "print(tri, \"\\nI have\", tri._sides, \"sides\")"
   ]
  },
  {
   "cell_type": "markdown",
   "metadata": {},
   "source": [
    "Notice that the class definitions of Triangle and Square now indicates the Polygon class in parentheses i.e., **Inheritance**.<br>\n",
    "Now triangle and square are the subclass or child class of the Polygon class which makes the Polygon class as the super class or parent class."
   ]
  },
  {
   "cell_type": "markdown",
   "metadata": {},
   "source": [
    "3.4 Duck Typing<br>\n",
    "This basically means that you can use an object based on whether it supports a certain set of methods or attriutes, rather than checking it's actual type. This allows for more flexible and dynamic code."
   ]
  },
  {
   "cell_type": "code",
   "execution_count": 15,
   "metadata": {},
   "outputs": [],
   "source": [
    "#Example\n",
    "\n",
    "class PolygonCollection:\n",
    "    def __init__(self):\n",
    "        self._triangles = []\n",
    "        self._squares = []\n",
    "        \n",
    "    def add(self, polygon):\n",
    "        if polygon.side() == 3:\n",
    "            self._triangles.append(polygon)\n",
    "        if polygon.side() == 4:\n",
    "            self._squares.append(polygon)"
   ]
  },
  {
   "cell_type": "markdown",
   "metadata": {},
   "source": [
    "3.5 Composition and \"has a\" relationships<br>\n",
    "- Composistion means \"has a\".\n",
    "- It is when one class stores an instance of another class."
   ]
  },
  {
   "cell_type": "code",
   "execution_count": 16,
   "metadata": {},
   "outputs": [
    {
     "name": "stdout",
     "output_type": "stream",
     "text": [
      "100\n"
     ]
    }
   ],
   "source": [
    "#Example\n",
    "\n",
    "class MyLimitedList:\n",
    "    def __init__(self):\n",
    "        self._L = []\n",
    "        \n",
    "    def append(self, item):\n",
    "        self._L.append(item)\n",
    "      \n",
    "    def __getitem__(self, index):    #this method will allow to use the square bracket notaion with our class.\n",
    "        return self._L[index]\n",
    "    \n",
    "L=MyLimitedList()\n",
    "L.append(1)\n",
    "L.append(10)\n",
    "L.append(100)\n",
    "print(L[2])"
   ]
  }
 ],
 "metadata": {
  "kernelspec": {
   "display_name": "Python 3 (ipykernel)",
   "language": "python",
   "name": "python3"
  },
  "language_info": {
   "codemirror_mode": {
    "name": "ipython",
    "version": 3
   },
   "file_extension": ".py",
   "mimetype": "text/x-python",
   "name": "python",
   "nbconvert_exporter": "python",
   "pygments_lexer": "ipython3",
   "version": "3.11.4"
  }
 },
 "nbformat": 4,
 "nbformat_minor": 2
}
