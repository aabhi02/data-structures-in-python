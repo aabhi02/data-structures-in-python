{
 "cells": [
  {
   "cell_type": "markdown",
   "metadata": {},
   "source": [
    "Chapter 19 Priority Queues<br>\n",
    "\n",
    "19.1 The Priority Queue ADT<br>\n",
    "\n",
    "The Priority Queue ADT is a data type that stores a collection of items\n",
    "with priorities (not necessarily unique) that supports the following operations.\n",
    "- insert(item, priority) - Add item with the given priority.\n",
    "- findmin() - Return the item with the minimum priority. If there\n",
    "are multiple items with the minimum priority, ties may be broken\n",
    "arbitrarily.\n",
    "- removemin() - Remove and return the item with the minimum priority. Ties are broken arbitrarily."
   ]
  },
  {
   "cell_type": "markdown",
   "metadata": {},
   "source": [
    "19.2 Using a list"
   ]
  },
  {
   "cell_type": "code",
   "execution_count": 1,
   "metadata": {},
   "outputs": [],
   "source": [
    "class SimpleListPQ:\n",
    "    def __init__(self):\n",
    "        self._L = []\n",
    "\n",
    "    def insert(self, item, priority):\n",
    "        self._L.append((item, priority))\n",
    "\n",
    "    def findmin(self):\n",
    "        return min(self._L, key = lambda x : x[1])[0]\n",
    "    \n",
    "    def removemin(self):\n",
    "        item, priority = min(self._L, key = lambda x : x[1])\n",
    "        self._L.remove((item, priority))\n",
    "        return item"
   ]
  },
  {
   "cell_type": "code",
   "execution_count": 2,
   "metadata": {},
   "outputs": [],
   "source": [
    "# refactored code using Entry class\n",
    "\n",
    "class Entry:\n",
    "    def __init__(self, item, priority):\n",
    "        self.item = item\n",
    "        self.priority = priority\n",
    "    \n",
    "    def __lt__(self, other):\n",
    "        return self.priority < other.priority"
   ]
  },
  {
   "cell_type": "code",
   "execution_count": 3,
   "metadata": {},
   "outputs": [],
   "source": [
    "from ds2.priorityqueue import Entry\n",
    "\n",
    "class UnsortedListPQ:\n",
    "    def __init__(self):\n",
    "        self._entries = []\n",
    "\n",
    "    def insert(self, item, priority):\n",
    "        self._entries.append(Entry(item, priority))\n",
    "\n",
    "    def findmin(self):\n",
    "        return min(self._entries).item\n",
    "\n",
    "    def removemin(self):\n",
    "        entry = min(self._entries)\n",
    "        self._entries.remove(entry)\n",
    "        return entry.item"
   ]
  },
  {
   "cell_type": "code",
   "execution_count": 4,
   "metadata": {},
   "outputs": [],
   "source": [
    "# improving the previous code\n",
    "\n",
    "from ds2.priorityqueue import Entry\n",
    "\n",
    "class SortedListPQ:\n",
    "    def __init__(self):\n",
    "        self._entries = []\n",
    "\n",
    "    def insert(self, item, priority):\n",
    "        self._entries.append(Entry(item, priority))\n",
    "        self._entries.sort(reverse = True)\n",
    "        \n",
    "    def findmin(self):\n",
    "        return self._entries[-1].item\n",
    "    \n",
    "    def removemin(self):\n",
    "        return self._entries.pop().item"
   ]
  },
  {
   "cell_type": "code",
   "execution_count": 5,
   "metadata": {},
   "outputs": [
    {
     "name": "stdout",
     "output_type": "stream",
     "text": [
      "['cheese', 'bread', 'ham']\n"
     ]
    }
   ],
   "source": [
    "S = SortedListPQ()\n",
    "S.insert(\"ham\", 3)\n",
    "S.insert(\"cheese\", 1)\n",
    "S.insert(\"bread\", 2)\n",
    "print([S.removemin() for i in [1,2,3]])"
   ]
  },
  {
   "cell_type": "markdown",
   "metadata": {},
   "source": [
    "19.3 Heaps<br>\n",
    "\n",
    "The data structure we’ll use for an efficient priority queue is called a heap.\n",
    "Heaps are almost always used to implement a priority queue so that as you\n",
    "look at other sources, you might not see a distinction between the two ideas.\n",
    "As we are using it, the priority queue is the ADT, the heap is the data\n",
    "structure.<br>\n",
    "\n",
    "Matters are complicated by two other vocabulary issues. First, there are\n",
    "many different kinds of heaps. We’ll study just one example, the so-called\n",
    "binary heap. Second, the usual word used for the priority in a heap is ”key”.\n",
    "This can be confusing, because unlike keys in mapping data structures,\n",
    "there is no requirement that priorities be unique. We will stick with the\n",
    "word ”priority” despite the usual conventions in order to keep these ideas\n",
    "separate.<br>\n",
    "\n",
    "We can think of a binary heap as a binary tree that is arranged so that\n",
    "smaller priorities are above larger priorities. The name is apt as any good\n",
    "heap of stuff should have the big things on the bottom and small things on\n",
    "the top. For any tree with nodes that have priorities, we say that the tree\n",
    "is heap-ordered if for every node, the priority of its children are at least\n",
    "as large as the priority of the node itself. This naturally implies that the\n",
    "minimum priority is at the root."
   ]
  },
  {
   "cell_type": "markdown",
   "metadata": {},
   "source": [
    "19.4 Storing a tree in a list<br>\n",
    "\n",
    "For a node at index i, its left child will be at index 2 * i + 1 and\n",
    "the right child will be at index 2 * i + 2. This means that the parent\n",
    "of the node at index i is at index (i-1) // 2. This mapping of nodes to\n",
    "indices puts the root at index 0 and the rest of the nodes appear level by\n",
    "level from left-to-right, top-to-bottom. Using this mapping, we say a list\n",
    "is heap-ordered if the corresponding binary tree is heap-ordered. This is\n",
    "equivalent to saying that for all i > 0, the priority of the entry at index i is\n",
    "greater than or equal to the priority at index (i − 1)//2."
   ]
  },
  {
   "cell_type": "code",
   "execution_count": 6,
   "metadata": {},
   "outputs": [],
   "source": [
    "from ds2.priorityqueue import Entry\n",
    "\n",
    "class HeapPQ:\n",
    "    def __init__(self):\n",
    "        self._entries = []\n",
    "\n",
    "    def insert(self, item, priority):\n",
    "        self._entries.append(Entry(item, priority))\n",
    "        self._upheap(len(self._entries) - 1)\n",
    "\n",
    "    def _parent(self, i):\n",
    "        return (i - 1) // 2\n",
    "    \n",
    "    def _children(self, i):\n",
    "        left = 2 * i + 1\n",
    "        right = 2 * i + 2\n",
    "        return range(left, min(len(self._entries), right + 1))\n",
    "    \n",
    "    def _swap(self, a, b):\n",
    "        L = self._entries\n",
    "        L[a], L[b] = L[b], L[a]\n",
    "\n",
    "    def _upheap(self, i):\n",
    "        L = self._entries\n",
    "        parent = self._parent(i)\n",
    "        if i > 0 and L[i] < L[parent]:\n",
    "            self._swap(i, parent)\n",
    "            self._upheap(parent)\n",
    "\n",
    "    def findmin(self):\n",
    "        return self._entries[0].item\n",
    "    \n",
    "    def removemin(self):\n",
    "        L = self._entries\n",
    "        item = L[0].item\n",
    "        L[0] = L[-1]\n",
    "        L.pop()\n",
    "        self._downheap(0)\n",
    "        return item\n",
    "    \n",
    "    def _downheap(self, i):\n",
    "        L = self._entries\n",
    "        children = self._children(i)\n",
    "        if children:\n",
    "            child = min(children, key = lambda x:L[x])\n",
    "            if L[child] <L[i]:\n",
    "                self._swap(i, child)\n",
    "                self._downheap(child)\n",
    "\n",
    "    def __len__(self):\n",
    "        return len(self._entries)"
   ]
  },
  {
   "cell_type": "markdown",
   "metadata": {},
   "source": [
    "19.5 Building a Heap from scratch, heapify<br>\n",
    "\n",
    "Just using the public interface, one could easily construct a HeapPQ from a\n",
    "list of item-priority pairs. For example, the following code would work just\n",
    "fine."
   ]
  },
  {
   "cell_type": "code",
   "execution_count": 7,
   "metadata": {},
   "outputs": [],
   "source": [
    "pq = HeapPQ()\n",
    "\n",
    "pairs = [(10, 10), (2, 2), (30, 30), (4,4)]\n",
    "for item, priority in pairs:\n",
    "    pq.insert(item, priority)"
   ]
  },
  {
   "cell_type": "markdown",
   "metadata": {},
   "source": [
    "The insert method takes O(log n) time, so the total running time for\n",
    "this approach is O(n log n) time.<br>\n",
    "\n",
    "Perhaps surprisingly, we can construct the HeapPQ in linear time. We\n",
    "call this heapifying a list. We will exploit the downheap method that we\n",
    "have already written. The code is deceptively simple.<br>"
   ]
  },
  {
   "cell_type": "code",
   "execution_count": 8,
   "metadata": {},
   "outputs": [],
   "source": [
    "def _heapify(self):\n",
    "    n = len(self._entries)\n",
    "    for i in reversed(range(n)):\n",
    "        self._downheap(i)"
   ]
  },
  {
   "cell_type": "markdown",
   "metadata": {},
   "source": [
    "Look at the difference between the heapify code above and the heapify slower\n",
    "code below. The former works from the end and downheaps every entry and\n",
    "the latter starts at the beginning and upheaps every entry. Both are correct,\n",
    "but one is faster."
   ]
  },
  {
   "cell_type": "code",
   "execution_count": 9,
   "metadata": {},
   "outputs": [],
   "source": [
    "def _heapify_slower(self):\n",
    "    n = len(self._entries)\n",
    "    for i in range(n):\n",
    "        self._upheap(i)"
   ]
  },
  {
   "cell_type": "markdown",
   "metadata": {},
   "source": [
    "They may seem to be the same, but they are not. To see why, we have to\n",
    "look a little closer at the running time of upheap and downheap. Consider\n",
    "the tree perspective of the list. For upheap, the running time depends on\n",
    "the depth of the starting node. For downheap, the running time depends on\n",
    "the height of the subtree rooted at the starting node. Looking at a complete\n",
    "binary tree, half of the nodes are leaves and so downheap will take constant\n",
    "time and upheap will take O(log n) time. Thus, heapify slower will take\n",
    "at least $\\frac{n}{2} log_{2} n = O(n log n)$ time.<br>\n",
    "\n",
    "On the other hand, to analyze heapify, we have to add up the heights of\n",
    "all the nodes in a complete binary tree. Formally, this will be $n\\sum^{log_{2}n}_{i=1}  i/2^{i}$ .\n",
    "There is a cute trick to bound this sum. Simply observe that if from every\n",
    "node in the tree, we take a path that goes left on the first step and right for\n",
    "every step thereafter, no two paths will overlap. This means that the sum\n",
    "of the lengths of these paths (which is also to the sum of the heights) is at\n",
    "most the total number of edges, n − 1. Thus, heapify runs in O(n) time."
   ]
  },
  {
   "cell_type": "markdown",
   "metadata": {},
   "source": [
    "19.6 Implicit and Changing Priorities"
   ]
  },
  {
   "cell_type": "code",
   "execution_count": 1,
   "metadata": {},
   "outputs": [],
   "source": [
    "from ds2.priorityqueue import Entry, HeapPQ\n",
    "\n",
    "class   PriorityQueue(HeapPQ):\n",
    "    def __init__(self,\n",
    "                 items = (),\n",
    "                 entries = (),\n",
    "                 key = lambda x : x):\n",
    "        self._key = key\n",
    "        self._entries = [Entry(i, p) for i, p in entries]\n",
    "        self._entries.extend([Entry(i, key(i)) for i in items])\n",
    "        self._itemmap = {entry.item : index for index, entry in enumerate(self._entries)}\n",
    "        self._heapify()\n",
    "\n",
    "    def insert(self, item, priorirty=None):\n",
    "        if priorirty is None:\n",
    "            priorirty = self._key(item)\n",
    "        index = len(self._entries)\n",
    "        self._entries.append(Entry(item, priorirty))\n",
    "        self._itemmap[item] = index\n",
    "        self._upheap(index)\n",
    "\n",
    "    def _swap(self, a, b):\n",
    "        L = self._entries\n",
    "        va = L[a].item\n",
    "        vb = L[b].item\n",
    "        self._itemmap[va] = b\n",
    "        self._itemmap[vb] = a\n",
    "        L[a], L[b] = L[b], L[a]\n",
    "    \n",
    "    def changepriority(self, item, priority = None):\n",
    "        if priority is None:\n",
    "            priority = self._key(item)\n",
    "        i = self._itemmap[item]\n",
    "        self._entries[i].priority = priority\n",
    "        # Assuming the tree is heap ordered, only one will have an effect.\n",
    "        self._upheap(i)\n",
    "        self._downheap(i)\n",
    "\n",
    "    def removemin(self):\n",
    "        L = self._entries\n",
    "        item = L[0].item\n",
    "        self._swap(0, len(L) - 1)\n",
    "        del self._itemmap[item]\n",
    "        L.pop()\n",
    "        self._downheap(0)\n",
    "        return item"
   ]
  },
  {
   "cell_type": "code",
   "execution_count": 2,
   "metadata": {},
   "outputs": [
    {
     "name": "stdout",
     "output_type": "stream",
     "text": [
      "[9, 8, 7, 6, 5, 4, 3, 2, 1, 0]\n"
     ]
    }
   ],
   "source": [
    "maxheap = PriorityQueue(key = lambda x: -x)\n",
    "n = 10\n",
    "for i in range(n):\n",
    "    maxheap.insert(i) #no need to specify the priority\n",
    "# These should print in decreasing order.\n",
    "print([maxheap.removemin() for i in range(n)])"
   ]
  },
  {
   "cell_type": "markdown",
   "metadata": {},
   "source": [
    "19.7 Random Access<br>\n",
    "\n",
    "Storing the map from items to their indices allows some other operations\n",
    "on the heap. For example, we could remove an arbitrary item by using the\n",
    "same approach as in removemin. Instead of working with index 0 (the top\n",
    "of the heap), we instead find the index of the item to remove. The following\n",
    "code gives the factored version of both removemin and remove."
   ]
  },
  {
   "cell_type": "code",
   "execution_count": 3,
   "metadata": {},
   "outputs": [],
   "source": [
    "def _remove_at_index(self, index):\n",
    "    L = self._entries\n",
    "    self._swap(index, len(L) - 1)\n",
    "    del self._itemmap[L[-1].item]\n",
    "    L.pop()\n",
    "    self._downheap(index)\n",
    "\n",
    "def removemin(self):\n",
    "    item = self._entries[0].item\n",
    "    self._remove_at_index(0)\n",
    "    return item\n",
    "\n",
    "def remove(self, item):\n",
    "    self.remove_at_index(self._itemmap[item])"
   ]
  },
  {
   "cell_type": "markdown",
   "metadata": {},
   "source": [
    "19.8 Iterating over a Priority Queue"
   ]
  },
  {
   "cell_type": "code",
   "execution_count": 4,
   "metadata": {},
   "outputs": [],
   "source": [
    "def __iter__(self):\n",
    "    return self\n",
    "\n",
    "def __next__(self):\n",
    "    if len(self) > 0:\n",
    "        return self.removemin()\n",
    "    else:\n",
    "        raise StopIteration"
   ]
  },
  {
   "cell_type": "markdown",
   "metadata": {},
   "source": [
    "19.9 Heapsort"
   ]
  },
  {
   "cell_type": "code",
   "execution_count": 5,
   "metadata": {},
   "outputs": [
    {
     "name": "stdout",
     "output_type": "stream",
     "text": [
      "before heapsort: [3, 2, 4, 1, 6, 5]\n",
      "after heapsort:  [1, 2, 3, 4, 5, 6]\n"
     ]
    }
   ],
   "source": [
    "from ds2.priorityqueue import PriorityQueue\n",
    "\n",
    "def heapsort(L):\n",
    "    H = PriorityQueue(L)\n",
    "    L[:] = [item for item in H]\n",
    "\n",
    "L = [3,2,4,1, 6, 5]\n",
    "print(\"before heapsort:\", L)\n",
    "heapsort(L)\n",
    "print(\"after heapsort: \", L)"
   ]
  }
 ],
 "metadata": {
  "kernelspec": {
   "display_name": "Python 3",
   "language": "python",
   "name": "python3"
  },
  "language_info": {
   "codemirror_mode": {
    "name": "ipython",
    "version": 3
   },
   "file_extension": ".py",
   "mimetype": "text/x-python",
   "name": "python",
   "nbconvert_exporter": "python",
   "pygments_lexer": "ipython3",
   "version": "3.10.12"
  },
  "orig_nbformat": 4
 },
 "nbformat": 4,
 "nbformat_minor": 2
}
