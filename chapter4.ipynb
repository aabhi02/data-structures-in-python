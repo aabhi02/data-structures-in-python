{
 "cells": [
  {
   "cell_type": "markdown",
   "id": "148da919",
   "metadata": {},
   "source": [
    "Chapter 4 Testing<br><br>\n",
    "\n",
    "Two things to keep in mind when you want to test your code:\n",
    "1. Dose it work? does the code do what it's supposed to do?\n",
    "2. Dose it still work? even after the changes you made which has not caused the other part of the code to break?"
   ]
  },
  {
   "cell_type": "markdown",
   "id": "9aeaff4b",
   "metadata": {},
   "source": [
    "4.1 Writing Tests<br>\n",
    "Always test the behaviour of your code not the implementation."
   ]
  },
  {
   "cell_type": "code",
   "execution_count": 1,
   "id": "fb7dc90d",
   "metadata": {},
   "outputs": [],
   "source": [
    "class Doubler:\n",
    "    def __init__(self, n):\n",
    "        self._n = 2*n\n",
    "        \n",
    "    def n(self):\n",
    "        return self._n\n",
    "    \n",
    "if __name__ == \"__main__\":\n",
    "    x = Doubler(5)\n",
    "    assert(x.n() == 10)\n",
    "    y=Doubler(-4)\n",
    "    assert(y.n() == -8)"
   ]
  },
  {
   "cell_type": "markdown",
   "id": "52594ab1",
   "metadata": {},
   "source": [
    "The assert will raise an error if the statement inside is \"False\" otherwise the program just continue executing.\n",
    "Deleting tests after the code execution is a bad idea, because your code is going to change, and you will want to know if a change breaks something that used to work.\n",
    "\n",
    "The line if __ name __ == \"__ main __\": makes sure that the tests will not run when the module is imported from somewhere else."
   ]
  },
  {
   "cell_type": "markdown",
   "id": "90506a3d",
   "metadata": {},
   "source": [
    "4.2 Unit Testing with unittest<br>\n",
    "There is a standard package called unittest for writing unit tests in Python. The package provides a standard way to write the tests, the ability ti run the tests all together, anf the ability to see the results of the tests in a clear format.<br><br>\n",
    "\n",
    "\n",
    "Steps to write unit tests:<br>\n",
    "1. import unittest package.\n",
    "2. import the code you want to test.\n",
    "3. the tests will be the methods in a class that extends the unittest.TestCase class.\n",
    "4. every test method must start with the word \"test\" else it will not run.\n",
    "5. run the tests by calling the unittest.main function."
   ]
  },
  {
   "cell_type": "code",
   "execution_count": null,
   "id": "590c6bf2",
   "metadata": {},
   "outputs": [],
   "source": [
    "#Example with a hypothitical \"DayOfTheWeek\" class \n",
    "\n",
    "import unittest\n",
    "import dayoftheweek import DayOfTheWeek\n",
    "\n",
    "class TestDayOfTheWeek(unittest.TestCase):\n",
    "    def testinitwithabbreviation(self):\n",
    "        d = DayOfTheWeek('F')\n",
    "        self.assertEquals(d.name(), \"Friday\")\n",
    "        \n",
    "        d = DayOfTheWeek(\"Th\")\n",
    "        self.assertEquals(d.name(), \"Thursday\")\n",
    "        \n",
    "unittest.main()"
   ]
  },
  {
   "cell_type": "markdown",
   "id": "36560d08",
   "metadata": {},
   "source": [
    "4.3 Test-Driven Development<br>\n",
    "Writing tests before you write the code<br>\n",
    "Three phases of the testing process:\n",
    "1. **Red:** The tests fail.\n",
    "2. **Green:** The tests pass.\n",
    "3. **Refactor:** clean your code, remove duplicates."
   ]
  },
  {
   "cell_type": "code",
   "execution_count": 2,
   "id": "e6694ffb",
   "metadata": {},
   "outputs": [],
   "source": [
    "#Example code with minor duplication\n",
    "\n",
    "L1=range(10)\n",
    "L2=range(5)\n",
    "avg1 = sum(L1)/len(L1)\n",
    "avg2 = sum(L2)/len(L2)"
   ]
  },
  {
   "cell_type": "code",
   "execution_count": 3,
   "id": "8c7184a2",
   "metadata": {},
   "outputs": [],
   "source": [
    "#Example code updated before refactoring\n",
    "\n",
    "if len(L1) == 0:\n",
    "    avg1 = 0\n",
    "else:\n",
    "    avg1 = sum(L1)/len(L1)\n",
    "    \n",
    "if len(L2) == 0:\n",
    "    avg2 = 0\n",
    "else:\n",
    "    avg2 = sum(L2)/len(L2)"
   ]
  },
  {
   "cell_type": "code",
   "execution_count": 4,
   "id": "0c000833",
   "metadata": {},
   "outputs": [],
   "source": [
    "#Example code refactored\n",
    "\n",
    "def avg(L):\n",
    "    if len(L) == 0:\n",
    "        return 0\n",
    "    else:\n",
    "        return sum(L)/len(L)\n",
    "    \n",
    "avg1 = avg(L1)\n",
    "avg2 = avg(L2)"
   ]
  },
  {
   "cell_type": "markdown",
   "id": "beb05364",
   "metadata": {},
   "source": [
    "4.4 What to Test<br>\n",
    "Think about the problem you are trying to solve. Think about the methods you are writing. Ask yourself, What should happen when I run this code?. Also ask yourself, How do I want to use this code?\n",
    "\n",
    "1. Write tests that use the code the way it ought to be used.\n",
    "2. Then write tests that use the code incorrectly to test that your code fails gracefully. Does it give clear error messages?\n",
    "3. Test the edge cases, those tricky cases that may rarely come up. Try to break your own code.\n",
    "4. Turn bugs into tests. A bug or an incorrect behavior can reappear after you fix it. You want to catch it when it does. Sometimes you notice a bug when a different test fails. Write a specific test to reveal the bug, then fix it.\n",
    "5. Test the public interface. Usually you don’t need to or want to test the private methods of a class. You should treat the test code as a user of the class and it should make no assumptions about private attributes. This way, if a private gets renamed or refactored, you don’t have to change the tests."
   ]
  },
  {
   "cell_type": "markdown",
   "id": "06da2ce2",
   "metadata": {},
   "source": [
    "4.5 Testing and Object-Oriented Design<br>\n",
    "In object-oriented design, we divide the code into classes. These classes have certain relationships sometimes induced by inheritance or composition. The classes have public methods. We call these public methods the interface to the class.<br>\n",
    "To start a design, we look at the problem and identify nouns (classes) and verbs (methods). In our description, we express what should happen. Often these expectations are expressed in if...then language, i.e., If I call this method with these parameters, then this will happen. A unit test will encode this expectation. It will check that the actual behavior of the code matches the expected behavior."
   ]
  }
 ],
 "metadata": {
  "kernelspec": {
   "display_name": "Python 3 (ipykernel)",
   "language": "python",
   "name": "python3"
  },
  "language_info": {
   "codemirror_mode": {
    "name": "ipython",
    "version": 3
   },
   "file_extension": ".py",
   "mimetype": "text/x-python",
   "name": "python",
   "nbconvert_exporter": "python",
   "pygments_lexer": "ipython3",
   "version": "3.11.4"
  }
 },
 "nbformat": 4,
 "nbformat_minor": 5
}
