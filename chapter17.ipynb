{
 "cells": [
  {
   "cell_type": "markdown",
   "metadata": {},
   "source": [
    "Chapter 17 Binary Search Trees<br>\n",
    "\n",
    "Let’s start with an ADT. An ordered mapping is a mapping data type\n",
    "for which the keys are ordered."
   ]
  },
  {
   "cell_type": "markdown",
   "metadata": {},
   "source": [
    "17.1 The Ordered Mapping ADT<br>\n",
    "\n",
    "An ordered mapping stores a collection of key-value pairs (with comparable\n",
    "keys) supporting the following operations.\n",
    "- get(k) - Return the value associate to the key k. An error (KeyError)\n",
    "is raised if the given key is not present.\n",
    "- put(k, v) - Add the key-value pair (k,v) to the mapping.\n",
    "- floor(k) - Return a tuple (k,v) corresponding to the key-value pair\n",
    "in the mapping with the largest key that is less than or equal to k. If\n",
    "there is no such tuple, it returns (None, None).\n",
    "- remove(k) - Remove the key-value pair with key k from the ordered\n",
    "mapping. An error (KeyError) is raised if the given key is not present."
   ]
  },
  {
   "cell_type": "markdown",
   "metadata": {},
   "source": [
    "17.2 Binary Search Tree Properties and Definitions<br>\n",
    "\n",
    "A tree is called a binary tree if every node has at most two children.<br>\n",
    "We say that a binary tree is a binary\n",
    "search tree if for every node x, all the keys in the subtree x.left are less\n",
    "than the key at x and all the keys in the subtree x.right are greater than\n",
    "the key of x. This ordering property, also known as the BST property\n",
    "is what makes a binary search tree different from any other kind of binary\n",
    "tree.<br>\n",
    "\n",
    "![Alt text](image.png)<br>\n",
    "\n",
    "The same set of nodes can be arranged into a different binary search\n",
    "tree.<br>\n",
    "\n",
    "![Alt text](image-1.png)<br>\n",
    "\n",
    "The new traversal we introduce here is called inorder\n",
    "traversal and it visits all the nodes in the left child prior to visiting the\n",
    "root and then visits all the nodes in the right child after visiting the root.\n",
    "This order results in a traversal of the nodes in sorted order according to\n",
    "the ordering of the keys."
   ]
  },
  {
   "cell_type": "markdown",
   "metadata": {},
   "source": [
    "17.3 A Minimal implementation"
   ]
  },
  {
   "cell_type": "code",
   "execution_count": 10,
   "metadata": {},
   "outputs": [],
   "source": [
    "from ds2.mapping import Mapping\n",
    "\n",
    "class BSTMapping(Mapping):\n",
    "    def __init__(self):\n",
    "        self._root = None\n",
    "\n",
    "    def get(self, key):\n",
    "        if self._root:\n",
    "            return self._root.get(key).value\n",
    "        raise KeyError\n",
    "\n",
    "    def put(self, key, value):\n",
    "        if self._root:\n",
    "            self._root.put(key, value)\n",
    "        else:\n",
    "            self._root = BSTNode(key, value)\n",
    "\n",
    "    def __len__(self):\n",
    "        return len(self._root) if self._root is not None else 0\n",
    "\n",
    "    def _entryiter(self):\n",
    "        if self._root:\n",
    "            yield from self._root\n",
    "\n",
    "    def floor(self, key):\n",
    "        if self._root:\n",
    "            floornode = self._root.floor(key)\n",
    "            if floornode is not None:\n",
    "                return floornode.key, floornode.value\n",
    "        return None, None\n",
    "\n",
    "    def remove(self, key):\n",
    "        if self._root:\n",
    "            self._root = self._root.remove(key)\n",
    "        else:\n",
    "            raise KeyError\n",
    "\n",
    "    def __delitem__(self, key):\n",
    "        self.remove(key)\n",
    "\n",
    "class BSTNode:\n",
    "    def __init__(self, key, value):\n",
    "        self.key = key\n",
    "        self.value = value\n",
    "        self.left = None\n",
    "        self.right = None\n",
    "        self.length = 1\n",
    "\n",
    "    def __len__(self):\n",
    "        return self.length\n",
    "\n",
    "    def __str__(self):\n",
    "        return str(self.key) + \" : \" + str(self.value)\n",
    "\n",
    "    def get(self, key):\n",
    "        if key == self.key:\n",
    "            return key\n",
    "        elif key < self.key and self.left:\n",
    "            return self.left.get(key)\n",
    "        elif key > self.key and self.right:\n",
    "            return self.right.get(key)\n",
    "        else:\n",
    "            raise KeyError\n",
    "\n",
    "    def put(self, key, value):\n",
    "        if key == self.key:\n",
    "            self.value = value\n",
    "        elif key < self.key:\n",
    "            if self.left:\n",
    "                self.left.put(key, value)\n",
    "            else:\n",
    "                self.left = BSTNode(key, value)\n",
    "        elif key > self.key:\n",
    "            if self.right:\n",
    "                self.right.put(key, value)\n",
    "            else:\n",
    "                self.right = BSTNode(key, value)\n",
    "        self._updatelength()\n",
    "\n",
    "    def _updatelength(self):\n",
    "        len_left = len(self.left) if self.left else 0\n",
    "        len_right = len(self.right) if self.right else 0\n",
    "        self._length = 1 + len_left + len_right\n",
    "\n",
    "    def floor(self, key):\n",
    "        if key == self.key:\n",
    "            return self\n",
    "        elif key < self.key:\n",
    "            if self.left is not None:\n",
    "                return self.left.floor(key)\n",
    "            else:\n",
    "                return None\n",
    "        elif key > self.key:\n",
    "            if self.right is not None:\n",
    "                floor = self.right.floor(key)\n",
    "                return floor if floor is not None else self\n",
    "            else:\n",
    "                return self\n",
    "            \n",
    "    def __iter__(self):\n",
    "        if self.left is not None:\n",
    "            yield from self.left\n",
    "        yield self\n",
    "        if self.right is not None:\n",
    "            yield from self.right\n",
    "\n",
    "    def _swapwith(self, other):\n",
    "        self.key, other.key = other.key, self.key\n",
    "        self.value, other.value = other.value, self.value\n",
    "    \n",
    "    def maxnode(self):\n",
    "        return self.right.maxnode() if self.right else self\n",
    "    \n",
    "    def remove(self, key):\n",
    "        if key == self.key:\n",
    "            if self.left is None: return self.right\n",
    "            if self.right is None: return self.left\n",
    "            self._swapwith(self.left.maxnode())\n",
    "            self.left = self.left.remove(key)\n",
    "        elif key < self.key and self.left:\n",
    "            self.left = self.left.remove(key)\n",
    "        elif key > self.key and self.right:\n",
    "            self.right = self.right.remove(key)\n",
    "        else: raise KeyError\n",
    "        self._updatelength()\n",
    "        return self"
   ]
  },
  {
   "cell_type": "code",
   "execution_count": 11,
   "metadata": {},
   "outputs": [
    {
     "name": "stdout",
     "output_type": "stream",
     "text": [
      "{1 : 1, 2 : 1, 3 : 1, 4 : 1, 5 : 1, 6 : 1, 8 : 1, 9 : 1, 10 : 1}\n"
     ]
    }
   ],
   "source": [
    "T = BSTMapping()\n",
    "for i in [3, 2, 1, 6, 4, 5, 9, 8, 10]:\n",
    "    T[i] = 1\n",
    "print(T)"
   ]
  },
  {
   "cell_type": "markdown",
   "metadata": {},
   "source": [
    "![Alt text](image.png)"
   ]
  },
  {
   "cell_type": "code",
   "execution_count": 12,
   "metadata": {},
   "outputs": [
    {
     "name": "stdout",
     "output_type": "stream",
     "text": [
      "{1 : 1, 2 : 1, 3 : 1, 4 : 1, 5 : 1, 8 : 1, 9 : 1, 10 : 1}\n"
     ]
    }
   ],
   "source": [
    "T.remove(6)\n",
    "print(T)"
   ]
  },
  {
   "cell_type": "markdown",
   "metadata": {},
   "source": [
    "![Alt text](image-1.png)"
   ]
  },
  {
   "cell_type": "code",
   "execution_count": 13,
   "metadata": {},
   "outputs": [
    {
     "name": "stdout",
     "output_type": "stream",
     "text": [
      "{1 : 1, 2 : 1, 4 : 1, 5 : 1, 8 : 1, 9 : 1, 10 : 1}\n"
     ]
    }
   ],
   "source": [
    "T.remove(3)\n",
    "print(T)"
   ]
  },
  {
   "cell_type": "markdown",
   "metadata": {},
   "source": [
    "![Alt text](image-2.png)"
   ]
  }
 ],
 "metadata": {
  "kernelspec": {
   "display_name": "Python 3",
   "language": "python",
   "name": "python3"
  },
  "language_info": {
   "codemirror_mode": {
    "name": "ipython",
    "version": 3
   },
   "file_extension": ".py",
   "mimetype": "text/x-python",
   "name": "python",
   "nbconvert_exporter": "python",
   "pygments_lexer": "ipython3",
   "version": "3.10.12"
  },
  "orig_nbformat": 4
 },
 "nbformat": 4,
 "nbformat_minor": 2
}
