{
 "cells": [
  {
   "cell_type": "markdown",
   "metadata": {},
   "source": [
    "Chapter 17 Binary Search Trees<br>\n",
    "\n",
    "Let’s start with an ADT. An ordered mapping is a mapping data type\n",
    "for which the keys are ordered."
   ]
  },
  {
   "cell_type": "markdown",
   "metadata": {},
   "source": [
    "17.1 The Ordered Mapping ADT<br>\n",
    "\n",
    "An ordered mapping stores a collection of key-value pairs (with comparable\n",
    "keys) supporting the following operations.\n",
    "- get(k) - Return the value associate to the key k. An error (KeyError)\n",
    "is raised if the given key is not present.\n",
    "- put(k, v) - Add the key-value pair (k,v) to the mapping.\n",
    "- floor(k) - Return a tuple (k,v) corresponding to the key-value pair\n",
    "in the mapping with the largest key that is less than or equal to k. If\n",
    "there is no such tuple, it returns (None, None).\n",
    "- remove(k) - Remove the key-value pair with key k from the ordered\n",
    "mapping. An error (KeyError) is raised if the given key is not present."
   ]
  },
  {
   "cell_type": "markdown",
   "metadata": {},
   "source": [
    "17.2 Binary Search Tree Properties and Definitions<br>\n",
    "\n",
    "A tree is called a binary tree if every node has at most two children.<br>\n",
    "We say that a binary tree is a binary\n",
    "search tree if for every node x, all the keys in the subtree x.left are less\n",
    "than the key at x and all the keys in the subtree x.right are greater than\n",
    "the key of x. This ordering property, also known as the BST property\n",
    "is what makes a binary search tree different from any other kind of binary\n",
    "tree.<br>\n",
    "\n",
    "![Alt text](figs/bst_example1.svg)<br>\n",
    "\n",
    "The same set of nodes can be arranged into a different binary search\n",
    "tree.<br>\n",
    "\n",
    "![Alt text](figs/bst_example2.svg)<br>\n",
    "\n",
    "The new traversal we introduce here is called inorder\n",
    "traversal and it visits all the nodes in the left child prior to visiting the\n",
    "root and then visits all the nodes in the right child after visiting the root.\n",
    "This order results in a traversal of the nodes in sorted order according to\n",
    "the ordering of the keys."
   ]
  },
  {
   "cell_type": "markdown",
   "metadata": {},
   "source": [
    "17.3 A Minimal implementation"
   ]
  },
  {
   "cell_type": "code",
   "execution_count": 10,
   "metadata": {},
   "outputs": [],
   "source": [
    "from ds2.mapping import Mapping\n",
    "\n",
    "class BSTMapping(Mapping):\n",
    "    def __init__(self):\n",
    "        self._root = None\n",
    "\n",
    "    def get(self, key):\n",
    "        if self._root:\n",
    "            return self._root.get(key).value\n",
    "        raise KeyError\n",
    "\n",
    "    def put(self, key, value):\n",
    "        if self._root:\n",
    "            self._root.put(key, value)\n",
    "        else:\n",
    "            self._root = BSTNode(key, value)\n",
    "\n",
    "    def __len__(self):\n",
    "        return len(self._root) if self._root is not None else 0\n",
    "\n",
    "    def _entryiter(self):\n",
    "        if self._root:\n",
    "            yield from self._root\n",
    "\n",
    "    def floor(self, key):\n",
    "        if self._root:\n",
    "            floornode = self._root.floor(key)\n",
    "            if floornode is not None:\n",
    "                return floornode.key, floornode.value\n",
    "        return None, None\n",
    "\n",
    "    def remove(self, key):\n",
    "        if self._root:\n",
    "            self._root = self._root.remove(key)\n",
    "        else:\n",
    "            raise KeyError\n",
    "\n",
    "    def __delitem__(self, key):\n",
    "        self.remove(key)\n",
    "\n",
    "class BSTNode:\n",
    "    def __init__(self, key, value):\n",
    "        self.key = key\n",
    "        self.value = value\n",
    "        self.left = None\n",
    "        self.right = None\n",
    "        self.length = 1\n",
    "\n",
    "    def __len__(self):\n",
    "        return self.length\n",
    "\n",
    "    def __str__(self):\n",
    "        return str(self.key) + \" : \" + str(self.value)\n",
    "\n",
    "    def get(self, key):\n",
    "        if key == self.key:\n",
    "            return key\n",
    "        elif key < self.key and self.left:\n",
    "            return self.left.get(key)\n",
    "        elif key > self.key and self.right:\n",
    "            return self.right.get(key)\n",
    "        else:\n",
    "            raise KeyError\n",
    "\n",
    "    def put(self, key, value):\n",
    "        if key == self.key:\n",
    "            self.value = value\n",
    "        elif key < self.key:\n",
    "            if self.left:\n",
    "                self.left.put(key, value)\n",
    "            else:\n",
    "                self.left = BSTNode(key, value)\n",
    "        elif key > self.key:\n",
    "            if self.right:\n",
    "                self.right.put(key, value)\n",
    "            else:\n",
    "                self.right = BSTNode(key, value)\n",
    "        self._updatelength()\n",
    "\n",
    "    def _updatelength(self):\n",
    "        len_left = len(self.left) if self.left else 0\n",
    "        len_right = len(self.right) if self.right else 0\n",
    "        self._length = 1 + len_left + len_right\n",
    "\n",
    "    def floor(self, key):\n",
    "        if key == self.key:\n",
    "            return self\n",
    "        elif key < self.key:\n",
    "            if self.left is not None:\n",
    "                return self.left.floor(key)\n",
    "            else:\n",
    "                return None\n",
    "        elif key > self.key:\n",
    "            if self.right is not None:\n",
    "                floor = self.right.floor(key)\n",
    "                return floor if floor is not None else self\n",
    "            else:\n",
    "                return self\n",
    "            \n",
    "    def __iter__(self):\n",
    "        if self.left is not None:\n",
    "            yield from self.left\n",
    "        yield self\n",
    "        if self.right is not None:\n",
    "            yield from self.right\n",
    "\n",
    "    def _swapwith(self, other):\n",
    "        self.key, other.key = other.key, self.key\n",
    "        self.value, other.value = other.value, self.value\n",
    "    \n",
    "    def maxnode(self):\n",
    "        return self.right.maxnode() if self.right else self\n",
    "    \n",
    "    def remove(self, key):\n",
    "        if key == self.key:\n",
    "            if self.left is None: return self.right\n",
    "            if self.right is None: return self.left\n",
    "            self._swapwith(self.left.maxnode())\n",
    "            self.left = self.left.remove(key)\n",
    "        elif key < self.key and self.left:\n",
    "            self.left = self.left.remove(key)\n",
    "        elif key > self.key and self.right:\n",
    "            self.right = self.right.remove(key)\n",
    "        else: raise KeyError\n",
    "        self._updatelength()\n",
    "        return self"
   ]
  },
  {
   "cell_type": "code",
   "execution_count": 11,
   "metadata": {},
   "outputs": [
    {
     "name": "stdout",
     "output_type": "stream",
     "text": [
      "{1 : 1, 2 : 1, 3 : 1, 4 : 1, 5 : 1, 6 : 1, 8 : 1, 9 : 1, 10 : 1}\n"
     ]
    }
   ],
   "source": [
    "T = BSTMapping()\n",
    "for i in [3, 2, 1, 6, 4, 5, 9, 8, 10]:\n",
    "    T[i] = 1\n",
    "print(T)"
   ]
  },
  {
   "cell_type": "markdown",
   "metadata": {},
   "source": [
    "![Alt text](image.png)"
   ]
  },
  {
   "cell_type": "code",
   "execution_count": 12,
   "metadata": {},
   "outputs": [
    {
     "name": "stdout",
     "output_type": "stream",
     "text": [
      "{1 : 1, 2 : 1, 3 : 1, 4 : 1, 5 : 1, 8 : 1, 9 : 1, 10 : 1}\n"
     ]
    }
   ],
   "source": [
    "T.remove(6)\n",
    "print(T)"
   ]
  },
  {
   "cell_type": "markdown",
   "metadata": {},
   "source": [
    "![Alt text](image-1.png)"
   ]
  },
  {
   "cell_type": "code",
   "execution_count": 13,
   "metadata": {},
   "outputs": [
    {
     "name": "stdout",
     "output_type": "stream",
     "text": [
      "{1 : 1, 2 : 1, 4 : 1, 5 : 1, 8 : 1, 9 : 1, 10 : 1}\n"
     ]
    }
   ],
   "source": [
    "T.remove(3)\n",
    "print(T)"
   ]
  },
  {
   "cell_type": "markdown",
   "metadata": {},
   "source": [
    "![Alt text](image-2.png)"
   ]
  },
  {
   "cell_type": "markdown",
   "metadata": {},
   "source": [
    "This implementation is a top-down approach.<br>\n",
    "\n",
    "Note: ```yield from self._root``` is the same as ```for item in iter(self._root): yield item```<br>\n",
    "\n",
    "- put() method:\n",
    "    - It will work by first doing a binary search in the tree. If it finds the key already in the tree, it overwrites the value (keys in a mapping are unique). Otherwise, when it gets to the bottom of the tree, it adds a new node.\n",
    "    - The put method also keeps track of the length, i.e. the number of entries in each subtree.\n",
    "\n",
    "17.3.1 The floor function<br>\n",
    "\n",
    "The floor function is just a slightly fancier version of get. It also does\n",
    "a binary search, but it has different behavior when the key is not found,\n",
    "depending on whether the last search was to the left or to the right. Starting\n",
    "from any node, if we search to the right and the result is None, then we return\n",
    "the node itself. If we search to the left and the result is None, we also return\n",
    "None.<br>\n",
    "\n",
    "17.3.2 Iteration<br>\n",
    "\n",
    "As mentioned above, binary search trees support inorder traversal. The\n",
    "result of an inorder traversal is that the nodes are yielded *in the order of their keys*<br>\n",
    "\n",
    "17.4 Removal<br>\n",
    "\n",
    "The start of a removal is to find the node to be removed using binary\n",
    "search in the tree. Then, if the node is a leaf, we can remove it without\n",
    "any difficulty. It’s also easy to remove a node with only one child because\n",
    "we can remove the node and bring its child up without violating the BST\n",
    "property.<br>\n",
    "\n",
    "The harder case come when the node to be removed has both a left and\n",
    "a right child. In that case, we find the node with the largest key in its left\n",
    "subtree (i.e. the rightmost node). We swap that node with our node to be\n",
    "removed and call remove again on the left subtree. The next time we reach\n",
    "that node, we know it will have at most one child, because the node we\n",
    "swapped it with had no right child<br>"
   ]
  }
 ],
 "metadata": {
  "kernelspec": {
   "display_name": "Python 3",
   "language": "python",
   "name": "python3"
  },
  "language_info": {
   "codemirror_mode": {
    "name": "ipython",
    "version": 3
   },
   "file_extension": ".py",
   "mimetype": "text/x-python",
   "name": "python",
   "nbconvert_exporter": "python",
   "pygments_lexer": "ipython3",
   "version": "3.10.12"
  },
  "orig_nbformat": 4
 },
 "nbformat": 4,
 "nbformat_minor": 2
}
