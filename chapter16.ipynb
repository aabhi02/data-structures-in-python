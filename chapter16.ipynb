{
 "cells": [
  {
   "cell_type": "markdown",
   "metadata": {},
   "source": [
    "Chapter 16 Trees<br>\n",
    "\n",
    "- A Tree is a data type that is ideal for representing hierarchical structure.\n",
    "- Trees are composed of nodes and nodes have 0 or more children or child nodes. \n",
    "- A node is called the parent of its children.\n",
    "- Each node has (at most) one parent.\n",
    "- If the children are ordered in some way, then we have an ordered tree.\n",
    "- There is a single special node called the root of the tree.\n",
    "- The root is the only node that does not have a parent.\n",
    "- The nodes that do not have any children are called leaves or leaf nodes."
   ]
  },
  {
   "cell_type": "markdown",
   "metadata": {},
   "source": [
    "16.1 Some more definitions<br>\n",
    "\n",
    "- A path in a tree is a sequence of nodes in which each node is a child of the previous node. \n",
    "- We say it is a path from x to y if the first node is x and the last node is y.\n",
    "- There exists a path from the root to every node in the tree.\n",
    "- The length of the path is the number of hops or edges which is one less than the number of nodes in the path.\n",
    "- The descendants of a node x are all those nodes y for which there is a path from x to y. If y is a descendant of x, then we say x is an ancestor of y.\n",
    "- Given a tree T and a node n in that tree, the subtree rooted at n is the tree whose root is n that contains all descendants of n.\n",
    "- The depth of a node is the length of the path to the node from the root.\n",
    "- The height of a tree is the maximum depth of any node in the tree."
   ]
  },
  {
   "cell_type": "markdown",
   "metadata": {},
   "source": [
    "16.2 A recursive view of trees<br>\n",
    "\n",
    "We can use lists to represent a hierarchical structure by making lists of lists.<br>\n",
    "Example:<br>\n",
    "```['a', ['p'], ['n'], ['t']]```<br>\n",
    "\n",
    "![Alt text](figs/tree_example1.png)<br>\n",
    "\n",
    "This is a tree with 'a' stored in the root. The root has 3 children\n",
    "storing respectively, 'p', 'n', and 't'.<br>\n",
    "\n",
    "```T = ['c', ['a', ['p'], ['n'], ['t']], ['o', ['n']]]```<br>\n",
    "\n",
    "![Alt text](figs/tree_example2.png)"
   ]
  },
  {
   "cell_type": "code",
   "execution_count": 1,
   "metadata": {},
   "outputs": [
    {
     "name": "stdout",
     "output_type": "stream",
     "text": [
      "c\n",
      "a\n",
      "p\n",
      "n\n",
      "t\n",
      "o\n",
      "n\n"
     ]
    }
   ],
   "source": [
    "def printtree(T):\n",
    "    print(T[0])\n",
    "    for child in range(1, len(T)):\n",
    "        printtree(T[child])\n",
    "\n",
    "T = ['c', ['a', ['p'], ['n'], ['t']], ['o', ['n']]]\n",
    "printtree(T)"
   ]
  },
  {
   "cell_type": "code",
   "execution_count": 2,
   "metadata": {},
   "outputs": [
    {
     "name": "stdout",
     "output_type": "stream",
     "text": [
      "c\n",
      "a\n",
      "p\n",
      "n\n",
      "t\n",
      "o\n",
      "n\n"
     ]
    }
   ],
   "source": [
    "def printtree(T):\n",
    "    iterator = iter(T)\n",
    "    print(next(iterator))\n",
    "    for child in iterator:\n",
    "        printtree(child)\n",
    "\n",
    "printtree(T)"
   ]
  },
  {
   "cell_type": "markdown",
   "metadata": {},
   "source": [
    "16.3 A Tree ADT<br>\n",
    "\n",
    "The information in the tree is all present in the list of lists structure. How-\n",
    "ever, it can be cumbersome to read, write, and work with. We will package\n",
    "it into a class that allows us to write code that is as close as possible to how\n",
    "we think about and talk about trees. As always, we will start with an ADT\n",
    "that describes our expectations for the data structure and its usage.<br>\n",
    "The Tree ADT is as follows.<br>\n",
    "- __ init __ (L) : Initialize a new tree given a list of lists. The convention\n",
    "is that the first element in the list is the data and the later elements\n",
    "(if they exist) are the children.<br>\n",
    "- height() : Return the height of the tree.\n",
    "- __ str __ () : Return a string representing the entire tree.\n",
    "- __ eq __ (other) : Return True if the tree is equal to other. This means that they have the same data and their children are equal (and in the same order).\n",
    "- __ contains __(k) : Return True if and only if the tree contains the data k either at the root or at one of its descendants. Return False otherwise.\n",
    "- preorder() Return an iterator over the data in the tree that yields values according to the preorder traversal of the tree.\n",
    "- postorder() : Return an iterator over the data in the tree that yields values according to the postorder traversal of the tree.\n",
    "- __ iter __ () : An alias for preorder.\n",
    "- layerorder() : Return an iterator over the data in the tree that yields values according to the layer order traversal of the tree."
   ]
  },
  {
   "cell_type": "markdown",
   "metadata": {},
   "source": [
    "16.4 An implementation"
   ]
  },
  {
   "cell_type": "code",
   "execution_count": 3,
   "metadata": {},
   "outputs": [],
   "source": [
    "class Tree:\n",
    "    def __init__(self, L):\n",
    "        iterator = iter(L)\n",
    "        self.data = next(iterator)\n",
    "        self.children = [Tree(c) for c in iterator]\n",
    "\n",
    "    def __str__(self, level = 0):\n",
    "        treestring = \" \" * level + str(self.data)\n",
    "        for child in self.children:\n",
    "            treestring += \"\\n\" + child.__str__(level + 1)\n",
    "        return treestring"
   ]
  },
  {
   "cell_type": "markdown",
   "metadata": {},
   "source": [
    "The initializer takes a list of lists representation of a tree as input. A\n",
    "Tree object has two attributes, data stores data associated with a node and\n",
    "children stores a list of Tree objects. The recursive aspect of this tree is\n",
    "clear from the way the children are generated as Tree’s. This definition does\n",
    "not allow for an empty tree"
   ]
  },
  {
   "cell_type": "code",
   "execution_count": 4,
   "metadata": {},
   "outputs": [
    {
     "name": "stdout",
     "output_type": "stream",
     "text": [
      "a\n",
      "b\n",
      "c\n",
      "d\n",
      "e\n",
      "f\n",
      "g\n"
     ]
    }
   ],
   "source": [
    "def printtree(T):\n",
    "    print(T.data)\n",
    "    for child in T.children:\n",
    "        printtree(child)\n",
    "\n",
    "T = Tree(['a', ['b', ['c', ['d']]],['e',['f'], ['g']]])\n",
    "printtree(T)"
   ]
  },
  {
   "cell_type": "code",
   "execution_count": 5,
   "metadata": {},
   "outputs": [
    {
     "name": "stdout",
     "output_type": "stream",
     "text": [
      "a\n",
      " b\n",
      "  c\n",
      "   d\n",
      " e\n",
      "  f\n",
      "  g\n"
     ]
    }
   ],
   "source": [
    "print(T)"
   ]
  },
  {
   "cell_type": "markdown",
   "metadata": {},
   "source": [
    "Although the code above seems to work, it does something terrible. It\n",
    "builds up a string by iterative adding more strings (i.e. with concatenation).\n",
    "This copies and recopies some part of the string for every node in the tree.\n",
    "Instead, we would prefer to just keep a nice list of the trees and then join\n",
    "them into a string in one final act before returning. To do this, it is handy\n",
    "to use a helper method that takes the level and the current list of trees as\n",
    "parameters. With each recursive call, we add one to the level, and we pass\n",
    "down the same list to be appended to."
   ]
  },
  {
   "cell_type": "code",
   "execution_count": 6,
   "metadata": {},
   "outputs": [
    {
     "name": "stdout",
     "output_type": "stream",
     "text": [
      "a\n",
      " b\n",
      "  c\n",
      "   d\n",
      " e\n",
      "  f\n",
      "  g\n"
     ]
    }
   ],
   "source": [
    "class Tree:\n",
    "    def __init__(self, L):\n",
    "        iterator = iter(L)\n",
    "        self.data = next(iterator)\n",
    "        self.children = [Tree(c) for c in iterator]\n",
    "\n",
    "    def _listwithlevels(self, level, trees):\n",
    "        trees.append(\" \" * level + str(self.data))\n",
    "        for child in self.children:\n",
    "            child._listwithlevels(level + 1, trees)\n",
    "    \n",
    "    def __str__(self):\n",
    "        trees = []\n",
    "        self._listwithlevels(0, trees)\n",
    "        return \"\\n\".join(trees)\n",
    "    \n",
    "    def __eq__(self, other):\n",
    "        return self.data == other.data and self.children == other.children\n",
    "    \n",
    "    def height(self):\n",
    "        if len(self.children) == 0:\n",
    "            return 0\n",
    "        else:\n",
    "            return 1 + max(child.height() for child in self.children)\n",
    "\n",
    "    def __contains__(self, k):\n",
    "        return self.data == k or any(k in ch for ch in self.children)    \n",
    "\n",
    "    # classic example of postorder traversal\n",
    "\n",
    "    def printpostorder(self):\n",
    "        for child in self.children:\n",
    "            self.printpostorder(child)\n",
    "        print(T.data)\n",
    "\n",
    "    def _preorder(self):\n",
    "        yield self\n",
    "        for child in self.children:\n",
    "            for descendant in child._preorder():\n",
    "                yield descendant\n",
    "\n",
    "T = Tree(['a', ['b', ['c', ['d']]],['e',['f'], ['g']]])\n",
    "print(str(T))"
   ]
  },
  {
   "cell_type": "markdown",
   "metadata": {},
   "source": [
    "The pattern involved here is called a tree traversal and we will discuss these in more depth.<br>\n",
    "\n",
    "Check if two trees are equal in the sense of having the same shape and data.<br>\n",
    "We use the __ eq __ method so this method will be used when we use == to check equality between Tree’s."
   ]
  },
  {
   "cell_type": "markdown",
   "metadata": {},
   "source": [
    "A function that computes the height\n",
    "of the tree. We can do this by computing the height of the subtrees and\n",
    "return one more than the max of those. If there are no children, the height\n",
    "is 0."
   ]
  },
  {
   "cell_type": "markdown",
   "metadata": {},
   "source": [
    "The any function takes an iterable of booleans and return True if any of\n",
    "them are True. It handles short-circuited evaluation, so it can stop as soon\n",
    "as it finds that one is true. If the answer is False, then this will iterate over\n",
    "the whole tree."
   ]
  },
  {
   "cell_type": "markdown",
   "metadata": {},
   "source": [
    "16.5 Tree Traversal<br>\n",
    "\n",
    "For trees, the process of visiting all the nodes is called tree traversal.<br>\n",
    "For ordered trees, there are two standard traversals, called:\n",
    "- preorder -> In a preorder traversal, we visit the node first followed by the traversal of its children.\n",
    "- postorder -> In a postorder traversal, we traverse all the children and then visit the node itself. \n",
    "\n",
    "The *printtree* method given previously is a classic example of a preorder traversal and also the *printpostorder* method."
   ]
  },
  {
   "cell_type": "markdown",
   "metadata": {},
   "source": [
    "16.6 If you want to get fancy..."
   ]
  },
  {
   "cell_type": "code",
   "execution_count": 7,
   "metadata": {},
   "outputs": [],
   "source": [
    "# just another way of preorder traversal\n",
    "def preorder(self):\n",
    "    yield self.data\n",
    "    for child in self.children:\n",
    "        for data in child.preorder():\n",
    "            yield data"
   ]
  },
  {
   "cell_type": "markdown",
   "metadata": {},
   "source": [
    "16.6.1 There’s a catch!<br>\n",
    "\n",
    "the total running time is proportional to the sum of the depths of\n",
    "all the nodes in the tree. For a degenerate tree (i.e. a single path), this is\n",
    "***O(n2)*** time. For a perfectly balanced binary tree, this is ***O(n log n)*** time.<br>\n",
    "\n",
    "Using recursion and the call stack make the tree traversal code substan-\n",
    "tially simpler than if we had to keep track of everything manually. It would\n",
    "not be enough to store just the stack of nodes in the path from your current\n",
    "node up to the root. You would also have to keep track of your place in the\n",
    "iteration of the children of each of those nodes. Remember that it is the job\n",
    "of an iterator object to keep track of where it is in the iteration. Thus, we\n",
    "can just push the iterators for the children onto the stack too."
   ]
  },
  {
   "cell_type": "code",
   "execution_count": 8,
   "metadata": {},
   "outputs": [],
   "source": [
    "def _postorder(self):\n",
    "    node, childiter = self, iter(self.children)\n",
    "    stack = [(node, childiter)]\n",
    "    while stack:\n",
    "        node, childiter = stack[-1]\n",
    "        try:\n",
    "            child = next(childiter)\n",
    "            stack.append((child, iter(child.children)))\n",
    "        except StopIteration:\n",
    "            yield node\n",
    "            stack.pop()\n",
    "\n",
    "def postorder(self):\n",
    "    return (node.data for node in self._postorder())"
   ]
  },
  {
   "cell_type": "markdown",
   "metadata": {},
   "source": [
    "16.6.2 Layer by Layer<br>\n",
    "\n",
    "non-recursive postorder traversal, we can modify it to\n",
    "traverse the tree layer by layer."
   ]
  },
  {
   "cell_type": "code",
   "execution_count": 9,
   "metadata": {},
   "outputs": [],
   "source": [
    "def _layerorder(self):\n",
    "    node, childiter = self, iter(self.children)\n",
    "    queue = Queue()\n",
    "    queue.enqueue((node, childiter))\n",
    "    while queue:\n",
    "        node, childiter = queue.peek()\n",
    "    try:\n",
    "        child = next(childiter)\n",
    "        queue.enqueue((child, iter(child.children)))\n",
    "    except StopIteration:\n",
    "        yield node\n",
    "        queue.dequeue()\n",
    "\n",
    "def layerorder(self):\n",
    "    return (node.data for node in self._layerorder())"
   ]
  }
 ],
 "metadata": {
  "kernelspec": {
   "display_name": "Python 3",
   "language": "python",
   "name": "python3"
  },
  "language_info": {
   "codemirror_mode": {
    "name": "ipython",
    "version": 3
   },
   "file_extension": ".py",
   "mimetype": "text/x-python",
   "name": "python",
   "nbconvert_exporter": "python",
   "pygments_lexer": "ipython3",
   "version": "3.10.12"
  },
  "orig_nbformat": 4
 },
 "nbformat": 4,
 "nbformat_minor": 2
}
