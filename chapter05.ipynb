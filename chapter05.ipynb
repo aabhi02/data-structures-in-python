{
 "cells": [
  {
   "cell_type": "markdown",
   "metadata": {},
   "source": [
    "Chapter 5 Running Time Analysis<br><br>\n",
    "The big-O notation gives a very convenient way of grouping this (running time) functions into classes that can easily be compared.<br>\n",
    "The goal of increasing efficiency in our data structures will be the primary motivation for introducing new structures and new ideas as we proceed."
   ]
  },
  {
   "cell_type": "markdown",
   "metadata": {},
   "source": [
    "5.1 Timing Programs"
   ]
  },
  {
   "cell_type": "code",
   "execution_count": 1,
   "metadata": {},
   "outputs": [],
   "source": [
    "def duplicates1(L):\n",
    "    n = len(L)\n",
    "    for i in range(n):\n",
    "        for j in range(n):\n",
    "            if i != j and L[i] == L[j]:\n",
    "                return True\n",
    "    return False\n",
    "assert(duplicates1([1,2,6,3,4,5,6,7,8]))\n",
    "assert(not duplicates1([1,2,3,4]))"
   ]
  },
  {
   "cell_type": "markdown",
   "metadata": {},
   "source": [
    "This is a function that takes a list as input, it returns True if there are any duplicates and False otherwise."
   ]
  },
  {
   "cell_type": "markdown",
   "metadata": {},
   "source": [
    "A basic question that we will ask again and again is the following?<br>\n",
    "How fast is this code?<br>\n",
    "The simplest answer to this question comes from simply running the program and measuring how long it takes."
   ]
  },
  {
   "cell_type": "code",
   "execution_count": 2,
   "metadata": {},
   "outputs": [
    {
     "name": "stdout",
     "output_type": "stream",
     "text": [
      "Time taken for n =  1000 :  0.28138184547424316\n",
      "Time taken for n =  1000 :  0.06571292877197266\n",
      "Time taken for n =  1000 :  0.05651402473449707\n",
      "Time taken for n =  1000 :  0.05131340026855469\n",
      "Time taken for n =  1000 :  0.05218935012817383\n"
     ]
    }
   ],
   "source": [
    "import time\n",
    "for i in range(5):\n",
    "    n = 1000\n",
    "    start = time.time()\n",
    "    duplicates1(list(range(n)))\n",
    "    timetaken = time.time() - start\n",
    "    print(\"Time taken for n = \", n, \": \", timetaken)"
   ]
  },
  {
   "cell_type": "markdown",
   "metadata": {},
   "source": [
    "Notice that we see some variation in the time required. This is caused by many factors, but the main one is that the computer is performing many other tasks at the same time. It is running an operating system and several other programs at the same time.<br>\n",
    "Let’s run the code several times and take the average to smooth them out for a given computer."
   ]
  },
  {
   "cell_type": "code",
   "execution_count": 3,
   "metadata": {},
   "outputs": [
    {
     "name": "stdout",
     "output_type": "stream",
     "text": [
      "average = 0.0007489 for n = 50\n",
      "average = 0.0029428 for n = 100\n",
      "average = 0.0100616 for n = 200\n",
      "average = 0.0234177 for n = 400\n",
      "average = 0.0583730 for n = 800\n",
      "average = 0.1466960 for n = 1600\n",
      "average = 0.5970231 for n = 3200\n"
     ]
    }
   ],
   "source": [
    "import time\n",
    "\n",
    "def timetrials(func, n, trials=10):\n",
    "    totaltime=0\n",
    "    for i in range(trials):\n",
    "        start=time.time()\n",
    "        func(list(range(n)))\n",
    "        totaltime+=time.time() - start\n",
    "    print(\"average =%10.7f for n = %d\" % (totaltime/trials, n))\n",
    "\n",
    "for n in [50, 100, 200, 400, 800, 1600, 3200]:\n",
    "    timetrials(duplicates1, n)"
   ]
  },
  {
   "cell_type": "markdown",
   "metadata": {},
   "source": [
    "We can now look at the average running time as the length of the list gets longer, the average time goes up as the length n increases."
   ]
  },
  {
   "cell_type": "markdown",
   "metadata": {},
   "source": [
    "To make our code faster. Simple improvements can be made by eliminating situations where we are doing unnecessary or redundant work.<br>\n",
    "In the duplicates1 function, we are comparing each pair of elements twice because both i and j range over all n indices. We can eliminate this using a standard trick of only letting j range up to i."
   ]
  },
  {
   "cell_type": "code",
   "execution_count": 4,
   "metadata": {},
   "outputs": [
    {
     "name": "stdout",
     "output_type": "stream",
     "text": [
      "average = 0.0002569 for n = 50\n",
      "average = 0.0010517 for n = 100\n",
      "average = 0.0040986 for n = 200\n",
      "average = 0.0181228 for n = 400\n",
      "average = 0.0172263 for n = 800\n",
      "average = 0.0554326 for n = 1600\n",
      "average = 0.2541026 for n = 3200\n"
     ]
    }
   ],
   "source": [
    "def duplicates2(L):\n",
    "    n=len(L)\n",
    "    for i in range(1, n):\n",
    "        for j in range(i):\n",
    "            if L[i] == L[j]:\n",
    "                return True\n",
    "    return False\n",
    "\n",
    "for n in [50, 100, 200, 400, 800, 1600, 3200]:\n",
    "    timetrials(duplicates2, n)"
   ]
  },
  {
   "cell_type": "code",
   "execution_count": 6,
   "metadata": {},
   "outputs": [
    {
     "name": "stdout",
     "output_type": "stream",
     "text": [
      "average = 0.0004117 for n = 50\n",
      "average = 0.0022580 for n = 100\n",
      "average = 0.0058756 for n = 200\n",
      "average = 0.0155595 for n = 400\n",
      "average = 0.0187890 for n = 800\n",
      "average = 0.0738902 for n = 1600\n",
      "average = 0.2993898 for n = 3200\n"
     ]
    }
   ],
   "source": [
    "#shorter version of duplicates2\n",
    "\n",
    "def duplicates3(L):\n",
    "    return any(L[i] == L[j] for i in range(1, len(L)) for j in range(i))\n",
    "\n",
    "for n in [50, 100, 200, 400, 800, 1600, 3200]:\n",
    "    timetrials(duplicates3, n)"
   ]
  },
  {
   "cell_type": "markdown",
   "metadata": {},
   "source": [
    "This last optimization reduces the number of lines of code and may be desirable for code readability, but it doesn’t improve the speed."
   ]
  },
  {
   "cell_type": "code",
   "execution_count": 7,
   "metadata": {},
   "outputs": [],
   "source": [
    "def duplicates4(L):\n",
    "    n = len(L)\n",
    "    L.sort()\n",
    "    for i in range(n-1):\n",
    "        if L[i] == L[i+1]:\n",
    "            return True\n",
    "    return False"
   ]
  },
  {
   "cell_type": "code",
   "execution_count": 8,
   "metadata": {},
   "outputs": [],
   "source": [
    "def duplicates5(L):\n",
    "    n = len(L)\n",
    "    L.sort()\n",
    "    return any(L[i] == L[i+1] for i in range(n-1))"
   ]
  },
  {
   "cell_type": "code",
   "execution_count": 9,
   "metadata": {},
   "outputs": [],
   "source": [
    "def duplicates6(L):\n",
    "    s = set()\n",
    "    for e in L:\n",
    "        if e in s:\n",
    "            return True\n",
    "        s.add(e)\n",
    "    return False"
   ]
  },
  {
   "cell_type": "code",
   "execution_count": 10,
   "metadata": {},
   "outputs": [],
   "source": [
    "def duplicates7(L):\n",
    "    return len(L) != len(set(L))"
   ]
  },
  {
   "cell_type": "code",
   "execution_count": 11,
   "metadata": {},
   "outputs": [],
   "source": [
    "def duplicates8(L):\n",
    "    s = set()\n",
    "    return any(e in s or s.add(e) for e in L)"
   ]
  },
  {
   "cell_type": "code",
   "execution_count": 12,
   "metadata": {},
   "outputs": [
    {
     "name": "stdout",
     "output_type": "stream",
     "text": [
      "Quadratic: average = 0.0000739 for n = 50\n",
      "Sorting:average = 0.0000047 for n = 50\n",
      "Sets:average = 0.0000014 for n = 50\n",
      "---------------------------\n",
      "Quadratic: average = 0.0003143 for n = 100\n",
      "Sorting:average = 0.0000107 for n = 100\n",
      "Sets:average = 0.0000026 for n = 100\n",
      "---------------------------\n",
      "Quadratic: average = 0.0013366 for n = 200\n",
      "Sorting:average = 0.0000234 for n = 200\n",
      "Sets:average = 0.0000064 for n = 200\n",
      "---------------------------\n",
      "Quadratic: average = 0.0101454 for n = 400\n",
      "Sorting:average = 0.0000907 for n = 400\n",
      "Sets:average = 0.0000165 for n = 400\n",
      "---------------------------\n",
      "Quadratic: average = 0.0229714 for n = 800\n",
      "Sorting:average = 0.0000775 for n = 800\n",
      "Sets:average = 0.0000144 for n = 800\n",
      "---------------------------\n",
      "Quadratic: average = 0.0783082 for n = 1600\n",
      "Sorting:average = 0.0001675 for n = 1600\n",
      "Sets:average = 0.0000369 for n = 1600\n",
      "---------------------------\n",
      "Quadratic: average = 0.3359103 for n = 3200\n",
      "Sorting:average = 0.0002696 for n = 3200\n",
      "Sets:average = 0.0000545 for n = 3200\n",
      "---------------------------\n"
     ]
    }
   ],
   "source": [
    "for n in [50, 100, 200, 400, 800, 1600, 3200]:\n",
    "    print(\"Quadratic: \", end=\"\")\n",
    "    timetrials(duplicates3, n)\n",
    "    print(\"Sorting:\", end=\"\")\n",
    "    timetrials(duplicates5, n)\n",
    "    print(\"Sets:\", end=\"\")\n",
    "    timetrials(duplicates7, n)\n",
    "    print('---------------------------')"
   ]
  },
  {
   "cell_type": "markdown",
   "metadata": {},
   "source": [
    "5.2 Example: Adding the first k numbers.<br><br>\n",
    "A program that adds up the first k positive integers and returns both the sum and time required to do the computation."
   ]
  },
  {
   "cell_type": "code",
   "execution_count": 1,
   "metadata": {},
   "outputs": [
    {
     "name": "stdout",
     "output_type": "stream",
     "text": [
      "Sum: 50005000, time taken: 0.004376\n",
      "Sum: 50005000, time taken: 0.003677\n",
      "Sum: 50005000, time taken: 0.003587\n",
      "Sum: 50005000, time taken: 0.003650\n",
      "Sum: 50005000, time taken: 0.003462\n"
     ]
    }
   ],
   "source": [
    "import time\n",
    "def sumk(k):\n",
    "    start = time.time()\n",
    "    total = 0\n",
    "    for i in range(k+1):\n",
    "        total = total + i\n",
    "        end = time.time()\n",
    "    return total, end-start\n",
    "\n",
    "for i in range(5):\n",
    "    print(\"Sum: %d, time taken: %f\" % sumk(10000))"
   ]
  },
  {
   "cell_type": "code",
   "execution_count": 3,
   "metadata": {},
   "outputs": [
    {
     "name": "stdout",
     "output_type": "stream",
     "text": [
      "average = 0.0083256 for k = 10000\n",
      "average = 0.0345149 for k = 100000\n",
      "average = 0.1135713 for k = 1000000\n",
      "average = 1.1836195 for k = 10000000\n"
     ]
    }
   ],
   "source": [
    "def timetrials(func, k, trials = 10):\n",
    "    totaltime = 0\n",
    "    for i in range(trials):\n",
    "        totaltime += func(k)[1]\n",
    "    print(\"average =%10.7f for k = %d\" % (totaltime/trials, k))\n",
    "\n",
    "timetrials(sumk, 10000)\n",
    "timetrials(sumk, 100000)\n",
    "timetrials(sumk, 1000000)\n",
    "timetrials(sumk, 10000000)"
   ]
  },
  {
   "cell_type": "markdown",
   "metadata": {},
   "source": [
    "Seeing the times for different values of k reveals a rather unsuprising pattern. As k goes up by a factor of 10, the time required for sumk also goes up by a factor of 10.<br>\n",
    "Tere is another, much simpler way to compute the sum of the numbers from 1 to k using a formula that is very important.\n",
    "$$\n",
    "\\sum_{i=1}^{k} i = 1+2+3+...+k = k(k+1)/2\n",
    "$$\n",
    "\n",
    "It suffices to observe that you can add the numbers in pairs, matching i with k − i + 1 starting with 1 and k. There are k/2 such pairs and each adds up to k + 1. Let’s use this formula to rewrite our sumk function and time it."
   ]
  },
  {
   "cell_type": "code",
   "execution_count": 4,
   "metadata": {},
   "outputs": [
    {
     "name": "stdout",
     "output_type": "stream",
     "text": [
      "average = 0.0000002 for k = 10000\n",
      "average = 0.0000003 for k = 100000\n",
      "average = 0.0000003 for k = 1000000\n",
      "average = 0.0000003 for k = 10000000\n",
      "average = 0.0000003 for k = 100000000\n"
     ]
    }
   ],
   "source": [
    "import time\n",
    "\n",
    "def sumk2(k):\n",
    "    start = time.time()\n",
    "    total = (k*(k+1)//2)\n",
    "    end = time.time()\n",
    "    return total, end - start\n",
    "\n",
    "timetrials(sumk2, 10000)\n",
    "timetrials(sumk2, 100000)\n",
    "timetrials(sumk2, 1000000)\n",
    "timetrials(sumk2, 10000000)\n",
    "timetrials(sumk2, 100000000)"
   ]
  },
  {
   "cell_type": "markdown",
   "metadata": {},
   "source": [
    "This is much much faster. Even as k becomes very large, it doesn’t slow down."
   ]
  },
  {
   "cell_type": "markdown",
   "metadata": {},
   "source": [
    "5.3 Modeling the Running Time of a Program<br><br>\n",
    "Introducing a general technique for describing and summarizing the number of operations required to run a piece of code, be it a single line, a function, or an entire program.It’s not enough to count lines of code. A single line of code can do a lot of stuff."
   ]
  },
  {
   "cell_type": "code",
   "execution_count": 5,
   "metadata": {},
   "outputs": [
    {
     "name": "stdout",
     "output_type": "stream",
     "text": [
      "[100, 300, 500, 700, 900, 1100, 1300, 1500, 1700]\n"
     ]
    }
   ],
   "source": [
    "def f001(k):\n",
    "    return [sum([i, i + 1] * 100) for i in range(k)]\n",
    "print(f001(9))"
   ]
  },
  {
   "cell_type": "markdown",
   "metadata": {},
   "source": [
    "Atomic operations include - arithmetic and boolean operations - variable assignment - accessing the value of a variable from its name - branching if/for/while statements - calling a function - returning from a function."
   ]
  },
  {
   "cell_type": "markdown",
   "metadata": {},
   "source": [
    "5.3.1 List Operations\n",
    "\n",
    "\n",
    "| Operation Name             |        Code        |        Cost        |\n",
    "|:---------------------------|:------------------:|-------------------:|\n",
    "| index access               | L[ i ]             |         1          |\n",
    "| index assignment           | L[ i ] = newvalue  |         1          |\n",
    "| Append                     | L.append(newitem)  |         1          |\n",
    "|Pop (from end of list)      | L.pop()            | 1\n",
    "|Pop (from index i)          | L.pop(i)           | n−i\n",
    "|Insert at index i           | insert(i, newitem) | n−i\n",
    "|Delete an item (at index i) | del(item)          | n−i\n",
    "|Membership testing          | item in L          | n\n",
    "|Slice                       | L[a:b]             | b−a\n",
    "|Concatenate two lists       | L1 + L2            | n1 + n2\n",
    "|Sort                        | L.sort()           | n log2 n\n",
    "\n",
    "These running times are the same for the other sequential col- lections, list and str assuming the operation exists for those immutable types. For example, index access, membership testing, slicing, and concatenation all work."
   ]
  },
  {
   "cell_type": "markdown",
   "metadata": {},
   "source": [
    "5.3.2 Dictionary Operations\n",
    "\n",
    "| Operation Name             |        Code        |        Cost        |\n",
    "|:---------------------------|:------------------:|-------------------:|\n",
    "| Get item                   | D[ key ]           |         1          |\n",
    "| Set item                   | D[ key ] = value   |         1          |\n",
    "| (key) membership testing   | key in D           |         1          |\n",
    "| Delete an item by its key  | del D[ key ]       |         1          |\n",
    "\n",
    "Unlike the list operations, the costs of dict operations are a bit mysterious. Some may seem downright impossible. Should it really cost just one atomic operation to test if a given item is in a set of a billion elements?<br>\n",
    "There are three things to remember: \n",
    "1. We will study how dictionaries are implemented and how they exploit one of the wonderful, clever ideas of computer science. \n",
    "2. This is just a model, albeit a useful and accurate one.\n",
    "3. The actual cost is a kind of average. It could take longer sometimes."
   ]
  },
  {
   "cell_type": "markdown",
   "metadata": {},
   "source": [
    "5.3.3 Set Operations<br><br>\n",
    "A set is very much like a dict where the entries have keys but no values. They are implemented the same way and so, the running times for their common operations are the same. Some set operations that correspond to the mathematical idea of a set do not correspond to operations on dictionaries. Operations that produce a new set will leave the input sets unchanged. Below, let nA be the size of set A and let nB be the size of set B.\n",
    "\n",
    "| Operation Name        |        Code        |        Cost                        |\n",
    "|:----------------------|:------------------:|-----------------------------------:|\n",
    "| Add a new item        | A.add(newitem)     |                1                   |\n",
    "| Delete an item        | A.delete(item)     |                1                   |\n",
    "| Union                 | A \\| B             |*n<sub>A</sub>* + *n<sub>B</sub>*   |\n",
    "| Intersection          | A & B              |*min n<sub>A</sub>*, *n<sub>B</sub>*|\n",
    "| Set differences       | A - B              |        *n<sub>A</sub>*             |\n",
    "| Symmetric difference  | A ∧ B              |*n<sub>A</sub>* + *n<sub>B</sub>*   |\n"
   ]
  },
  {
   "cell_type": "markdown",
   "metadata": {},
   "source": [
    "5.4 Asymptotic Analysis and the Order of Growth<br><br>\n",
    "The goal is not to predict exactly how much time an algorithm will take, but rather to predict the order of growth of the time as the input size grows.<br>\n",
    "If we have algorithm that operates on a list of length n, the running time could be proportional to n. In that case, the algorithm will take 100 times longer on a list that is 100 times longer. A second algorithm might have a running time proportional to n2 for inputs of length n. Then, the algorithm will take 10000 times longer on a list that is 100 times longer.<br><br>\n",
    "The size of the input refers to the number of bits needed to encode it. As we will be ignoring constant factors, we could just as easily refer to the number of words (a word is 64 bits) needed to encode it. An integer or a float is generally stored in one word.<br>Technically, we can store some really big numbers in a Python integer which would require many more words, but as a convention, we will assume that ints and floats fit in a constant number of bits. This is necessary to assume that arithmetic takes constant time."
   ]
  },
  {
   "cell_type": "markdown",
   "metadata": {},
   "source": [
    "5.5 Focus on the Worst Case<br><br>\n",
    "Usually, different inputs of the same length may have different running times.<br>\n",
    "The standard convention we will use most of the time is to consider the worst case. We are looking for upper bounds on the running time.<br>\n",
    "If the algorithm has a running time that is better than the analysis predicts, that’s okay."
   ]
  },
  {
   "cell_type": "markdown",
   "metadata": {},
   "source": [
    "5.6 Big-O<br><br>\n",
    "\n",
    "The formal mathematical definition that allows us to ignore constant factors is called the **big-O notation.**<br>\n",
    "Example:  \n",
    "$$\n",
    "f(n) = O(n^2)\n",
    "$$\n",
    "\n",
    "if there exists a constant c such that<br>\n",
    "*f (n) ≤ cn<sup>2</sup>* for all sufficiently large n.<br>\n",
    "This is correct for *f (n) = 5n<sup>2</sup> + 3n + 2* because if we take *c = 6*, we see that as long as *n > 4*, we have\n",
    "$$\n",
    "f (n) = 5n^2 + 3n + 2 < 5n^2 + 4n < 5n^2 + n^2 ≤ 6n^2\n",
    "$$\n",
    "\n",
    "The formal definition of the big-O notation:<br>\n",
    "Given (nondecreasing) functions ***f*** and ***g***, we say ***f (n) = O(g(n))*** if there exist constants ***c*** and ***n<sub>0</sub>*** such that for all ***n > n<sub>0</sub>*** we have ***f (n) ≤ cg(n).***"
   ]
  },
  {
   "cell_type": "markdown",
   "metadata": {},
   "source": [
    "5.7 The most important features of big-O usage<br><br>\n",
    "\n",
    "1. The big-O hides constant factors. Any term that does not depend on the size of the input is considered a constant and will be suppressed in the big-O.\n",
    "2. The big-O tells us about what will eventually be true when the input is sufficiently large."
   ]
  },
  {
   "cell_type": "markdown",
   "metadata": {},
   "source": [
    "5.8 Practical Use of the Big-O and Common Functions\n",
    "\n",
    "Even though the definition of the big-O notation allows us to compare all kinds of functions, we will usually use it to simplify functions, eliminating extraneous constants and low order terms.<br>\n",
    "So, for example, you should write ***O(n)*** instead of ***O(3n)*** and ***O(n<sup>2</sup>)*** instead of ***O(5n<sup>2</sup> + 3n + 2).***<br>\n",
    "There are several functions that will come up so often that we will want to have them in our vocabulary.<br>\n",
    "\n",
    "- Constant Functions    ------->***O(1)***\n",
    "- Logarithmic Functions ------->***O(log n)***\n",
    "- Linear Functions      ------->***O(n)***\n",
    "- n Log n               ------->***O(n log n)***\n",
    "- Quadratic Functions   ------->***O(n<sup>2</sup>)***\n",
    "- Polynomial Functions  ------->***O(n<sup>k</sup>)*** for some constant k.\n",
    "- Exponential Functions ------->***O(2<sup>n</sup>)*** (this is different from 2<sup>O(n)</sup>)\n",
    "- Factorial Functions   ------->***O(n!)***"
   ]
  },
  {
   "cell_type": "markdown",
   "metadata": {},
   "source": [
    "5.9 Bases for Logarithms<br><br>\n",
    "You may have noticed that we didn’t give a base for the logarithm above.<br>\n",
    "The reason is that inside the big-O, logarithms of any constant base are the same.<br>\n",
    "That is, ***log<sub>a</sub> (n) = O(log<sub>b</sub> (n))***, where a and b are any two constants. Here’s the proof.<br>\n",
    "$$\n",
    "Let\\ c\\ = \\ \\frac{1}{log_{b}(a)}\\ and\\ n_{0} = 0\n",
    "$$\n",
    "\n",
    "$$\n",
    "log_{a}(n)\\ = \\ \\frac{log_{b}(n)}{log_{b}(a)} \\leq clog_{b}(n) \\ for \\ all \\ n > n_{0} \n",
    "$$"
   ]
  },
  {
   "cell_type": "markdown",
   "metadata": {},
   "source": [
    "5.10 Practice examples<br><br>\n",
    "In each of the following examples, assume the input is a list of length n."
   ]
  },
  {
   "cell_type": "code",
   "execution_count": 8,
   "metadata": {},
   "outputs": [],
   "source": [
    "def f002(L):\n",
    "    newList = []        # 2\n",
    "    for i in L:         # loop n times\n",
    "        if i % 2 == 0:  # 1\n",
    "            newList.append(i)   # 1\n",
    "    return newList      # 1"
   ]
  },
  {
   "cell_type": "markdown",
   "metadata": {},
   "source": [
    "Let’s count up the cost of each line of code. The costs are in the comments. So, the total cost is something like ***2n + 3*** in the worst case (i.e. when all the items are even). We would report this as ***O(n)*** and we would call this a linear-time algorithm, or sometimes simply a linear algorithm."
   ]
  },
  {
   "cell_type": "code",
   "execution_count": 6,
   "metadata": {},
   "outputs": [],
   "source": [
    "def f003(L):\n",
    "    x = 0           # 1\n",
    "    for i in L:     # loop n times\n",
    "        for j in L: # loop n times\n",
    "            x += i*j    # 3\n",
    "    return x        # 1"
   ]
  },
  {
   "cell_type": "markdown",
   "metadata": {},
   "source": [
    "Again, let’s count up the cost of each line of code. The costs are in the comments. The inner loop costs ***3n*** and it runs n times, so the total for the whole method is ***3n<sup>2</sup> + 2.*** We would report this as ***O(n<sup>2</sup> )*** and call this a quadratic-time algorithm, or sometimes simply a quadratic algorithm."
   ]
  },
  {
   "cell_type": "code",
   "execution_count": 9,
   "metadata": {},
   "outputs": [],
   "source": [
    "def f004(L):\n",
    "    x = 0           # 1\n",
    "    for j in range(1, len(L)):  # loop n-1 times\n",
    "        for i in range(j):      # loop j times\n",
    "            x += L[i] * L[j]    # 5\n",
    "    return x        # 1"
   ]
  },
  {
   "cell_type": "markdown",
   "metadata": {},
   "source": [
    "The first costs 5, the second costs 10, and so on to that the *j* th costs 5*j*. The total costs including initializing x and returning is\n",
    "$$\n",
    "2 \\ + \\ \\sum_{i=1}^{n-1} \\ 5i \\ = \\ 2+5 \\ \\sum_{i=1}^{n-1} \\ = \\ 2+ \\frac{5n(n-1)}{2} \\ = \\ O(n^2)\n",
    "$$"
   ]
  }
 ],
 "metadata": {
  "kernelspec": {
   "display_name": "Python 3",
   "language": "python",
   "name": "python3"
  },
  "language_info": {
   "codemirror_mode": {
    "name": "ipython",
    "version": 3
   },
   "file_extension": ".py",
   "mimetype": "text/x-python",
   "name": "python",
   "nbconvert_exporter": "python",
   "pygments_lexer": "ipython3",
   "version": "3.10.12"
  },
  "orig_nbformat": 4
 },
 "nbformat": 4,
 "nbformat_minor": 2
}
