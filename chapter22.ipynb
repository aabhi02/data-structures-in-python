{
 "cells": [
  {
   "cell_type": "markdown",
   "metadata": {},
   "source": [
    "Chapter 22 (Disjoint) Sets<br>\n",
    "\n",
    "However, there is one common data structuring problem that requires us\n",
    "to store a collection of sets that can change. It is called the Disjoint Sets\n",
    "problem. In this problem, we have a collection of things and the things are\n",
    "grouped in to disjoint sets. We’d like to be able to quickly find if two things\n",
    "are in the same group. On the other hand, we are sometimes told that two\n",
    "things are in the same group, in which case, we may need change our idea\n",
    "of the grouping, combining two groups into one.<br>\n",
    "\n",
    "A data structure to store a collection of disjoint sets is often called\n",
    "a Union-Find data structure."
   ]
  },
  {
   "cell_type": "markdown",
   "metadata": {},
   "source": [
    "22.1 The Disjoint Sets ADT<br>\n",
    "\n",
    "- union(a, b) Replace the sets containing a and b with a single set\n",
    "that is their union.\n",
    "- find(a, b) Return True is a and b are in the same set. Otherwise,\n",
    "return False."
   ]
  },
  {
   "cell_type": "markdown",
   "metadata": {},
   "source": [
    "22.2 A Simple Implementation"
   ]
  },
  {
   "cell_type": "code",
   "execution_count": 1,
   "metadata": {},
   "outputs": [],
   "source": [
    "class DisjointSetsMapping:\n",
    "    def __init__(self, L):\n",
    "        self._map = {item : {item} for item in L}\n",
    "    \n",
    "    def find(self, a, b):\n",
    "        return a in self._map[b]\n",
    "    \n",
    "    def union(self, a, b):\n",
    "        if not self.find(a,b):\n",
    "            union = self._map[a] | self._map[b]\n",
    "            for item in union:\n",
    "                self._map[item] = union"
   ]
  },
  {
   "cell_type": "markdown",
   "metadata": {},
   "source": [
    "We could just label the items. If two items have\n",
    "the same label, then they are in the same set. Union just relabels the items\n",
    "in one of the sets. In this way, the sets themselves are implicit."
   ]
  },
  {
   "cell_type": "code",
   "execution_count": 2,
   "metadata": {},
   "outputs": [],
   "source": [
    "class DisjointSetsLabels:\n",
    "    def __init__(self, L):\n",
    "        self._label = {item : item for item in L}\n",
    "    \n",
    "    def find(self, a, b):\n",
    "        return self._label[a] is self._label[b]\n",
    "    \n",
    "    def union(self, a, b):\n",
    "        if not self.find(a,b):\n",
    "            for key, value in self._label.items():\n",
    "                if value is self._label[b]:\n",
    "                    self._label[key] = self._label[a]"
   ]
  },
  {
   "cell_type": "markdown",
   "metadata": {},
   "source": [
    "We can try to make our union\n",
    "operation much faster by changing fewer labels.\n",
    "Instead of mapping items to labels, we map them to an item that we’ll\n",
    "call its parent. If every node has a single parent and there are no loops,\n",
    "then we get a forest. It is a collection of trees."
   ]
  },
  {
   "cell_type": "code",
   "execution_count": 3,
   "metadata": {},
   "outputs": [],
   "source": [
    "class DisjointSetsForest:\n",
    "    def __init__(self, L):\n",
    "        self._parent = {item : item for item in L}\n",
    "    \n",
    "    def _root(self, item):\n",
    "        while item is not self._parent[item]:\n",
    "            item = self._parent[item]\n",
    "        return item\n",
    "    \n",
    "    def find(self, a, b):\n",
    "        return self._root(a) is self._root(b)\n",
    "    \n",
    "    def union(self, a, b):\n",
    "        if not self.find(a,b):\n",
    "            self._parent[self._root(b)] = self._root(a)"
   ]
  },
  {
   "cell_type": "markdown",
   "metadata": {},
   "source": [
    "22.3 Path Compression<br>\n",
    "\n",
    "If we want to avoid traversing long paths too many times, we can just go\n",
    "and make them shorter each time we traverse them. A simple way to do this\n",
    "is just to replace parents with gradnparents as we go up the tree. This only\n",
    "requires one more line of code. The affect is that the depth of every node\n",
    "on the path we traverse gets cut in half (plus one). This means that the\n",
    "longest path can only get traversed O(logn) times before it is compressed\n",
    "down to a single edge."
   ]
  },
  {
   "cell_type": "code",
   "execution_count": 4,
   "metadata": {},
   "outputs": [],
   "source": [
    "# Path Compression halving as we go.\n",
    "# Every node on the path to root is updated to point to its grandparent.\n",
    "# single pass\n",
    "class DisjointSetsPathCompression:\n",
    "    def __init__(self, L):\n",
    "        self._parent = {item : item for item in L}\n",
    "    \n",
    "    def _root(self, item):\n",
    "        while item is not self._parent[item]:\n",
    "            parent = self._parent[item]\n",
    "            item, self._parent[item] = parent, self._parent[parent]\n",
    "        return item\n",
    "    \n",
    "    def find(self, a, b):\n",
    "        return self._root(a) is self._root(b)\n",
    "    \n",
    "    def union(self, a, b):\n",
    "        if not self.find(a,b):\n",
    "            self._parent[self._root(b)] = self._root(a)"
   ]
  },
  {
   "cell_type": "code",
   "execution_count": 5,
   "metadata": {},
   "outputs": [],
   "source": [
    "# Path compression with two passes.\n",
    "# Retraverse the path to the root, pointing every node all the way up to the new\n",
    "# two pass\n",
    "class DisjointSetsTwoPassPC:\n",
    "    def __init__(self, L):\n",
    "        self._parent = {item : item for item in L}\n",
    "    \n",
    "    def _root(self, item):\n",
    "        root = item\n",
    "        while root is not self._parent[root]:\n",
    "            root = self._parent[root]\n",
    "            self._compress(item, root)\n",
    "        return root\n",
    "    \n",
    "    def _compress(self, item, newroot):\n",
    "        while item is not newroot:\n",
    "            item, self._parent[item] = self._parent[item], newroot\n",
    "    \n",
    "    def find(self, a, b):\n",
    "        return self._root(a) is self._root(b)\n",
    "    \n",
    "    def union(self, a, b):\n",
    "        if not self.find(a,b):\n",
    "            self._parent[self._root(b)] = self._root(a)"
   ]
  },
  {
   "cell_type": "markdown",
   "metadata": {},
   "source": [
    "you may squeeze a little improve-\n",
    "ment by removing the redundancy involved in calling _ root twice for each\n",
    "item in the union method"
   ]
  },
  {
   "cell_type": "markdown",
   "metadata": {},
   "source": [
    "22.4 Merge by Height<br>\n",
    "\n",
    "Another way you might try to keep paths short is to be just a little more\n",
    "careful about who gets to be the new root when doing a union operation.\n",
    "The taller tree should be the new root, Then, the height will not increase\n",
    "unless you are merging two trees of the same height."
   ]
  },
  {
   "cell_type": "code",
   "execution_count": 6,
   "metadata": {},
   "outputs": [],
   "source": [
    "# Merge by height\n",
    "class DisjointSetsMergeByHeight:\n",
    "    def __init__(self, L):\n",
    "        self._parent = {item : item for item in L}\n",
    "        self._height = {item : 0 for item in L}\n",
    "    \n",
    "    def _root(self, item):\n",
    "        while item is not self._parent[item]:\n",
    "            item = self._parent[item]\n",
    "        return item\n",
    "    \n",
    "    def find(self, a, b):\n",
    "        return self._root(a) is self._root(b)\n",
    "    \n",
    "    def union(self, a, b):\n",
    "        if not self.find(a,b):\n",
    "            if self._height[a] < self._height[b]:\n",
    "                a,b = b,a\n",
    "            self._parent[self._root(b)] = self._root(a)\n",
    "            self._height[a] = max(self._height[a], self._height[b] + 1)"
   ]
  },
  {
   "cell_type": "markdown",
   "metadata": {},
   "source": [
    "22.5 Merge By Weight<br>\n",
    "\n",
    "Instead of looking at the heights of the trees, one could look at the number\n",
    "of nodes in the trees. If one tree has more nodes, maybe it is also taller. The\n",
    "advantage over merge by height is that this information is not affected by\n",
    "path compression. Therefore we can (and will soon) combine these tricks."
   ]
  },
  {
   "cell_type": "code",
   "execution_count": 7,
   "metadata": {},
   "outputs": [],
   "source": [
    "# Merge by weight\n",
    "class DisjointSetsMergeByWeight:\n",
    "    def __init__(self, L):\n",
    "        self._parent = {item : item for item in L}\n",
    "        self._weight = {item : 1 for item in L}\n",
    "    \n",
    "    def _root(self, item):\n",
    "        while item is not self._parent[item]:\n",
    "            item = self._parent[item]\n",
    "        return item\n",
    "    \n",
    "    def find(self, a, b):\n",
    "        return self._root(a) is self._root(b)\n",
    "    \n",
    "    def union(self, a, b):\n",
    "        if not self.find(a,b):\n",
    "            if self._weight[a] < self._weight[b]:\n",
    "                a,b = b,a\n",
    "            self._parent[self._root(b)] = self._root(a)\n",
    "            self._weight[a] += self._weight[b]"
   ]
  },
  {
   "cell_type": "markdown",
   "metadata": {},
   "source": [
    "22.6 Combining Heuristics<br>\n",
    "\n",
    "As mentioned before, we can use both heuristics, combining merge by weight\n",
    "and path compression. it turns out that this is very efficient, both in theory\n",
    "and in practice. The running time of n operations is (as close as you will\n",
    "ever be able to tell) proportional to n."
   ]
  },
  {
   "cell_type": "code",
   "execution_count": 8,
   "metadata": {},
   "outputs": [],
   "source": [
    "# Merge by weight and path compression\n",
    "class DisjointSets:\n",
    "    def __init__(self, L):\n",
    "        self._parent = {item : item for item in L}\n",
    "        self._weight = {item : 1 for item in L}\n",
    "    \n",
    "    def _root(self, item):\n",
    "        root = item\n",
    "        while root is not self._parent[root]:\n",
    "            root = self._parent[root]\n",
    "        self._compress(item, root)\n",
    "        return root\n",
    "    \n",
    "    def _compress(self, item, newroot):\n",
    "        while item is not newroot:\n",
    "            item, self._parent[item] = self._parent[item], newroot\n",
    "    \n",
    "    def find(self, a, b):\n",
    "        return self._root(a) is self._root(b)\n",
    "    \n",
    "    def union(self, a, b):\n",
    "        if not self.find(a,b):\n",
    "            if self._weight[a] < self._weight[b]:\n",
    "                a,b = b,a\n",
    "            self._parent[self._root(b)] = self._root(a)\n",
    "            self._weight[a] += self._weight[b]"
   ]
  },
  {
   "cell_type": "markdown",
   "metadata": {},
   "source": [
    "22.7 Kruskall’s Algorithm<br>\n",
    "\n",
    "It is natural to think about the union and find operations in terms of\n",
    "graphs. That is, you can think of union as adding an edge to a graph and\n",
    "find as answering if two vertices are connected. This is a useful perspective\n",
    "and it naturally leads to an algorithm for computing minimum spanning\n",
    "trees. The idea is simple, sort the edges by weight. Then try to add in the\n",
    "edges, one at a time, as long as the edge doesn’t form a cycle. The result\n",
    "will be an MST."
   ]
  },
  {
   "cell_type": "code",
   "execution_count": 9,
   "metadata": {},
   "outputs": [],
   "source": [
    "from ds2.disjointsets import DisjointSets\n",
    "\n",
    "def kruskall(G):\n",
    "    V = list(G.vertices())\n",
    "    UF = DisjointSets(V)\n",
    "    edges = sorted(G.edges(), key = lambda e :G.wt(*e))\n",
    "    T = Graph(V, set())\n",
    "    for u, v in edges:\n",
    "        if not UF.find(u, v):\n",
    "            UF.union(u, v)\n",
    "            T.addedge(u, v)\n",
    "    return T"
   ]
  },
  {
   "cell_type": "code",
   "execution_count": 10,
   "metadata": {},
   "outputs": [
    {
     "name": "stdout",
     "output_type": "stream",
     "text": [
      "[frozenset({2, 4}), frozenset({2, 3}), frozenset({3, 5}), frozenset({1, 2})]\n"
     ]
    }
   ],
   "source": [
    "from ds2.graph import Graph\n",
    "\n",
    "G = Graph({1,2,3,4,5},\n",
    "        {(1,2,1),\n",
    "        (1,3,4),\n",
    "        (2,3,2),\n",
    "        (2,4,4),\n",
    "        (5,3,1),\n",
    "        })\n",
    "MST = kruskall(G)\n",
    "print(list(MST.edges()))"
   ]
  }
 ],
 "metadata": {
  "kernelspec": {
   "display_name": "Python 3",
   "language": "python",
   "name": "python3"
  },
  "language_info": {
   "codemirror_mode": {
    "name": "ipython",
    "version": 3
   },
   "file_extension": ".py",
   "mimetype": "text/x-python",
   "name": "python",
   "nbconvert_exporter": "python",
   "pygments_lexer": "ipython3",
   "version": "3.10.12"
  },
  "orig_nbformat": 4
 },
 "nbformat": 4,
 "nbformat_minor": 2
}
