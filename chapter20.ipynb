{
 "cells": [
  {
   "cell_type": "markdown",
   "metadata": {},
   "source": [
    "Chapter 20 Graphs<br>\n",
    "\n",
    "A graph is a pair (V, E) where V is any set and E is a set of\n",
    "pairs of elements of V . We call V the vertex set and E the edge set.\n",
    "\n",
    "Example:\n",
    "G = ({1,2,3,4}, {(1,2), (1,3), (1,4)})<br>\n",
    "\n",
    "The graph G has 4 vertices and 3 edges. Such a graph is often depicted\n",
    "4 labeled circles for vertices and lines between them depicting the edges.\n",
    "Because tuples are ordered, we would add arrowheads. This indicates a\n",
    "directed graph or digraph. If the ordering of the vertices in an edge\n",
    "does not matter, we have an undirected graph. There will be no major\n",
    "difference between an undirected graph and a digraph that has a matched\n",
    "pair (v, u) for every (u, v) in E.<br>\n",
    "\n",
    "Usually, we will disallow self-loops, edges that start and end at the\n",
    "same vertex, and multiple edges between the same pair of vertices. Graphs\n",
    "without self-loops and multiple edges are called simple graphs.<br>\n",
    "\n",
    "If two vertices are connected by an edge, we say they are adjacent. We\n",
    "all call such vertices neighbors. For an edge e = (u, v), we say that the\n",
    "vertices u and v are incident to the edge e. The degree of a vertex\n",
    "is the number of neighbors it has. For digraphs, we distinguish between\n",
    "in-degree and out-degree, the number of in-neighbors and out-neighbors\n",
    "respectively."
   ]
  },
  {
   "cell_type": "markdown",
   "metadata": {},
   "source": [
    "20.1 A Graph ADT<br>\n",
    "\n",
    "- __ init __(V, E) : Initialize a new graph with vertex set V and edge set E.\n",
    "- vertices() : Return an iterable collection of the vertices.\n",
    "- edges() : Return an iterable collection of the edges.\n",
    "- addvertex(v) : Add a new vertex to the graph. The new vertex is identified with the v object.\n",
    "- addedge(u, v) : Add a new edge to the graph between the vertices with keys u and v.\n",
    "- removeedge(u,v) : Remove the edge u,v from the graph.\n",
    "- __ contains __ (v) : Return True if the vertex v is in the graph and return False otherwise.\n",
    "- hasedge(u,v) : Return True if the edge (u,v) is in the graph and return False otherwise.\n",
    "- nbrs(v) : Return an iterable collection of the (out)neighbors of v, i.e. those vertices w such that (v, w) is an edge. (For directed graphs, this is the collection of out-neighbors.)\n",
    "- __ len __ () : Return the number of vertices in the graph."
   ]
  },
  {
   "cell_type": "markdown",
   "metadata": {},
   "source": [
    "20.2 The EdgeSetGraph Implementation"
   ]
  },
  {
   "cell_type": "code",
   "execution_count": 1,
   "metadata": {},
   "outputs": [],
   "source": [
    "class EdgeSetGraph:\n",
    "    def __init__(self, V = (), E = ()):\n",
    "        self._V = set()\n",
    "        self._E = set()\n",
    "        for v in V: self.addvertex(v)\n",
    "        for u, v in E: self.addegde(u, v)\n",
    "\n",
    "    def vertices(self):\n",
    "        return iter(self._V)\n",
    "    \n",
    "    def edges(self):\n",
    "        return iter(self._E)\n",
    "    \n",
    "    def addvertex(self, v):\n",
    "        self._V.add(v)\n",
    "\n",
    "    def addedge(self, u, v):\n",
    "        self._E.add((u, v))\n",
    "\n",
    "    def removeedge(self, u, v):\n",
    "        self._E.remove((u, v))\n",
    "\n",
    "    def __contains__(self, v):\n",
    "        return v in self._V\n",
    "    \n",
    "    def hasedge(self, u, v):\n",
    "        return (u, v) in self._E\n",
    "    \n",
    "    def nbrs(self, v):\n",
    "        return (w for u, w in self._E if u == v)\n",
    "    \n",
    "    def __len__(self):\n",
    "        return len(self._V)"
   ]
  },
  {
   "cell_type": "markdown",
   "metadata": {},
   "source": [
    "To make an undirected version of this class, we can will replace the\n",
    "tuples we are currently using with sets. The problem here is that Python\n",
    "doesn’t let us use sets as elements of sets. Remember that mutable types\n",
    "like sets and lists cannot be used this way. Thankfully, Python provides an\n",
    "immutable set type called frozenset. It is just like a set except that it\n",
    "cannot be changed. It can be used for our edge set in the undirected graph\n",
    "as follows."
   ]
  },
  {
   "cell_type": "code",
   "execution_count": 2,
   "metadata": {},
   "outputs": [],
   "source": [
    "class UndirectedEdgeSetGraph(EdgeSetGraph):\n",
    "    def addedge(self, u, v):\n",
    "        self._E.add(frozenset({u, v}))\n",
    "\n",
    "    def removeedge(self, u, v):\n",
    "        self._E.remove(frozenset({u, v}))\n",
    "\n",
    "    def nbrs(self, v):\n",
    "        for u , w in self._E:\n",
    "            if u == v:\n",
    "                yield w\n",
    "            elif w == v:\n",
    "                yield u"
   ]
  },
  {
   "cell_type": "markdown",
   "metadata": {},
   "source": [
    "20.3 The AdjacencySetGraph Implementation"
   ]
  },
  {
   "cell_type": "code",
   "execution_count": 16,
   "metadata": {},
   "outputs": [
    {
     "name": "stdout",
     "output_type": "stream",
     "text": [
      "neighbors of 1: [2, 3]\n",
      "neighbors of 2: [1]\n",
      "neighbors of 3: []\n"
     ]
    }
   ],
   "source": [
    "class AdjacencySetGraph:\n",
    "    def __init__(self, V = (), E = ()):\n",
    "        self._V = set()\n",
    "        self._nbrs = {}\n",
    "        for v in V: self.addvertex(v)\n",
    "        for e in E: self.addedge(*e)\n",
    "\n",
    "    def vertices(self):\n",
    "        return iter(self._V)\n",
    "    \n",
    "    def edges(self):\n",
    "        for u in self._V:\n",
    "            for v in self._nbrs(u):\n",
    "                yield (u, v)\n",
    "    \n",
    "    def addvertex(self, v):\n",
    "        self._V.add(v)\n",
    "        self._nbrs[v] = set()\n",
    "\n",
    "    def addedge(self, u, v):\n",
    "        self._nbrs[u].add(v)\n",
    "\n",
    "    def removeedge(self, u, v):\n",
    "        self._nbrs[u].remove(v)\n",
    "\n",
    "    def __contains__(self, v):\n",
    "        return v in self._nbrs\n",
    "    \n",
    "    def nbrs(self, v):\n",
    "        return iter(self._nbrs[v])\n",
    "    \n",
    "    def __len__(self):\n",
    "        return len(self._nbrs)\n",
    "    \n",
    "    def hasedge(self, u, v):\n",
    "        return v in self._nbrs[u]\n",
    "    \n",
    "    # def connected(self, a, b):\n",
    "    #     if a == b: return True\n",
    "    #     return any(self.connected(nbr, b) for nbr in self.nbrs(a))\n",
    "\n",
    "    def connected(self, a, b):\n",
    "        return self._connected(a, b, set())\n",
    "\n",
    "    def _connected(self, a, b, visited):\n",
    "        if a in visited: return False\n",
    "        if a == b: return True\n",
    "        visited.add(a)\n",
    "        return any(self._connected(nbr, b, visited) for nbr in self.nbrs(a))\n",
    "    \n",
    "G = AdjacencySetGraph({1, 2, 3}, {(1, 2), (2, 1), (1, 3)})\n",
    "print(\"neighbors of 1:\", list(G.nbrs(1)))\n",
    "print(\"neighbors of 2:\", list(G.nbrs(2)))\n",
    "print(\"neighbors of 3:\", list(G.nbrs(3)))"
   ]
  },
  {
   "cell_type": "markdown",
   "metadata": {},
   "source": [
    "If self. nbrs[u] in hasedge method were a list, the method could take time linear in the degree of u.<br>\n",
    "\n",
    "To make an undirected version of the AdjacencySetGraph, we will let\n",
    "it behave like a directed graph in which every edge has a twin in the oppo-\n",
    "site direction. This affects our addedge and removeedge methods. It also\n",
    "requires us to be a little more careful about the edges method so as not\n",
    "to return twice as many edges as before. We will use a set of frozensets as\n",
    "before to eliminate duplicates."
   ]
  },
  {
   "cell_type": "code",
   "execution_count": 4,
   "metadata": {},
   "outputs": [],
   "source": [
    "from ds2.graph import AdjacencySetGraph\n",
    "\n",
    "class UndirectedAdjacencySetGraph(AdjacencySetGraph):\n",
    "    def addedge(self, u, v):\n",
    "        AdjacencySetGraph.addedge(self, u, v)\n",
    "        AdjacencySetGraph.addedge(self, v, u)\n",
    "\n",
    "    def removeedge(self, u, v):\n",
    "        AdjacencySetGraph.removeedge(self, u, v)\n",
    "        AdjacencySetGraph.removeedge(self, v, u)\n",
    "\n",
    "    def edges(self):\n",
    "        E = {frozenset(e) for e in AdjacencySetGraph.edges(self)}\n",
    "        return iter(E)"
   ]
  },
  {
   "cell_type": "markdown",
   "metadata": {},
   "source": [
    "20.4 Paths and Connectivity<br>\n",
    "\n",
    "A path in a graph G = (V, E) is a sequence of vertices connected by edges.\n",
    "That is, a nonempty sequence of vertices (v0 , v1 , . . . , vk ) is a path from v0\n",
    "to vk as long as (vi−1 , vi ) ∈ E for all i ∈ 1, . . . , k. We say a **path is simple**\n",
    "if it does not repeat any vertices. The length of a path is the number of\n",
    "edges. A single vertex can be seen as a path of length zero.<br>\n",
    "\n",
    "A cycle is a path of length at least one that starts and ends at the same\n",
    "vertex. The length of a cycle is the number of edges. A cycle is simple\n",
    "if is is a cycle and removing the last edge results in a simple path, i.e., there\n",
    "are no repeated vertices until the last one.\n",
    "To solidify these definitions, we could write a couple methods to check\n",
    "them."
   ]
  },
  {
   "cell_type": "code",
   "execution_count": 5,
   "metadata": {},
   "outputs": [],
   "source": [
    "def ispath(self, V):\n",
    "    \"\"\"Return True if and only if the vertices V form a path.\"\"\"\n",
    "    return V and all(self.hasedge(V[i-1], V[i]) for i in range(1, len(V)))\n",
    "\n",
    "def issimplepath(self, V):\n",
    "    \"\"\"Return True if and only if the vertices V form a simple path.\"\"\"\n",
    "    return self.ispath(V) and len(V) == len(set(V))\n",
    "\n",
    "def iscycle(self, V):\n",
    "    \"\"\"Return True if and only if the vertices V form a cycle.\"\"\"\n",
    "    return self.ispath(V) and V[0] == V[-1]\n",
    "\n",
    "def issimplecycle(self, V):\n",
    "    \"\"\"Return True if and only if the vertices V form a simple cycle.\"\"\"\n",
    "    return self.iscycle(V) and self.issimplepath(V[:-1])"
   ]
  },
  {
   "cell_type": "code",
   "execution_count": 6,
   "metadata": {},
   "outputs": [
    {
     "name": "stdout",
     "output_type": "stream",
     "text": [
      "[1,2,3,1] is a path True\n",
      "[1,2,3,1] is a simple path False\n",
      "[1,2,3] is a simple path True\n",
      "[1,2,3] is a simple cycle: False\n",
      "[1,2,3,1] is a simple cycle: False\n",
      "[1,2,3,4] is a simple path: True\n",
      "[1,2,3,4] is a simple cycle: False\n",
      "[1,2,3,4,3,1] is a cycle: True\n",
      "[1,2,3,4,3,1] is a simple cycle: False\n"
     ]
    }
   ],
   "source": [
    "G = AdjacencySetGraph({1,2,3,4}, {(1,2),(3,1), (2,3), (3,4), (4,3)})\n",
    "print(\"[1,2,3,1] is a path\", G.ispath([1,2,3,1]))\n",
    "print(\"[1,2,3,1] is a simple path\", G.issimplepath([1,2,3,1]))\n",
    "print(\"[1,2,3] is a simple path\", G.issimplepath([1,2,3]))\n",
    "print(\"[1,2,3] is a simple cycle:\", G.issimplecycle([1,2,3]))\n",
    "print(\"[1,2,3,1] is a simple cycle:\", G.issimplecycle([1,2,3]))\n",
    "print(\"[1,2,3,4] is a simple path:\", G.issimplepath([1,2,3,4]))\n",
    "print(\"[1,2,3,4] is a simple cycle:\", G.issimplecycle([1,2,3,4]))\n",
    "print(\"[1,2,3,4,3,1] is a cycle:\", G.iscycle([1,2,3,4,3,1]))\n",
    "print(\"[1,2,3,4,3,1] is a simple cycle:\", G.issimplecycle([1,2,3,4,3,1]))"
   ]
  },
  {
   "cell_type": "markdown",
   "metadata": {},
   "source": [
    "We say that u is connected to v if there exists a path that starts at u\n",
    "and ends at v. For an undirected graph, if u is connected to v, then v is\n",
    "connected to u. In such graphs, we can partition the vertices into subsets\n",
    "called connected components that are all pairwise connected.\n",
    "For a directed graph, two vertices u and v are strongly connected if\n",
    "u is connected to v and also v is connected to u."
   ]
  },
  {
   "cell_type": "code",
   "execution_count": 7,
   "metadata": {},
   "outputs": [],
   "source": [
    "def connected(self, a, b):\n",
    "    if a == b: return True\n",
    "    return any(self.connected(nbr, b) for nbr in self.nbrs(a))"
   ]
  },
  {
   "cell_type": "code",
   "execution_count": 15,
   "metadata": {},
   "outputs": [
    {
     "name": "stdout",
     "output_type": "stream",
     "text": [
      "First graph is okay.\n",
      "There was too much recursion!\n"
     ]
    }
   ],
   "source": [
    "G = AdjacencySetGraph({1,2,3}, {(1,2), (2,3)})\n",
    "assert(G.connected(1,2))\n",
    "assert(G.connected(1,3))\n",
    "assert(not G.connected(3,1))\n",
    "print(\"First graph is okay.\")\n",
    "H = AdjacencySetGraph({1,2,3}, {(1,2), (2,1), (2,3)})\n",
    "try:\n",
    "    H.connected(1,3)\n",
    "except RecursionError:\n",
    "    print(\"There was too much recursion!\")"
   ]
  },
  {
   "cell_type": "markdown",
   "metadata": {},
   "source": [
    "It’s clear that if the graph has any cycles, we can’t check connectivity\n",
    "this way. To deal with cycles, we can keep a set of visited vertices. Recall\n",
    "that this is called memoization."
   ]
  },
  {
   "cell_type": "code",
   "execution_count": 9,
   "metadata": {},
   "outputs": [],
   "source": [
    "def connected(self, a, b):\n",
    "    return self._connected(a, b, set())\n",
    "\n",
    "def _connected(self, a, b, visited):\n",
    "    if a in visited: return False\n",
    "    if a == b: return True\n",
    "    visited.add(a)\n",
    "    return any(self._connected(nbr, b, visited) for nbr in self.nbrs(a))"
   ]
  },
  {
   "cell_type": "code",
   "execution_count": 17,
   "metadata": {},
   "outputs": [
    {
     "name": "stdout",
     "output_type": "stream",
     "text": [
      "It works now!\n"
     ]
    }
   ],
   "source": [
    "H = AdjacencySetGraph({1,2,3}, {(1,2), (2,1), (2,3)})\n",
    "try:\n",
    "    assert(H.connected(1,2))\n",
    "    assert(H.connected(1,3))\n",
    "except RecursionError:\n",
    "    print(\"There was too much recursion!\")\n",
    "print(\"It works now!\")"
   ]
  },
  {
   "cell_type": "markdown",
   "metadata": {},
   "source": [
    "Visualize and understand graphs better [here](https://csacademy.com/app/graph_editor/)"
   ]
  }
 ],
 "metadata": {
  "kernelspec": {
   "display_name": "Python 3",
   "language": "python",
   "name": "python3"
  },
  "language_info": {
   "codemirror_mode": {
    "name": "ipython",
    "version": 3
   },
   "file_extension": ".py",
   "mimetype": "text/x-python",
   "name": "python",
   "nbconvert_exporter": "python",
   "pygments_lexer": "ipython3",
   "version": "3.10.12"
  },
  "orig_nbformat": 4
 },
 "nbformat": 4,
 "nbformat_minor": 2
}
