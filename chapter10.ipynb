{
 "cells": [
  {
   "cell_type": "markdown",
   "metadata": {},
   "source": [
    "Chapter 10 Dynamic Programming<br>\n",
    "\n",
    "The term dynamic programming refers to an approach to writing algorithms in which a problem is solved using solutions to the same problem on smaller instances.<br>\n",
    "In this chapter we take a perticular example problem called \"giving change using the fewest coins\" and see how it can be optimised using dynamic programming."
   ]
  },
  {
   "cell_type": "markdown",
   "metadata": {},
   "source": [
    "10.1 A Greedy Algorithm"
   ]
  },
  {
   "cell_type": "code",
   "execution_count": 1,
   "metadata": {},
   "outputs": [
    {
     "name": "stdout",
     "output_type": "stream",
     "text": [
      "6\n",
      "15\n",
      "7\n"
     ]
    }
   ],
   "source": [
    "def greedyMC(coinValueList, change):\n",
    "    coinValueList.sort()\n",
    "    coinValueList.reverse()\n",
    "    numcoins = 0\n",
    "    for c in coinValueList:\n",
    "        numcoins += change // c\n",
    "        change = change % c\n",
    "    return numcoins\n",
    "\n",
    "print(greedyMC([1,5,10,25], 63))\n",
    "print(greedyMC([1, 21, 25], 63))\n",
    "print(greedyMC([1, 5, 21, 25], 63))"
   ]
  },
  {
   "cell_type": "markdown",
   "metadata": {},
   "source": [
    "A first attempt at such a solution might be to assign the change in a greedy way. In that approach, you would simply try to add the largest coin you can until you are done.<br>\n",
    "Clearly, this does not work. The second example returns 15 and the third returns 7. In both cases, the right answer should have been 3 as can be achieved by returning three 21 cent coins. The problem is not a bug in the code, but an incorrect algorithm. The greedy solution does not work here. Let’s try recursion instead."
   ]
  },
  {
   "cell_type": "markdown",
   "metadata": {},
   "source": [
    "10.2 A Recursive Algorithm"
   ]
  },
  {
   "cell_type": "code",
   "execution_count": 2,
   "metadata": {},
   "outputs": [
    {
     "name": "stdout",
     "output_type": "stream",
     "text": [
      "3\n",
      "3\n"
     ]
    }
   ],
   "source": [
    "def recMC(coinValueList, change):\n",
    "    minCoins = change\n",
    "    if change in coinValueList:\n",
    "        return 1\n",
    "    else:\n",
    "        for i in [c for c in coinValueList if c <= change]:\n",
    "            numCoins = 1 +recMC(coinValueList, change-i)\n",
    "            if numCoins < minCoins:\n",
    "                minCoins = numCoins\n",
    "    return minCoins\n",
    "\n",
    "print(recMC([1, 21, 25],63))\n",
    "print(recMC([1, 5, 21, 25],63))"
   ]
  },
  {
   "cell_type": "markdown",
   "metadata": {},
   "source": [
    "This works, but it’s very slow."
   ]
  },
  {
   "cell_type": "markdown",
   "metadata": {},
   "source": [
    "10.3 A Memoized Version"
   ]
  },
  {
   "cell_type": "code",
   "execution_count": 3,
   "metadata": {},
   "outputs": [
    {
     "name": "stdout",
     "output_type": "stream",
     "text": [
      "6\n",
      "3\n",
      "{25: 1, 26: 2, 21: 1, 10: 1, 11: 2, 5: 1, 6: 2, 1: 1, 12: 3, 7: 3, 13: 4, 8: 4, 14: 5, 9: 5, 15: 2, 16: 3, 27: 3, 22: 2, 17: 4, 28: 4, 23: 3, 18: 5, 29: 5, 24: 4, 19: 6, 30: 2, 20: 2, 31: 2, 32: 3, 33: 4, 34: 5, 35: 2, 36: 3, 37: 4, 38: 5, 39: 6, 40: 3, 41: 3, 42: 2, 43: 3, 44: 4, 45: 3, 46: 2, 47: 3, 48: 4, 49: 5, 50: 2, 51: 3, 52: 3, 53: 4, 54: 5, 55: 3, 56: 3, 57: 4, 58: 5, 59: 6, 60: 3, 61: 4, 62: 4, 63: 3}\n"
     ]
    }
   ],
   "source": [
    "def memoMC(coinValueList, change, knowResults):\n",
    "    minCoins = change\n",
    "    if change in coinValueList:\n",
    "        knowResults[change] = 1\n",
    "        return 1\n",
    "    elif change in knowResults:\n",
    "        return knowResults[change]\n",
    "    else:\n",
    "        for i in [c for c in coinValueList if c <= change]:\n",
    "            numCoins = 1 + memoMC(coinValueList, change-i, knowResults)\n",
    "            if numCoins < minCoins:\n",
    "                minCoins = numCoins\n",
    "                knowResults[change] = minCoins\n",
    "    return minCoins\n",
    "\n",
    "print(memoMC([1,5,10,25],63, {}))\n",
    "knownresults = {}\n",
    "print(memoMC([1, 5, 10, 21, 25], 63, knownresults))\n",
    "print(knownresults)"
   ]
  },
  {
   "cell_type": "markdown",
   "metadata": {},
   "source": [
    "This is much faster and now can work with much larger instances."
   ]
  },
  {
   "cell_type": "markdown",
   "metadata": {},
   "source": [
    "10.4 A Dynamic Programming Algorithm"
   ]
  },
  {
   "cell_type": "code",
   "execution_count": 4,
   "metadata": {},
   "outputs": [
    {
     "name": "stdout",
     "output_type": "stream",
     "text": [
      "3\n",
      "4\n"
     ]
    }
   ],
   "source": [
    "def dpMakeChange(coinValueList, change):\n",
    "    minCoins = [None]*(change + 1)\n",
    "    for cents in range(change+1):\n",
    "        minCoins[cents] = cents\n",
    "        for c in coinValueList:\n",
    "            if cents >= c:\n",
    "                minCoins[cents] = min(  minCoins[cents], minCoins[cents - c]+1)\n",
    "    return minCoins[change]\n",
    "\n",
    "print(dpMakeChange([1,5,10,21,25], 63))\n",
    "print(dpMakeChange([1,5,10,21,25], 64))"
   ]
  },
  {
   "cell_type": "markdown",
   "metadata": {},
   "source": [
    "Dynamic program builds the results from the bottom up, while the recursive version works top down,"
   ]
  },
  {
   "cell_type": "markdown",
   "metadata": {},
   "source": [
    "10.5 Another Example<br>\n",
    "\n",
    "The next problem we’ll solve with dynamic programming is called the **longest common subsequence (LCS)** problem. A subsequence of a string s is a string t such that the characters of t all appear in s in the same order. For example ’abc’ is a subsequence of ’xxxxxaxxxbxxxcxxxx’ The input to the LCS problem is a pair of strings, we’ll call them X and Y. The output is the longest string that is a subsequence of both X and Y.<br>\n",
    "\n",
    "HINT:<br>\n",
    "If X and Y end in the same character, then that character is the last character in the longest common subsequence. That is, if X[-1] == Y[-1] then the LCS(X,Y) is LCS(X[:-1], Y[:-1]) + X[-1]. On the other hand, if X[-1] != Y[-1], then at least one of X[-1] or Y[-1] is not in the LCS. In that case, LCS(X,Y) is the longer of LCS(X[:-1],Y) and LCS(X,Y[:-1]). We could turn this into a very tidy recursive algorithm."
   ]
  },
  {
   "cell_type": "code",
   "execution_count": 5,
   "metadata": {},
   "outputs": [],
   "source": [
    "def reclcs(X, Y):\n",
    "    if X == \"\" or Y ==\"\":\n",
    "        return \"\"\n",
    "    if X[-1] == Y[-1]:\n",
    "        return reclcs(X[:-1], Y[:-1]) + X[-1]\n",
    "    else:\n",
    "        return max([reclcs(X[:-1], Y), reclcs(X, Y[:-1])], key=len)"
   ]
  },
  {
   "cell_type": "markdown",
   "metadata": {},
   "source": [
    "This takes a long time too.<br>\n",
    "Let's add memorization"
   ]
  },
  {
   "cell_type": "code",
   "execution_count": 6,
   "metadata": {},
   "outputs": [],
   "source": [
    "def lcs(X, Y):\n",
    "    t = {}\n",
    "    for i in range(len(X)+1): t[(i, 0)] = \"\"\n",
    "    for j in range(len(Y)+1): t[(0, j)] = \"\"\n",
    "\n",
    "    for i, x in enumerate(X):\n",
    "        for j, y in enumerate(Y):\n",
    "            if x == y:\n",
    "                t[(i+1, j+1)] = t[(i, j)] + x\n",
    "            else:\n",
    "                t[(i+1, j+1)] = max([t[(i, j+1)], t[(i+1, j)]], key=len)\n",
    "    return t[(len(x), len(Y))]"
   ]
  },
  {
   "cell_type": "markdown",
   "metadata": {},
   "source": [
    "The initialization takes linear time and the main pair of loops iterate O(n2 ) times. The inner loop takes time proportional to the LCS in the worst case, because we will concatenate strings of that length. The total running time is O(kn2 ) where k is the length of the output."
   ]
  }
 ],
 "metadata": {
  "kernelspec": {
   "display_name": "Python 3",
   "language": "python",
   "name": "python3"
  },
  "language_info": {
   "codemirror_mode": {
    "name": "ipython",
    "version": 3
   },
   "file_extension": ".py",
   "mimetype": "text/x-python",
   "name": "python",
   "nbconvert_exporter": "python",
   "pygments_lexer": "ipython3",
   "version": "3.10.12"
  },
  "orig_nbformat": 4
 },
 "nbformat": 4,
 "nbformat_minor": 2
}
