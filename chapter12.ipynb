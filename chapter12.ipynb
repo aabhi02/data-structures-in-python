{
 "cells": [
  {
   "cell_type": "markdown",
   "metadata": {},
   "source": [
    "Chapter 12 Sorting<br>\n",
    "\n",
    "\n",
    "12.1 The Quadratic-Time Sorting Algorithms"
   ]
  },
  {
   "cell_type": "code",
   "execution_count": 2,
   "metadata": {},
   "outputs": [
    {
     "name": "stdout",
     "output_type": "stream",
     "text": [
      "[1, 2, 3, 4, 5] is sorted: True\n",
      "[1, 4, 5, 7, 2] is sorted: False\n"
     ]
    }
   ],
   "source": [
    "# Given a list L, determine if L is sorted or not.\n",
    "\n",
    "def issorted(L):\n",
    "    \"\"\"\n",
    "    Checks the adjacent elements to determine if the array/list is sorted.\n",
    "    \"\"\"\n",
    "    for i in range(len(L) - 1):\n",
    "        if L[i]>L[i + 1]:\n",
    "            return False\n",
    "    return True\n",
    "\n",
    "A = [1,2,3,4,5]\n",
    "print(A, \"is sorted:\", issorted(A))\n",
    "B = [1,4,5,7,2]\n",
    "print(B, \"is sorted:\", issorted(B))"
   ]
  },
  {
   "cell_type": "code",
   "execution_count": 3,
   "metadata": {},
   "outputs": [],
   "source": [
    "def issorted_slow(L):\n",
    "    \"\"\"\n",
    "    Checks all the pairs of elements to determine if the array/list is sorted.\n",
    "    \"\"\"\n",
    "    for i in range(len(L) - 1):\n",
    "        for j in range(i + 1, len(L)):\n",
    "            if L[j] < L[i]:\n",
    "                return False\n",
    "    return True"
   ]
  },
  {
   "cell_type": "markdown",
   "metadata": {},
   "source": [
    "Let\"s use the issorted method to write a sorting algorithm. Instead of returning False when we find two elements out of order, we\"ll just fix them and move on."
   ]
  },
  {
   "cell_type": "code",
   "execution_count": 8,
   "metadata": {},
   "outputs": [
    {
     "name": "stdout",
     "output_type": "stream",
     "text": [
      "[4, 3, 2, 1, 5]\n"
     ]
    }
   ],
   "source": [
    "def dumbersort(L):\n",
    "    for i in range(len(L) - 1):\n",
    "        if L[i] > L[i + 1]:\n",
    "            L[i], L[i + 1] = L[i + 1], L[i]\n",
    "\n",
    "L = [5,4,3,2,1]\n",
    "dumbersort(L)\n",
    "print(L)"
   ]
  },
  {
   "cell_type": "markdown",
   "metadata": {},
   "source": [
    "The problem is the list will not get sorted fully, we may have to call the *dumbersort* more than once."
   ]
  },
  {
   "cell_type": "code",
   "execution_count": 9,
   "metadata": {},
   "outputs": [
    {
     "name": "stdout",
     "output_type": "stream",
     "text": [
      "[1, 2, 3, 4, 5]\n"
     ]
    }
   ],
   "source": [
    "def dumbsort(L):\n",
    "    while (not issorted(L)):\n",
    "        dumbersort(L)\n",
    "\n",
    "L = [5,4,3,2,1]\n",
    "dumbsort(L)\n",
    "print(L)"
   ]
  },
  {
   "cell_type": "markdown",
   "metadata": {},
   "source": [
    "Int the worst case this would require looping of n-1 times to completely sort the array.<br>\n",
    "\n",
    "After calling dumberSort(L) one time, the largest element will move all the way to the end of the list and stay there through all subsequent calls. Calling dumberSort(L) a second time will cause the second largest element to bubble up to the second to last to last place in the list.<br>\n",
    "\n",
    "This leads us to the algorithm called ***Bubble sort***.(sorts bigger elements first)"
   ]
  },
  {
   "cell_type": "code",
   "execution_count": 12,
   "metadata": {},
   "outputs": [
    {
     "name": "stdout",
     "output_type": "stream",
     "text": [
      "[17, 20, 26, 30, 31, 44, 54, 55, 77, 93, 100000]\n"
     ]
    }
   ],
   "source": [
    "def bubblesort(L):\n",
    "    for iteration in range(len(L) - 1):\n",
    "        for i in range(len(L) - 1):\n",
    "            if L[i] > L[i + 1]:\n",
    "                L[i], L[i + 1] = L[i + 1], L[i]\n",
    "\n",
    "alist = [30, 100000,54,26,93,17,77,31,44,55,20]\n",
    "bubblesort(alist)\n",
    "print(alist)"
   ]
  },
  {
   "cell_type": "markdown",
   "metadata": {},
   "source": [
    "It\"s O(n<sup>2</sup>), a quadratic time algorithm.<br>\n",
    "\n",
    "This approach does not stop when the sorting is finished, instead it loops n-1 times. Let's make it stop once the array is sorted."
   ]
  },
  {
   "cell_type": "code",
   "execution_count": 11,
   "metadata": {},
   "outputs": [
    {
     "name": "stdout",
     "output_type": "stream",
     "text": [
      "[17, 20, 26, 30, 31, 44, 54, 55, 77, 93, 100000]\n"
     ]
    }
   ],
   "source": [
    "def bubblesort(L):\n",
    "    keepgoing = True\n",
    "    while keepgoing:\n",
    "        keepgoing = False\n",
    "        for i in range(len(L)-1):\n",
    "            if L[i]>L[i+1]:\n",
    "                L[i], L[i+1] = L[i+1], L[i]\n",
    "                keepgoing = True\n",
    "\n",
    "alist = [30, 100000,54,26,93,17,77,31,44,55,20]\n",
    "bubblesort(alist)\n",
    "print(alist)"
   ]
  },
  {
   "cell_type": "markdown",
   "metadata": {},
   "source": [
    "We can write an algorithm that selects the largest among the first n-i elements and moving that element into place.<br>\n",
    "\n",
    "This introduces us to ***Selection sort***(sorts smaller elements first)"
   ]
  },
  {
   "cell_type": "code",
   "execution_count": 13,
   "metadata": {},
   "outputs": [],
   "source": [
    "def selectionsort(L):\n",
    "    n = len(L)\n",
    "    for i in range(n-1):\n",
    "        max_index=0\n",
    "        for index in range(n - i):\n",
    "            if L[index] > L[max_index]:\n",
    "                max_index = index\n",
    "        L[n-i-1], L[max_index] = L[max_index], L[n-i-1]"
   ]
  },
  {
   "cell_type": "markdown",
   "metadata": {},
   "source": [
    "Another invariant, we\"ll do it by ”bubbling” element n-i into position in the ith step."
   ]
  },
  {
   "cell_type": "code",
   "execution_count": 14,
   "metadata": {},
   "outputs": [],
   "source": [
    "def insertionsort(L):\n",
    "    n = len(L)\n",
    "    for i in range(n):\n",
    "        for j in range(n-i-1, n-1):\n",
    "            if L[j]>L[j+1]:\n",
    "                L[j], L[j+1] = L[j+1], L[j]"
   ]
  },
  {
   "cell_type": "markdown",
   "metadata": {},
   "source": [
    "We can make this algorithm go faster if the list is already sorted (or almost already sorted). We stop the inner loop as soon as the element is in the right place"
   ]
  },
  {
   "cell_type": "code",
   "execution_count": 15,
   "metadata": {},
   "outputs": [],
   "source": [
    "def insertionsort(L):\n",
    "    n = len(L)\n",
    "    for i in range(n):\n",
    "        j = n - i - 1\n",
    "        while j < n - 1 and L[j]>L[j+1]:\n",
    "            L[j], L[j+1] = L[j+1], L[j]\n",
    "            j+=1"
   ]
  },
  {
   "cell_type": "markdown",
   "metadata": {},
   "source": [
    "12.2 Sorting in Python<br>\n",
    "\n",
    "Python has two main functions to sort a list. They are called sort() and sorted().\n",
    "- sort() - sorts the list inplace.\n",
    "- sorted() - returns the sorted list."
   ]
  },
  {
   "cell_type": "code",
   "execution_count": 16,
   "metadata": {},
   "outputs": [
    {
     "name": "stdout",
     "output_type": "stream",
     "text": [
      "[3, 1, 5] [1, 3, 5]\n",
      "[1, 3, 5]\n"
     ]
    }
   ],
   "source": [
    "X = [3,1,5]\n",
    "Y = sorted(X)\n",
    "print(X, Y)\n",
    "X.sort()\n",
    "print(X)"
   ]
  },
  {
   "cell_type": "markdown",
   "metadata": {},
   "source": [
    "When working with your own classes, you may want to sort elements. To do so, you only need to be able to compare elements. In the following example, we define a class Foo that provides its own comparator by defining the magic method lt . In this case, it orders Foo objects by their b attibute."
   ]
  },
  {
   "cell_type": "code",
   "execution_count": 23,
   "metadata": {},
   "outputs": [],
   "source": [
    "class Foo: \n",
    "    def __init__(self, a, b, c):\n",
    "        self.a = a\n",
    "        self.b = b\n",
    "        self.c = c\n",
    "    \n",
    "    def __lt__(self, other):\n",
    "        return other.b < self.b\n",
    "\n",
    "    def __str__(self):\n",
    "        return \"(%d, %d, %d)\" % (self.a, self. b, self. c)\n",
    "\n",
    "    def geta(self):\n",
    "        return self.a\n",
    "    \n",
    "from random import randrange\n",
    "L = [Foo(randrange(100),randrange(100), randrange(100)) for i in range(6)]"
   ]
  },
  {
   "cell_type": "markdown",
   "metadata": {},
   "source": [
    "When we sort this list, i.e., by calling L.sort(), the comparison uses Foo.__ lt __ to determine the order. So the result should be sorted by the b attribute."
   ]
  },
  {
   "cell_type": "code",
   "execution_count": 24,
   "metadata": {},
   "outputs": [
    {
     "name": "stdout",
     "output_type": "stream",
     "text": [
      "(25, 87, 62)\n",
      "(95, 79, 26)\n",
      "(55, 72, 48)\n",
      "(56, 46, 92)\n",
      "(40, 25, 15)\n",
      "(1, 5, 72)\n"
     ]
    }
   ],
   "source": [
    "L.sort()\n",
    "for foo in L:\n",
    "    print(foo)"
   ]
  },
  {
   "cell_type": "markdown",
   "metadata": {},
   "source": [
    "If we pass a key function to sort, the resulting ordering will have x before y if key(x) < key(y). Below, we use Foo.geta as the key function, so the result should be ordered by the value of the a attribute"
   ]
  },
  {
   "cell_type": "code",
   "execution_count": 25,
   "metadata": {},
   "outputs": [
    {
     "name": "stdout",
     "output_type": "stream",
     "text": [
      "(1, 5, 72)\n",
      "(25, 87, 62)\n",
      "(40, 25, 15)\n",
      "(55, 72, 48)\n",
      "(56, 46, 92)\n",
      "(95, 79, 26)\n"
     ]
    }
   ],
   "source": [
    "L.sort(key = Foo.geta)\n",
    "for foo in L:\n",
    "    print(foo)"
   ]
  },
  {
   "cell_type": "markdown",
   "metadata": {},
   "source": [
    "An example of sorting strings by their length (longest to shortest) using the alphabetical order (ignoring case) to break ties."
   ]
  },
  {
   "cell_type": "code",
   "execution_count": 27,
   "metadata": {},
   "outputs": [
    {
     "name": "stdout",
     "output_type": "stream",
     "text": [
      "['strings', 'sample', 'sorted', 'here', 'Some', 'are', 'be', 'to']\n"
     ]
    }
   ],
   "source": [
    "strings = \"here are Some sample strings to be sorted\".split()\n",
    "def mykey(x):\n",
    "    return -len(x), x.upper()\n",
    "print(sorted(strings, key=mykey))"
   ]
  },
  {
   "cell_type": "markdown",
   "metadata": {},
   "source": [
    "Visualise sorting algorithm [here](https://visualgo.net/en/sorting)"
   ]
  }
 ],
 "metadata": {
  "kernelspec": {
   "display_name": "Python 3",
   "language": "python",
   "name": "python3"
  },
  "language_info": {
   "codemirror_mode": {
    "name": "ipython",
    "version": 3
   },
   "file_extension": ".py",
   "mimetype": "text/x-python",
   "name": "python",
   "nbconvert_exporter": "python",
   "pygments_lexer": "ipython3",
   "version": "3.10.12"
  },
  "orig_nbformat": 4
 },
 "nbformat": 4,
 "nbformat_minor": 2
}
