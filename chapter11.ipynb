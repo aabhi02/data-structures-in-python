{
 "cells": [
  {
   "cell_type": "markdown",
   "metadata": {},
   "source": [
    "Chapter 11 Binary Search<br>\n",
    "\n",
    "If you are looking for an item in a sorted list, you break the list in half and repeat the search on whichever side could contain the missing element, which can be found by comparing with the median element. Then, repeating on the smaller list is just a single recursive call."
   ]
  },
  {
   "cell_type": "code",
   "execution_count": 1,
   "metadata": {},
   "outputs": [],
   "source": [
    "def bs(L, item):\n",
    "    if len(L) == 0: return False\n",
    "    median = len(L) // 2\n",
    "    if item == L[median]:\n",
    "        return True\n",
    "    elif item < L[median]:\n",
    "        return bs(L[:median], item)\n",
    "    else:\n",
    "        return bs(L[median + 1:], item)"
   ]
  },
  {
   "cell_type": "markdown",
   "metadata": {},
   "source": [
    "In this case, the worst-case running time of bs on a list of length n is n/2 plus a constant. So, the first call costs n/2. The second costs n/4. The third costs n/8. Adding them up gives a number close to n. So, we are taking linear time to test membership.<br>\n",
    "\n",
    "We have to avoid all that slicing inorder to make the algorithm fast."
   ]
  },
  {
   "cell_type": "code",
   "execution_count": 3,
   "metadata": {},
   "outputs": [],
   "source": [
    "def bs(L, item, left = 0, right = None):\n",
    "    if right is None: right = len(L)\n",
    "    if right - left == 0: return False\n",
    "    if right - left == 1: return L[left] == item\n",
    "    median = (right + left) // 2\n",
    "    if item < L[median]:\n",
    "        return bs(L, item, left, median)\n",
    "    else:\n",
    "        return bs(L, item, median, right)"
   ]
  },
  {
   "cell_type": "markdown",
   "metadata": {},
   "source": [
    "We see that all the operations take constant time, so the total running time will be proportional to the total number of recursive calls.<br>\n",
    "The tree of function calls is a single chain of length at most O(log n).<br>\n",
    "\n",
    "Use the [Pyton Tutor](https://pythontutor.com/render.html#mode=edit) website for visualizing the code you have written for better understanding."
   ]
  },
  {
   "cell_type": "code",
   "execution_count": 5,
   "metadata": {},
   "outputs": [],
   "source": [
    "# loop version\n",
    "\n",
    "def bs(L, item):\n",
    "    left, right = 0, len(L)\n",
    "    while right - left > 1:\n",
    "        median = (right + left) // 2\n",
    "        if item < L[median]:\n",
    "            right = median\n",
    "        else:\n",
    "            left = median\n",
    "    return right > left and L[left] == item"
   ]
  },
  {
   "cell_type": "markdown",
   "metadata": {},
   "source": [
    "11.1 The Ordered List ADT\n",
    "- add(item) - adds item to the list.\n",
    "- remove(item) - removes the first occurrence of item from the list. Raise a ValueError if the item is not present.\n",
    "- __ getitem __ (index) - returns the item with the given index in the sorted list. This is also known as selection.\n",
    "- __ contains __ (item) - returns true if there is an item of the list equal to item.\n",
    "- __ iter __ - returns an iterator over the ordered list that yields the items in sorted order.\n",
    "- __ len __ - returns the length of the ordered list."
   ]
  },
  {
   "cell_type": "code",
   "execution_count": 6,
   "metadata": {},
   "outputs": [],
   "source": [
    "class OrderedListSimple:\n",
    "    def __init__(self):\n",
    "        self._L = []\n",
    "    \n",
    "    def add(self, item):\n",
    "        self._L.append(item)\n",
    "        self._L.sort()\n",
    "\n",
    "    def remove(self, item):\n",
    "        self._L.remove(item)\n",
    "\n",
    "    def __getitem__(self, index):\n",
    "        return self._L[index]\n",
    "\n",
    "    def __contains__(self, item):\n",
    "        return item in self._L\n",
    "    \n",
    "    def __len__(self):\n",
    "        return len(self._L)\n",
    "    \n",
    "    def __iter__(self):\n",
    "        return iter(self._L)"
   ]
  },
  {
   "cell_type": "markdown",
   "metadata": {},
   "source": [
    "Let’s replace it with binary search as we implemented it above."
   ]
  },
  {
   "cell_type": "code",
   "execution_count": null,
   "metadata": {},
   "outputs": [],
   "source": [
    "from ds2.orderedlist import OrderedListSimple\n",
    "\n",
    "class OrderedList(OrderedListSimple):\n",
    "    def __contains__(self, item):\n",
    "        left, right = 0, len(self._L)\n",
    "        while right - left > 1:\n",
    "            median = (right + left) // 2\n",
    "            if item < self._L[median]:\n",
    "                right = median\n",
    "            else:\n",
    "                left = median\n",
    "        return right > left and self._L[left] == item"
   ]
  }
 ],
 "metadata": {
  "kernelspec": {
   "display_name": "Python 3",
   "language": "python",
   "name": "python3"
  },
  "language_info": {
   "codemirror_mode": {
    "name": "ipython",
    "version": 3
   },
   "file_extension": ".py",
   "mimetype": "text/x-python",
   "name": "python",
   "nbconvert_exporter": "python",
   "pygments_lexer": "ipython3",
   "version": "3.10.12"
  },
  "orig_nbformat": 4
 },
 "nbformat": 4,
 "nbformat_minor": 2
}
