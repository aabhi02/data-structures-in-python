{
 "cells": [
  {
   "cell_type": "markdown",
   "metadata": {},
   "source": [
    "Chapter 6 Stacks and Queues<br><br>\n",
    "\n",
    "6.1 Abstract Data Types<br><br>\n",
    "\n",
    "An ADT is not a data structure, but it does tell us about data structures.<br>\n",
    "An ADT answers two main questions:\n",
    "1. What is the data to be stored or represented?\n",
    "2. What can we do with the data?\n",
    "\n",
    "When we give an ADT, we will list the names of the methods that will be present, what kind of input they take, and what is their expected output.<br>\n",
    "The ADT may also describe error situations and what should happen if they occur.<br>\n",
    "A data structure is an implementation of an ADT.\n",
    "The ADT tells us what methods the data structure will implement. However, the ADT does not give an hints or prescriptions for how the data structure is implemented.<br>\n",
    "The ADT should be independent of all concerns about its implementation."
   ]
  },
  {
   "cell_type": "markdown",
   "metadata": {},
   "source": [
    "6.2 The Stack ADT<br><br>\n",
    "\n",
    "- push - add a new item to the stack.\n",
    "- pop - remove and return the next item in Last In First Out (LIFO) ordering.\n",
    "- peek - return the next item in LIFO ordering.\n",
    "- size - returns the number of items in the stack.\n",
    "- isempty - returns True if the stack has no elements False otherwise."
   ]
  },
  {
   "cell_type": "markdown",
   "metadata": {},
   "source": [
    "This ADT can be implemented quite easily using a list. We will implement it with a class called ListStack."
   ]
  },
  {
   "cell_type": "code",
   "execution_count": 1,
   "metadata": {},
   "outputs": [],
   "source": [
    "class ListStack:\n",
    "    def __init__(self):\n",
    "        self._L = []\n",
    "\n",
    "    def push(self, item):\n",
    "        self._L.append(item)\n",
    "    \n",
    "    def pop(self):\n",
    "        return self._L.pop()\n",
    "\n",
    "    def peek(self):\n",
    "        return self._L[-1]\n",
    "    \n",
    "    def __len__(self):\n",
    "        return len(self._L)\n",
    "    \n",
    "    def isempty(self):\n",
    "        return len(self._L) == 0"
   ]
  },
  {
   "cell_type": "code",
   "execution_count": 2,
   "metadata": {},
   "outputs": [
    {
     "name": "stdout",
     "output_type": "stream",
     "text": [
      "3\n",
      "3\n",
      "2\n",
      "False\n"
     ]
    }
   ],
   "source": [
    "Lis = ListStack()\n",
    "Lis.push(1)\n",
    "Lis.push(2)\n",
    "Lis.push(3)\n",
    "print(Lis.peek())\n",
    "print(Lis.pop())\n",
    "print(len(Lis))\n",
    "print(Lis.isempty())"
   ]
  },
  {
   "cell_type": "markdown",
   "metadata": {},
   "source": [
    "The Stack class above illustrates the object-oriented strategy of composition (the Stack has a list).<br>\n",
    "The Python builtin list is doing all the heavy lifting."
   ]
  },
  {
   "cell_type": "code",
   "execution_count": 3,
   "metadata": {},
   "outputs": [],
   "source": [
    "from ds2.stack import ListStack\n",
    "\n",
    "class BadStack(ListStack):\n",
    "    def push(self, item):\n",
    "        self._L.insert(0, item)\n",
    "\n",
    "    def pop(self):\n",
    "        return self._L.pop(0)\n",
    "    \n",
    "    def peek(self):\n",
    "        return self._L[0]"
   ]
  },
  {
   "cell_type": "markdown",
   "metadata": {},
   "source": [
    "A simple asymptotic analysis shows why this implementation is far less efficient. Inserting a new item into a list requires that all the other items in the list have to move over to make room for the new item. If we insert at the beginning of the list, then every item has to be copied to a new position. Thus, the insert call in push takes O(n) time. Similarly, if we pop an item at the beginning of the list, then every other item in the list gets moved over one space to fill in the gap. Thus, the list.pop call in our pop method will take O(n) time as well."
   ]
  },
  {
   "cell_type": "markdown",
   "metadata": {},
   "source": [
    "6.3 The Queue ADT<br><br>\n",
    "\n",
    "- enqueue(item) - add a new item to the queue.\n",
    "- dequeue() - remove and return the next item in the First In First Out(FIFO) ordering.\n",
    "- peek() - return the next item in the queue in FIFO order.\n",
    "- __ len __() - return the number of items in the queue.\n",
    "- isempty() - return True if the queue has no items, False otherwise."
   ]
  },
  {
   "cell_type": "code",
   "execution_count": 4,
   "metadata": {},
   "outputs": [],
   "source": [
    "class ListQueueSimple:\n",
    "    def __init__(self):\n",
    "        self._L = []\n",
    "\n",
    "    def enqueue(self, item):\n",
    "        self._L.append(item)\n",
    "\n",
    "    def dequeue(self):\n",
    "        return self._L.pop(0)\n",
    "    \n",
    "    def peek(self):\n",
    "        return self._L[0]\n",
    "    \n",
    "    def __len__(self):\n",
    "        return len(self._L)\n",
    "    \n",
    "    def isempty(self):\n",
    "        return len(self._L) == 0"
   ]
  },
  {
   "cell_type": "markdown",
   "metadata": {},
   "source": [
    "Calling pop(0) was a bad thing to do. Yes, it takes time proportional to the length of the list. If we dequeue off the end of the list, we would have to enqueue by inserting into the front of the list. That’s bad too.<br><br>\n",
    "\n",
    "Here’s a different idea. Let’s not really delete things from the front of the list. Instead, we’ll ignore them by keeping the index of the head of the queue."
   ]
  },
  {
   "cell_type": "code",
   "execution_count": 18,
   "metadata": {},
   "outputs": [],
   "source": [
    "class ListQueueFakeDelete:\n",
    "    def __init__(self):\n",
    "        self._head = 0\n",
    "        self._L = []\n",
    "\n",
    "    def enqueue(self, item):\n",
    "        self._L.append(item)\n",
    "\n",
    "    def peek(self):\n",
    "        return self._L[self._head]\n",
    "    \n",
    "    def dequeue(self):\n",
    "        item = self.peek()\n",
    "        self._head += 1\n",
    "        return item\n",
    "    \n",
    "    def __len__(self):\n",
    "        return len(self._L) - self._head\n",
    "    \n",
    "    def isempty(self):\n",
    "        return len(self) == 0 "
   ]
  },
  {
   "cell_type": "code",
   "execution_count": 19,
   "metadata": {},
   "outputs": [
    {
     "data": {
      "text/plain": [
       "True"
      ]
     },
     "execution_count": 19,
     "metadata": {},
     "output_type": "execute_result"
    }
   ],
   "source": [
    "L=ListQueueFakeDelete()\n",
    "L.enqueue(1)\n",
    "L.dequeue()\n",
    "L.isempty()"
   ]
  },
  {
   "cell_type": "markdown",
   "metadata": {},
   "source": [
    "This implementation never gets rid of old items after they have been dequeued. Even if it deleted them, it still keeps a place in the list for them. This is a kind of lazy update."
   ]
  },
  {
   "cell_type": "code",
   "execution_count": 20,
   "metadata": {},
   "outputs": [],
   "source": [
    "class ListQueue(ListQueueFakeDelete):\n",
    "    def dequeue(self):\n",
    "        item = self._L[self._head]\n",
    "        self._head += 1\n",
    "        if self._head > len(self._L)//2:\n",
    "            self._L = self._L[self._head:]\n",
    "            self._head = 0\n",
    "        return item"
   ]
  },
  {
   "cell_type": "markdown",
   "metadata": {},
   "source": [
    "So, ”on average”, the cost per item is constant. This kind of lazy update is very important. Technically, pop() can also take linear time for some calls but on average, the cost is constant per operation. The same idea makes append fast."
   ]
  },
  {
   "cell_type": "markdown",
   "metadata": {},
   "source": [
    "6.4 Dealing with errors<br><br>\n",
    "\n",
    "In the case of a stack, it is never correct usage to pop from an empty stack. Thus, it makes sense that someone using our Stack class should have their program crash and see an error message if they attempt to call pop when there are no items left on the stack."
   ]
  },
  {
   "cell_type": "code",
   "execution_count": 21,
   "metadata": {},
   "outputs": [
    {
     "ename": "IndexError",
     "evalue": "pop from empty list",
     "output_type": "error",
     "traceback": [
      "\u001b[0;31m---------------------------------------------------------------------------\u001b[0m",
      "\u001b[0;31mIndexError\u001b[0m                                Traceback (most recent call last)",
      "Cell \u001b[0;32mIn[21], line 4\u001b[0m\n\u001b[1;32m      2\u001b[0m s\u001b[39m.\u001b[39mpush(\u001b[39m5\u001b[39m)\n\u001b[1;32m      3\u001b[0m s\u001b[39m.\u001b[39mpop()\n\u001b[0;32m----> 4\u001b[0m s\u001b[39m.\u001b[39;49mpop()\n",
      "File \u001b[0;32m~/.local/lib/python3.10/site-packages/ds2/stack/liststack.py:9\u001b[0m, in \u001b[0;36mListStack.pop\u001b[0;34m(self)\u001b[0m\n\u001b[1;32m      8\u001b[0m \u001b[39mdef\u001b[39;00m \u001b[39mpop\u001b[39m(\u001b[39mself\u001b[39m):\n\u001b[0;32m----> 9\u001b[0m     \u001b[39mreturn\u001b[39;00m \u001b[39mself\u001b[39;49m\u001b[39m.\u001b[39;49m_L\u001b[39m.\u001b[39;49mpop()\n",
      "\u001b[0;31mIndexError\u001b[0m: pop from empty list"
     ]
    }
   ],
   "source": [
    "s = ListStack()\n",
    "s.push(5)\n",
    "s.pop()\n",
    "s.pop()"
   ]
  },
  {
   "cell_type": "markdown",
   "metadata": {},
   "source": [
    "If we look at the error message, it seems pretty good. It says we tried to pop from empty list. But if you look at the code, you might ask, ”What list?” We could catch the exception in our pop method and raise a different error so the source of the problem is more obviously the user’s code. Then, a user, might have to try to understand our class in order to backtrack to understand what they did wrong in their code. Instead, give them an error that explains exactly what happened."
   ]
  },
  {
   "cell_type": "code",
   "execution_count": 22,
   "metadata": {},
   "outputs": [
    {
     "ename": "RuntimeError",
     "evalue": "pop from empty stack",
     "output_type": "error",
     "traceback": [
      "\u001b[0;31m---------------------------------------------------------------------------\u001b[0m",
      "\u001b[0;31mIndexError\u001b[0m                                Traceback (most recent call last)",
      "Cell \u001b[0;32mIn[22], line 6\u001b[0m, in \u001b[0;36mAnotherStack.pop\u001b[0;34m(self)\u001b[0m\n\u001b[1;32m      5\u001b[0m \u001b[39mtry\u001b[39;00m:\n\u001b[0;32m----> 6\u001b[0m     \u001b[39mreturn\u001b[39;00m \u001b[39mself\u001b[39;49m\u001b[39m.\u001b[39;49m_L\u001b[39m.\u001b[39;49mpop()\n\u001b[1;32m      8\u001b[0m \u001b[39mexcept\u001b[39;00m \u001b[39mIndexError\u001b[39;00m:\n",
      "\u001b[0;31mIndexError\u001b[0m: pop from empty list",
      "\nDuring handling of the above exception, another exception occurred:\n",
      "\u001b[0;31mRuntimeError\u001b[0m                              Traceback (most recent call last)",
      "Cell \u001b[0;32mIn[22], line 14\u001b[0m\n\u001b[1;32m     12\u001b[0m s\u001b[39m.\u001b[39mpush(\u001b[39m5\u001b[39m)\n\u001b[1;32m     13\u001b[0m s\u001b[39m.\u001b[39mpop()\n\u001b[0;32m---> 14\u001b[0m s\u001b[39m.\u001b[39;49mpop()\n",
      "Cell \u001b[0;32mIn[22], line 9\u001b[0m, in \u001b[0;36mAnotherStack.pop\u001b[0;34m(self)\u001b[0m\n\u001b[1;32m      6\u001b[0m     \u001b[39mreturn\u001b[39;00m \u001b[39mself\u001b[39m\u001b[39m.\u001b[39m_L\u001b[39m.\u001b[39mpop()\n\u001b[1;32m      8\u001b[0m \u001b[39mexcept\u001b[39;00m \u001b[39mIndexError\u001b[39;00m:\n\u001b[0;32m----> 9\u001b[0m     \u001b[39mraise\u001b[39;00m \u001b[39mRuntimeError\u001b[39;00m(\u001b[39m\"\u001b[39m\u001b[39mpop from empty stack\u001b[39m\u001b[39m\"\u001b[39m)\n",
      "\u001b[0;31mRuntimeError\u001b[0m: pop from empty stack"
     ]
    }
   ],
   "source": [
    "from ds2.stack import ListStack\n",
    "\n",
    "class AnotherStack(ListStack):\n",
    "    def pop(self):\n",
    "        try:\n",
    "            return self._L.pop()\n",
    "        \n",
    "        except IndexError:\n",
    "            raise RuntimeError(\"pop from empty stack\")\n",
    "        \n",
    "s = AnotherStack()\n",
    "s.push(5)\n",
    "s.pop()\n",
    "s.pop()"
   ]
  },
  {
   "cell_type": "markdown",
   "metadata": {},
   "source": [
    "This gives clarity to the user where he/she might have went wrong."
   ]
  }
 ],
 "metadata": {
  "kernelspec": {
   "display_name": "Python 3",
   "language": "python",
   "name": "python3"
  },
  "language_info": {
   "codemirror_mode": {
    "name": "ipython",
    "version": 3
   },
   "file_extension": ".py",
   "mimetype": "text/x-python",
   "name": "python",
   "nbconvert_exporter": "python",
   "pygments_lexer": "ipython3",
   "version": "3.10.12"
  },
  "orig_nbformat": 4
 },
 "nbformat": 4,
 "nbformat_minor": 2
}
