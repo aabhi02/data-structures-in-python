{
 "cells": [
  {
   "cell_type": "markdown",
   "metadata": {},
   "source": [
    "Chapter 13 Sorting with Divide and Conquer<br>\n",
    "\n",
    "Divide and Conquer is a paradigm for algorithm design. It usually consists of 3 (plus one) parts. The first part is to divide the problem into 2 or more pieces. The second part is the conquer step, where one solves the problem on the pieces. The third part is the combine step where one combines the solutions on the parts into a solution on the whole.<br>\n",
    "\n",
    "The description of these parts leads pretty directly to recursive algorithms, i.e. using recursion for the conquer part. The other part that ap- pears in many such algorithms is a base case, as one might expect in a recursive algorithm. This is where you deal with inputs so small that they cannot be divided.<br>\n",
    "\n",
    "Basically you divide the problem untill u cannot divide it further and then combine their solutions together.<br>"
   ]
  },
  {
   "cell_type": "markdown",
   "metadata": {},
   "source": [
    "13.1 Mergesort<br>\n",
    "\n",
    "The most direct application of the Divide and Conquer paradigm to the sorting problem is the mergesort algorithm. In this algorithm, all the difficult work is in the merge step."
   ]
  },
  {
   "cell_type": "code",
   "execution_count": 3,
   "metadata": {},
   "outputs": [
    {
     "name": "stdout",
     "output_type": "stream",
     "text": [
      "[1, 2, 3]\n"
     ]
    }
   ],
   "source": [
    "def mergesort(L):\n",
    "    if len(L) < 2:\n",
    "        return\n",
    "    \n",
    "    mid = len(L) // 2\n",
    "    A = L[:mid]\n",
    "    B = L[mid:]\n",
    "    \n",
    "    mergesort(A)\n",
    "    mergesort(B)\n",
    "\n",
    "    merge(A, B, L)\n",
    "\n",
    "def merge(A, B, L):\n",
    "    i = 0\n",
    "    j = 0\n",
    "    while i < len(A) and j < len(B):\n",
    "        if A[i] < B[j]:\n",
    "            L[i + j] = A[i]\n",
    "            i += 1\n",
    "        else:\n",
    "            L[i + j] = B[j]\n",
    "            j += 1\n",
    "        \n",
    "    L[i + j:] = A[i:] + B[j:]\n",
    "\n",
    "l=[3,2,1]\n",
    "mergesort(l)\n",
    "print(l)"
   ]
  },
  {
   "cell_type": "markdown",
   "metadata": {},
   "source": [
    "To reduce the last line calculation we can use the updated function"
   ]
  },
  {
   "cell_type": "code",
   "execution_count": 4,
   "metadata": {},
   "outputs": [],
   "source": [
    "def merge(A, B, L):\n",
    "    i, j = 0, 0\n",
    "    while i < len(A) or j < len(B):\n",
    "        if j == len(B) or (i < len(A) and A[i] < B[j]):\n",
    "            L[i+j] = A[i]\n",
    "            i = i + 1\n",
    "        else:\n",
    "            L[i+j] = B[j]\n",
    "            j = j + 1"
   ]
  },
  {
   "cell_type": "markdown",
   "metadata": {},
   "source": [
    "The complex if statement above relies heavily on something called short-circuited evaluation of boolean expressions. If we have a boolean operation like or, and the first operand is True, then we don’t have to evaluate the second operand to find out that the overall result will be True. Using this fact, Python will not even evaluate the second operand. Similarly, if we have an and expression and the first operand is False, then the second operand is never evaluated. The key to remember is that the order does matter here. The expression (i < len(A) and A[i] < B[j]) or j == len(B) is logically equivalent, but if we use this expression instead, it will raise an IndexError when j == len(B)."
   ]
  },
  {
   "cell_type": "markdown",
   "metadata": {},
   "source": [
    "13.1.1 An Analysis<br>\n",
    "\n",
    "The merge function for two lists whole length add up to n takes O(n) time.<br>\n",
    "So, we have log n levels, each costing O(n), and thus, the total cost is ***O(n log n).***"
   ]
  },
  {
   "cell_type": "markdown",
   "metadata": {},
   "source": [
    "13.1.2 Merging Iterators<br>\n",
    "\n",
    "We will implement mergesort using iterators."
   ]
  },
  {
   "cell_type": "code",
   "execution_count": 4,
   "metadata": {},
   "outputs": [
    {
     "name": "stdout",
     "output_type": "stream",
     "text": [
      "1\n",
      "2\n",
      "3\n",
      "4\n",
      "5\n",
      "6\n",
      "7\n",
      "8\n",
      "9\n",
      "10\n"
     ]
    }
   ],
   "source": [
    "#sample example of how iterator works\n",
    "\n",
    "class SimpleIterator:\n",
    "    def __init__(self):\n",
    "        self._count = 0\n",
    "    \n",
    "    def __iter__(self):\n",
    "        return self\n",
    "    \n",
    "    def __next__(self):\n",
    "        if self._count < 10:\n",
    "            self._count += 1\n",
    "            return self._count\n",
    "        else:\n",
    "            raise StopIteration\n",
    "\n",
    "iterator1 = SimpleIterator()\n",
    "for x in iterator1:\n",
    "    print(x)"
   ]
  },
  {
   "cell_type": "code",
   "execution_count": 5,
   "metadata": {},
   "outputs": [
    {
     "data": {
      "text/plain": [
       "[2, 4, 6, 8, 10, 12, 14, 16, 18, 20]"
      ]
     },
     "execution_count": 5,
     "metadata": {},
     "output_type": "execute_result"
    }
   ],
   "source": [
    "iterator2 = SimpleIterator()\n",
    "L = [2 * x for x in iterator2]\n",
    "L"
   ]
  },
  {
   "cell_type": "code",
   "execution_count": 8,
   "metadata": {},
   "outputs": [],
   "source": [
    "class BufferedIterator:\n",
    "    def __init__(self, i):\n",
    "        self._i = iter(i)\n",
    "        self._hasnext = True\n",
    "        self._buffer = None\n",
    "        self._advance()\n",
    "    \n",
    "    def peek(self):\n",
    "        return self._buffer\n",
    "    \n",
    "    def hasnext(self):\n",
    "        return self._hasnext\n",
    "    \n",
    "    def _advance(self):\n",
    "        try:\n",
    "            self._buffer = next(self._i)\n",
    "        except StopIteration:\n",
    "            self._buffer = None\n",
    "            self._hasnext = False\n",
    "    \n",
    "    def __iter__(self):\n",
    "            return self\n",
    "    \n",
    "    def __next__(self):\n",
    "            if self.hasnext():\n",
    "                output = self.peek()\n",
    "                self._advance()\n",
    "                return output\n",
    "            else:\n",
    "                raise StopIteration"
   ]
  },
  {
   "cell_type": "markdown",
   "metadata": {},
   "source": [
    "The BufferedIterator class is built from any iterator. It stays one step of the iteration ahead of the user and stores the next item in a buffer."
   ]
  },
  {
   "cell_type": "code",
   "execution_count": 9,
   "metadata": {},
   "outputs": [],
   "source": [
    "def merge(A, B):\n",
    "    a = BufferedIterator(A)\n",
    "    b = BufferedIterator(B)\n",
    "    while a.hasnext() or b.hasnext():\n",
    "        if not a.hasnext() or (b.hasnext() and b.peek() < a.peek()):\n",
    "            yield next(b)\n",
    "        else:\n",
    "            yield next(a)"
   ]
  },
  {
   "cell_type": "markdown",
   "metadata": {},
   "source": [
    "We can use this new merge iterator to write a new version of mergesort."
   ]
  },
  {
   "cell_type": "code",
   "execution_count": 10,
   "metadata": {},
   "outputs": [],
   "source": [
    "def mergesort(L):\n",
    "    if len(L) > 1:\n",
    "        m = len(L) // 2\n",
    "        A, B = L[:m], L[m:]\n",
    "        mergesort(A)\n",
    "        mergesort(B)\n",
    "        L[:] = merge(A, B)"
   ]
  },
  {
   "cell_type": "markdown",
   "metadata": {},
   "source": [
    "13.2 Quicksort<br>\n",
    "\n",
    "The mergesort code does a lot of slicing, which creates a copy and increases space. To overcome that we have quicksort which sorts the item **inplace**."
   ]
  },
  {
   "cell_type": "code",
   "execution_count": 12,
   "metadata": {},
   "outputs": [],
   "source": [
    "def quicksorted(L):\n",
    "    #base case\n",
    "    if len(L) < 2:\n",
    "        return L[:]\n",
    "    # Divide\n",
    "    pivot = L[-1]\n",
    "    LT = [e for e in L if e < pivot]\n",
    "    ET = [e for e in L if e == pivot]\n",
    "    GT = [e for e in L if e > pivot]\n",
    "    # Conquer\n",
    "    A = quicksorted(LT)\n",
    "    B = quicksorted(GT)\n",
    "    # Combine\n",
    "    return A + ET + B"
   ]
  },
  {
   "cell_type": "code",
   "execution_count": 13,
   "metadata": {},
   "outputs": [
    {
     "name": "stdout",
     "output_type": "stream",
     "text": [
      "[1, 2, 3, 4, 5]\n"
     ]
    }
   ],
   "source": [
    "# inplace version\n",
    "\n",
    "def quicksort(L, left = 0, right = None):\n",
    "    if right is None:\n",
    "        right = len(L)\n",
    "    \n",
    "    if right - left > 1:\n",
    "        mid = partition(L, left, right)\n",
    "\n",
    "        quicksort(L, mid, left)\n",
    "        quicksort(L, mid + 1, right)\n",
    "\n",
    "def partition(L, left, right):\n",
    "    pivot = right - 1\n",
    "    i = left\n",
    "    j = pivot - 1\n",
    "\n",
    "    while i < j:\n",
    "        while L[i] < L[pivot]:\n",
    "            i += 1\n",
    "        \n",
    "        while i < j and L[j] >= L[pivot]:\n",
    "            j -= 1\n",
    "        \n",
    "        if i < j:\n",
    "            L[i], L[j] = L[j], L[i]\n",
    "    \n",
    "    if L[pivot] <= L[i]:\n",
    "        L[pivot], L[i] = L[i], L[pivot]\n",
    "        pivot = i\n",
    "    \n",
    "    return pivot\n",
    "\n",
    "L = [5,2,3,1,4]\n",
    "quicksort(L)\n",
    "print(L)"
   ]
  },
  {
   "cell_type": "markdown",
   "metadata": {},
   "source": [
    "Below is a second implementation. It uses a (private) helper function rather than using default parameters to handle the initial call.<br>\n",
    "The main difference in the code below is that it uses a random pivot element instead of always choosing the last element. Notice that random is not the same as arbitrary."
   ]
  },
  {
   "cell_type": "code",
   "execution_count": 16,
   "metadata": {},
   "outputs": [
    {
     "name": "stdout",
     "output_type": "stream",
     "text": [
      "[0, 1, 2, 3, 4, 5, 6, 7, 8, 9, 10, 11, 12, 13, 14, 15, 16, 17, 18, 19, 20, 21, 22, 23, 24, 25, 26, 27, 28, 29, 30, 31, 32, 33, 34, 35, 36, 37, 38, 39, 40, 41, 42, 43, 44, 45, 46, 47, 48, 49, 50, 51, 52, 53, 54, 55, 56, 57, 58, 59, 60, 61, 62, 63, 64, 65, 66, 67, 68, 69, 70, 71, 72, 73, 74, 75, 76, 77, 78, 79, 80, 81, 82, 83, 84, 85, 86, 87, 88, 89, 90, 91, 92, 93, 94, 95, 96, 97, 98, 99, 100, 101, 102, 103, 104, 105, 106, 107, 108, 109, 110, 111, 112, 113, 114, 115, 116, 117, 118, 119, 120, 121, 122, 123, 124, 125, 126, 127, 128, 129, 130, 131, 132, 133, 134, 135, 136, 137, 138, 139, 140, 141, 142, 143, 144, 145, 146, 147, 148, 149, 150, 151, 152, 153, 154, 155, 156, 157, 158, 159, 160, 161, 162, 163, 164, 165, 166, 167, 168, 169, 170, 171, 172, 173, 174, 175, 176, 177, 178, 179, 180, 181, 182, 183, 184, 185, 186, 187, 188, 189, 190, 191, 192, 193, 194, 195, 196, 197, 198, 199, 200, 201, 202, 203, 204, 205, 206, 207, 208, 209, 210, 211, 212, 213, 214, 215, 216, 217, 218, 219, 220, 221, 222, 223, 224, 225, 226, 227, 228, 229, 230, 231, 232, 233, 234, 235, 236, 237, 238, 239, 240, 241, 242, 243, 244, 245, 246, 247, 248, 249, 250, 251, 252, 253, 254, 255, 256, 257, 258, 259, 260, 261, 262, 263, 264, 265, 266, 267, 268, 269, 270, 271, 272, 273, 274, 275, 276, 277, 278, 279, 280, 281, 282, 283, 284, 285, 286, 287, 288, 289, 290, 291, 292, 293, 294, 295, 296, 297, 298, 299, 300, 301, 302, 303, 304, 305, 306, 307, 308, 309, 310, 311, 312, 313, 314, 315, 316, 317, 318, 319, 320, 321, 322, 323, 324, 325, 326, 327, 328, 329, 330, 331, 332, 333, 334, 335, 336, 337, 338, 339, 340, 341, 342, 343, 344, 345, 346, 347, 348, 349, 350, 351, 352, 353, 354, 355, 356, 357, 358, 359, 360, 361, 362, 363, 364, 365, 366, 367, 368, 369, 370, 371, 372, 373, 374, 375, 376, 377, 378, 379, 380, 381, 382, 383, 384, 385, 386, 387, 388, 389, 390, 391, 392, 393, 394, 395, 396, 397, 398, 399, 400, 401, 402, 403, 404, 405, 406, 407, 408, 409, 410, 411, 412, 413, 414, 415, 416, 417, 418, 419, 420, 421, 422, 423, 424, 425, 426, 427, 428, 429, 430, 431, 432, 433, 434, 435, 436, 437, 438, 439, 440, 441, 442, 443, 444, 445, 446, 447, 448, 449, 450, 451, 452, 453, 454, 455, 456, 457, 458, 459, 460, 461, 462, 463, 464, 465, 466, 467, 468, 469, 470, 471, 472, 473, 474, 475, 476, 477, 478, 479, 480, 481, 482, 483, 484, 485, 486, 487, 488, 489, 490, 491, 492, 493, 494, 495, 496, 497, 498, 499, 500, 501, 502, 503, 504, 505, 506, 507, 508, 509, 510, 511, 512, 513, 514, 515, 516, 517, 518, 519, 520, 521, 522, 523, 524, 525, 526, 527, 528, 529, 530, 531, 532, 533, 534, 535, 536, 537, 538, 539, 540, 541, 542, 543, 544, 545, 546, 547, 548, 549, 550, 551, 552, 553, 554, 555, 556, 557, 558, 559, 560, 561, 562, 563, 564, 565, 566, 567, 568, 569, 570, 571, 572, 573, 574, 575, 576, 577, 578, 579, 580, 581, 582, 583, 584, 585, 586, 587, 588, 589, 590, 591, 592, 593, 594, 595, 596, 597, 598, 599, 600, 601, 602, 603, 604, 605, 606, 607, 608, 609, 610, 611, 612, 613, 614, 615, 616, 617, 618, 619, 620, 621, 622, 623, 624, 625, 626, 627, 628, 629, 630, 631, 632, 633, 634, 635, 636, 637, 638, 639, 640, 641, 642, 643, 644, 645, 646, 647, 648, 649, 650, 651, 652, 653, 654, 655, 656, 657, 658, 659, 660, 661, 662, 663, 664, 665, 666, 667, 668, 669, 670, 671, 672, 673, 674, 675, 676, 677, 678, 679, 680, 681, 682, 683, 684, 685, 686, 687, 688, 689, 690, 691, 692, 693, 694, 695, 696, 697, 698, 699, 700, 701, 702, 703, 704, 705, 706, 707, 708, 709, 710, 711, 712, 713, 714, 715, 716, 717, 718, 719, 720, 721, 722, 723, 724, 725, 726, 727, 728, 729, 730, 731, 732, 733, 734, 735, 736, 737, 738, 739, 740, 741, 742, 743, 744, 745, 746, 747, 748, 749, 750, 751, 752, 753, 754, 755, 756, 757, 758, 759, 760, 761, 762, 763, 764, 765, 766, 767, 768, 769, 770, 771, 772, 773, 774, 775, 776, 777, 778, 779, 780, 781, 782, 783, 784, 785, 786, 787, 788, 789, 790, 791, 792, 793, 794, 795, 796, 797, 798, 799, 800, 801, 802, 803, 804, 805, 806, 807, 808, 809, 810, 811, 812, 813, 814, 815, 816, 817, 818, 819, 820, 821, 822, 823, 824, 825, 826, 827, 828, 829, 830, 831, 832, 833, 834, 835, 836, 837, 838, 839, 840, 841, 842, 843, 844, 845, 846, 847, 848, 849, 850, 851, 852, 853, 854, 855, 856, 857, 858, 859, 860, 861, 862, 863, 864, 865, 866, 867, 868, 869, 870, 871, 872, 873, 874, 875, 876, 877, 878, 879, 880, 881, 882, 883, 884, 885, 886, 887, 888, 889, 890, 891, 892, 893, 894, 895, 896, 897, 898, 899, 900, 901, 902, 903, 904, 905, 906, 907, 908, 909, 910, 911, 912, 913, 914, 915, 916, 917, 918, 919, 920, 921, 922, 923, 924, 925, 926, 927, 928, 929, 930, 931, 932, 933, 934, 935, 936, 937, 938, 939, 940, 941, 942, 943, 944, 945, 946, 947, 948, 949, 950, 951, 952, 953, 954, 955, 956, 957, 958, 959, 960, 961, 962, 963, 964, 965, 966, 967, 968, 969, 970, 971, 972, 973, 974, 975, 976, 977, 978, 979, 980, 981, 982, 983, 984, 985, 986, 987, 988, 989, 990, 991, 992, 993, 994, 995, 996, 997, 998, 999]\n"
     ]
    }
   ],
   "source": [
    "from random import randrange\n",
    "\n",
    "def quicksort(L):\n",
    "    _quicksort(L, 0, len(L))\n",
    "\n",
    "def _quicksort(L, left, right):\n",
    "    if right - left > 1:\n",
    "        mid = partition(L, left, right)\n",
    "        _quicksort(L, left, mid)\n",
    "        _quicksort(L, mid+1, right)\n",
    "\n",
    "def partition(L, left, right):\n",
    "    pivot = randrange(left, right)\n",
    "    L[pivot], L[right -1] = L[right -1], L[pivot]\n",
    "    i, j, pivot = left, right - 2, right - 1\n",
    "    \n",
    "    while i < j:\n",
    "        while L[i] < L[pivot]:\n",
    "            i += 1\n",
    "    \n",
    "        while i < j and L[j] >= L[pivot]:\n",
    "            j -= 1\n",
    "    \n",
    "        if i < j:\n",
    "            L[i], L[j] = L[j], L[i]\n",
    "    \n",
    "    if L[pivot] <= L[i]:\n",
    "        L[pivot], L[i] = L[i], L[pivot]\n",
    "        pivot = i\n",
    "    \n",
    "    return pivot\n",
    "\n",
    "L = list(reversed(range(1000)))\n",
    "quicksort(L)\n",
    "print(L)"
   ]
  },
  {
   "cell_type": "markdown",
   "metadata": {},
   "source": [
    "Visualize MergeSort algorithms [here](https://www.hackerearth.com/practice/algorithms/sorting/merge-sort/visualize/)"
   ]
  }
 ],
 "metadata": {
  "kernelspec": {
   "display_name": "Python 3",
   "language": "python",
   "name": "python3"
  },
  "language_info": {
   "codemirror_mode": {
    "name": "ipython",
    "version": 3
   },
   "file_extension": ".py",
   "mimetype": "text/x-python",
   "name": "python",
   "nbconvert_exporter": "python",
   "pygments_lexer": "ipython3",
   "version": "3.10.12"
  },
  "orig_nbformat": 4
 },
 "nbformat": 4,
 "nbformat_minor": 2
}
