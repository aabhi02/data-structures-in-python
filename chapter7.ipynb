{
 "cells": [
  {
   "cell_type": "markdown",
   "metadata": {},
   "source": [
    "Chapter 7 Deques and Linked Lists<br><br>\n",
    "\n",
    "A deque is a doubly-ended queue. It acts like both a stack and a queue, storing an ordered collection of items with the ability to add or remove from both the beginning and the end.<br>\n",
    "\n",
    "7.1 The Deque ADT\n",
    "- addfirst(item) - add item to the front of the deque.\n",
    "- addlast(item) - add item to the end of the deque.\n",
    "- removefirst(item) - remove and return the first item in the deque.\n",
    "- removelast(item) - remove and return the last item in the deque.\n",
    "- len - return the number of items in the deque"
   ]
  },
  {
   "cell_type": "code",
   "execution_count": 1,
   "metadata": {},
   "outputs": [],
   "source": [
    "#Deque implementation using list\n",
    "class ListDeque:\n",
    "    def __init__(self):\n",
    "        self._L = []\n",
    "    \n",
    "    def addfirst(self, item):\n",
    "        self._L.insert(0, item)\n",
    "\n",
    "    def addlast(self, item):\n",
    "        self._L.append(item)\n",
    "\n",
    "    def removefirst(self):\n",
    "        return self._L.pop(0)\n",
    "    \n",
    "    def removelast(self):\n",
    "        return self._L.pop()\n",
    "    \n",
    "    def __len__(self):\n",
    "        return len(self._L)"
   ]
  },
  {
   "cell_type": "markdown",
   "metadata": {},
   "source": [
    "The code is simple enough, but a couple of operations will start to get slow as the deque gets large. Inserting and popping at index 0 takes O(n) time. This follows from the way lists are stored sequentially in memory. There is no way to change the beginning of the list without shifting all the other elements to make room or fill gaps. To make this work, we are going to have to give up on the idea of having the items laid out sequentially in memory. Instead, we’ll store some more information with each item that we can use to extract the order."
   ]
  },
  {
   "cell_type": "markdown",
   "metadata": {},
   "source": [
    "7.2 Linked Lists<br><br>\n",
    "\n",
    "Linked lists are a simple data structure for storing a sequential collection. Unlike a standard Python list, it will allow us to insert at the beginning quickly. The idea is to store the items in individual objects called nodes. A special node is the head of the list. Each node stores a reference to the next node in the list."
   ]
  },
  {
   "cell_type": "code",
   "execution_count": 2,
   "metadata": {},
   "outputs": [],
   "source": [
    "class ListNode:\n",
    "    def __init__(self, data, link=None):\n",
    "        self.data = data\n",
    "        self.link = link"
   ]
  },
  {
   "cell_type": "markdown",
   "metadata": {},
   "source": [
    "To start the LinkedList, we will store the head of the list. We will provide two methods, addfirst and removefirst both of which modify the beginning of the list. These will behave roughly like the push and pop operations of the stack. This first implementation will hide the nodes from the user. That is, from a users perspective, they can create a linked list, and they can add and remove nodes, but they don’t have to touch (or even know about) the nodes. This is abstraction (hiding details)!"
   ]
  },
  {
   "cell_type": "code",
   "execution_count": 3,
   "metadata": {},
   "outputs": [],
   "source": [
    "class LinkedList:\n",
    "    def __init__(self):\n",
    "        self._head = None\n",
    "\n",
    "    def addfirst(self, item):\n",
    "        self._head = ListNode(item, self._head)\n",
    "\n",
    "    def removefirst(self):\n",
    "        item = self._head.data\n",
    "        self._head = self._head.link\n",
    "        return item"
   ]
  },
  {
   "cell_type": "code",
   "execution_count": 4,
   "metadata": {},
   "outputs": [
    {
     "data": {
      "text/plain": [
       "2"
      ]
     },
     "execution_count": 4,
     "metadata": {},
     "output_type": "execute_result"
    }
   ],
   "source": [
    "LL = LinkedList()\n",
    "LL.addfirst(1)\n",
    "LL.addfirst(2)\n",
    "LL.removefirst()"
   ]
  },
  {
   "cell_type": "markdown",
   "metadata": {},
   "source": [
    "7.3 Implementing a Queue with a LinkedList<br><br>\n",
    "\n",
    "Our best list implementation of a Queue required linear time in the worst case for dequeue operations We could hope to do better with a linked list. However, right now, we have no way to add to or remove from the end of the linked list. Here is an inefficient, though simple and correct way to do it."
   ]
  },
  {
   "cell_type": "code",
   "execution_count": 5,
   "metadata": {},
   "outputs": [],
   "source": [
    "class LinkedList:\n",
    "    def __init__(self):\n",
    "        self._head = None\n",
    "\n",
    "    def addfirst(self, item):\n",
    "        self._head = ListNode(item, self._head)\n",
    "\n",
    "    def addlast(self, item):\n",
    "        if self._head is None:\n",
    "            self.addfirst(item)\n",
    "\n",
    "        else:\n",
    "            currentnode = self._head\n",
    "            while currentnode.link is not None:\n",
    "                currentnode = currentnode.link\n",
    "            currentnode.link = ListNode(item)\n",
    "\n",
    "    def removefirst(self):\n",
    "        item = self._head.data\n",
    "        self._head = self._head.link\n",
    "        return item\n",
    "    \n",
    "    def removelast(self):\n",
    "        if self._head.link is None:\n",
    "            self.removefirst()\n",
    "\n",
    "        else:\n",
    "            currentnode = self._head\n",
    "            while currentnode.link.link is not None:\n",
    "                currentnode = currentnode.link\n",
    "            item = currentnode.link.data\n",
    "            currentnode.link = None\n",
    "            return item"
   ]
  },
  {
   "cell_type": "code",
   "execution_count": 6,
   "metadata": {},
   "outputs": [
    {
     "data": {
      "text/plain": [
       "2"
      ]
     },
     "execution_count": 6,
     "metadata": {},
     "output_type": "execute_result"
    }
   ],
   "source": [
    "LL2 = LinkedList()\n",
    "LL2.addfirst(3)\n",
    "LL2.addfirst(2)\n",
    "LL2.addlast(1)\n",
    "LL2.removefirst()"
   ]
  },
  {
   "cell_type": "markdown",
   "metadata": {},
   "source": [
    "The new addlast method starts at the head of the linked list and traverses to the end by following the links. It uses the convention that the link of the last node is None.\n",
    "Similarly, removelast traverses the list until it reaches the second to last element. This traversal approach is not very efficient. For a list of length n, we would need O(n) time to find the end.\n",
    "A different approach might be to store the last node (or tail) of the list so we don’t have to search for it when we need it.\n",
    "We will be able to use this to get some improvement for addlast, because we will be able to jump right to the end without traversing."
   ]
  },
  {
   "cell_type": "code",
   "execution_count": 7,
   "metadata": {},
   "outputs": [],
   "source": [
    "class LinkedList:\n",
    "    def __init__(self):\n",
    "        self._head = None\n",
    "        self._tail = None\n",
    "\n",
    "    def addfirst(self, item):\n",
    "        self._head = ListNode(item, self._head)\n",
    "        if self._tail is None: self._tail = self._head\n",
    "\n",
    "    def addlast(self, item):\n",
    "        if self._head is None:\n",
    "            self.addfirst(item)\n",
    "        \n",
    "        else:\n",
    "            self._tail.link = ListNode(item)\n",
    "            self._tail = self._tail.link\n",
    "    \n",
    "    def removefirst(self):\n",
    "        item = self._head.data\n",
    "        self._head = self._head.link\n",
    "        if self._head is None: self._tail = None\n",
    "        return item\n",
    "    \n",
    "    def removelast(self):\n",
    "        if self._head is self._tail:\n",
    "            self.removefirst()\n",
    "\n",
    "        else:\n",
    "            currentnode = self._head\n",
    "            while currentnode.link is not self._tail:\n",
    "                currentnode = currentnode.link\n",
    "            item = self._tail.data\n",
    "            self._tail = currentnode\n",
    "            self._tail.link = None\n",
    "            return item"
   ]
  },
  {
   "cell_type": "markdown",
   "metadata": {},
   "source": [
    "Now we can implement the Queue ADT with a linked list."
   ]
  },
  {
   "cell_type": "code",
   "execution_count": 8,
   "metadata": {},
   "outputs": [],
   "source": [
    "from ds2.deque import LinkedList\n",
    "\n",
    "class LinkedQueue:\n",
    "    def __init__(self):\n",
    "        self._L = LinkedList()\n",
    "\n",
    "    def enqueue(self, item):\n",
    "        self._L.addlast(item)\n",
    "\n",
    "    def dequeue(self):\n",
    "        return self._L.removefirst()\n",
    "\n",
    "    def peek(self):\n",
    "        item = self._L.removefirst()\n",
    "        self._L.addfirst(item)\n",
    "        return item\n",
    "\n",
    "    def __len__(self):\n",
    "        return len(self._L)\n",
    "\n",
    "    def isempty(self):\n",
    "        return len(self) == 0"
   ]
  },
  {
   "cell_type": "markdown",
   "metadata": {},
   "source": [
    "7.4 Storing the length<br><br>\n",
    "\n",
    "we will want delegate the length computation to the LinkedList."
   ]
  },
  {
   "cell_type": "code",
   "execution_count": 9,
   "metadata": {},
   "outputs": [],
   "source": [
    "class LinkedList:\n",
    "    def __init__(self):\n",
    "        self._head = None\n",
    "        self._tail = None\n",
    "        self._lenght = 0\n",
    "\n",
    "    def addfirst(self, item):\n",
    "        self._head = ListNode(item, self._head)\n",
    "        if self._tail is None: self._tail = self._head\n",
    "        self._lenght += 1\n",
    "\n",
    "    def addlast(self, item):\n",
    "        if self._head is None:\n",
    "            self.addfirst(item)\n",
    "\n",
    "        else:\n",
    "            self._tail.link = ListNode(item)\n",
    "            self._tail = self._tail.link\n",
    "            self._lenght += 1\n",
    "\n",
    "    def removefirst(self):\n",
    "        item = self._head.data\n",
    "        self._head = self._head.link\n",
    "        if self._head is None: self._tail = None\n",
    "        self._lenght -= 1\n",
    "        return item\n",
    "    \n",
    "    def removelast(self):\n",
    "        if self._head is self._tail:\n",
    "            self.removefirst()\n",
    "        \n",
    "        else:\n",
    "            currentnode = self._head\n",
    "            while currentnode is not self._tail:\n",
    "                currentnode = currentnode.link\n",
    "            item = self._tail.data\n",
    "            self._tail = currentnode\n",
    "            self._tail.link = None\n",
    "            self._lenght -= 1\n",
    "            return item\n",
    "        \n",
    "    def __len__(self):\n",
    "        return self._lenght\n",
    "    \n",
    "    def isempty(self):\n",
    "        return self._lenght == 0"
   ]
  },
  {
   "cell_type": "markdown",
   "metadata": {},
   "source": [
    "We still have to iterate through the whole list in order to remove from the end. It seems very hard to avoid this. As a result, our removelast method still takes linear time."
   ]
  },
  {
   "cell_type": "markdown",
   "metadata": {},
   "source": [
    "7.5 Testing Against the ADT"
   ]
  },
  {
   "cell_type": "code",
   "execution_count": 6,
   "metadata": {},
   "outputs": [],
   "source": [
    "import unittest\n",
    "from ds2.queue import ListQueue\n",
    "\n",
    "class TestListQueue(unittest.TestCase):\n",
    "    def testinit(self):\n",
    "        q = ListQueue()\n",
    "\n",
    "    def testaddandremoveoneitem(self):\n",
    "        q = ListQueue()\n",
    "        q.enqueue(3)\n",
    "        self.assertEqual(q.dequeue(), 3)\n",
    "    \n",
    "    def testalternatingaddremove(self):\n",
    "        q = ListQueue()\n",
    "        for i in range(1000):\n",
    "            q.enqueue(i)\n",
    "            self.assertEqual(q.dequeue(), i)\n",
    "    \n",
    "    def testmanyoperations(self):\n",
    "        q = ListQueue()\n",
    "        for i in range(1000):\n",
    "            q.enqueue(2 * i + 3)\n",
    "        for i in range(1000):\n",
    "            self.assertEqual(q.dequeue(), 2 * i + 3)\n",
    "\n",
    "    def testlength(self):\n",
    "        q = ListQueue()\n",
    "        self.assertEqual(len(q), 0)\n",
    "        for i in range(10):\n",
    "            q.enqueue(i)\n",
    "        self.assertEqual(len(q), 10)\n",
    "        for i in range(10):\n",
    "            q.enqueue(i)\n",
    "        self.assertEqual(len(q), 20)\n",
    "        for i in range(15):\n",
    "            q.dequeue()\n",
    "        self.assertEqual(len(q), 5)\n",
    "\n",
    "if __name__ == \"__main__\":\n",
    "    unittest.main()"
   ]
  },
  {
   "cell_type": "markdown",
   "metadata": {},
   "source": [
    ".....<br>\n",
    "\\----------------------------------------------------------------------<br>\n",
    "Ran 5 tests in 0.003s<br><br>\n",
    "OK"
   ]
  },
  {
   "cell_type": "markdown",
   "metadata": {},
   "source": [
    "We wanted to copy a bunch of methods to be included in two different classes (TestListQueue and TestLinkedQueue). Instead we want them to share the methods. So, we refactor the code, by factoring out a superclass."
   ]
  },
  {
   "cell_type": "code",
   "execution_count": 2,
   "metadata": {},
   "outputs": [],
   "source": [
    "#testqueue.py\n",
    "class QueueTests:\n",
    "    def __init__(self):\n",
    "        q = self.Queue()\n",
    "\n",
    "    def testaddandremoveoneitem(self):\n",
    "        q = self.Queue()\n",
    "        q.enqueue(3)\n",
    "        self.assertEqual(q.dequeue(), 3)\n",
    "\n",
    "    def testalternatingaddremove(self):\n",
    "        q = self.Queue()\n",
    "        for i in range(1000):\n",
    "            q.enqueue(i)\n",
    "            self.assertEqual(q.dequeue(), i)\n",
    "    \n",
    "    def testmanyoperations(self):\n",
    "        q = self.Queue()\n",
    "        for i in range(1000):\n",
    "            q.enqueue(2 * i + 3)\n",
    "        for i in range(1000):\n",
    "            self.assertEqual(q.dequeue(), 2 * i + 3)\n",
    "\n",
    "    def testlength(self):\n",
    "        q = self.Queue()\n",
    "        self.assertEqual(len(q), 0)\n",
    "        for i in range(10):\n",
    "            q.enqueue(i)\n",
    "        self.assertEqual(len(q), 10)\n",
    "        for i in range(10):\n",
    "            q.enqueue(i)\n",
    "        self.assertEqual(len(q), 20)\n",
    "        for i in range(15):\n",
    "            q.dequeue()\n",
    "        self.assertEqual(len(q), 5)"
   ]
  },
  {
   "cell_type": "markdown",
   "metadata": {},
   "source": [
    "Instead of creating a new ListQueue object in each test, we create a self.Queue object. <br>This may seem strange for two reasons: first, we don’t have this class; and second, it is attached to self which is the TestQueue object. When we implement the specific tests for each class, we will assign the variable Queue to be the class corresponding to the particular implementation we want to test."
   ]
  },
  {
   "cell_type": "code",
   "execution_count": 6,
   "metadata": {},
   "outputs": [],
   "source": [
    "# testlistqueue.py\n",
    "import unittest\n",
    "from ds2.test.testqueue import QueueTests\n",
    "from ds2.queue import ListQueue\n",
    "\n",
    "class TestListQueue(unittest.TestCase, QueueTests):\n",
    "    Queue = ListQueue\n",
    "\n",
    "if __name__ == \"__main__\":\n",
    "    unittest.main()"
   ]
  },
  {
   "cell_type": "markdown",
   "metadata": {},
   "source": [
    ".....<br>\n",
    "\\----------------------------------------------------------------------<br>\n",
    "Ran 5 tests in 0.003s<br><br>\n",
    "OK"
   ]
  },
  {
   "cell_type": "code",
   "execution_count": 7,
   "metadata": {},
   "outputs": [],
   "source": [
    "# testlinkedqueue.py\n",
    "import unittest\n",
    "from ds2.test.testqueue import QueueTests\n",
    "from ds2.queue import LinkedQueue\n",
    "\n",
    "class TestLinkedQueue(unittest.TestCase, QueueTests):\n",
    "    Queue = LinkedQueue\n",
    "\n",
    "if __name__ == \"__main__\":\n",
    "    unittest.main()"
   ]
  },
  {
   "cell_type": "markdown",
   "metadata": {},
   "source": [
    ".....<br>\n",
    "\\----------------------------------------------------------------------<br>\n",
    "Ran 5 tests in 0.003s<br><br>\n",
    "OK"
   ]
  },
  {
   "cell_type": "markdown",
   "metadata": {},
   "source": [
    "The classes, TestListQueue and TestLinkedQueue, extend both unittest.TestCase and TestQueue. This is called multiple inheritance."
   ]
  },
  {
   "cell_type": "code",
   "execution_count": 2,
   "metadata": {
    "tags": []
   },
   "outputs": [],
   "source": [
    "# testbothqueue.py\n",
    "import unittest\n",
    "from ds2.test.testqueue import QueueTests\n",
    "from ds2.queue import ListQueue, LinkedQueue\n",
    "\n",
    "def _test(queue_class):\n",
    "    class QueueTestCase(unittest.TestCase, QueueTests):\n",
    "        Queue = queue_class\n",
    "    return QueueTestCase\n",
    "\n",
    "TestLinkedQueue = _test(LinkedQueue)\n",
    "TestListQueue = _test(ListQueue)\n",
    "\n",
    "if __name__ == \"__main__\":\n",
    "    unittest.main()"
   ]
  },
  {
   "cell_type": "markdown",
   "metadata": {},
   "source": [
    ".....<br>\n",
    "\\----------------------------------------------------------------------<br>\n",
    "Ran 10 tests in 0.008s<br><br>\n",
    "OK"
   ]
  },
  {
   "cell_type": "markdown",
   "metadata": {},
   "source": [
    "Ten tests will execute, five for each implementation."
   ]
  },
  {
   "cell_type": "markdown",
   "metadata": {},
   "source": [
    "7.6 The Main Lessons:\n",
    "- Use the public interface as described in an ADT to test your class.\n",
    "- You can use inheritance to share functionality between classes.\n",
    "- Inheritance means ’is a’."
   ]
  },
  {
   "cell_type": "markdown",
   "metadata": {},
   "source": [
    "7.7 Design Patterns: The Wrapper Pattern\n",
    "\n",
    "We create a new class that has an instance of another class (alist or LinkedList in our example) and then provide methods that operate on that object. From outside the class, we don’t have to know anything about the wrapped class. Sometimes, this separation is called a layer of abstraction. The user of our class does not have to know anything about our implementation in order to use the class. <br>\n",
    "Here are some of the takeaway:\n",
    "- Use design patterns where appropriate to organize your code and improve readability.\n",
    "- The Wrapper Pattern gives a way to provide an alternative interface to (a subset of) the methods in another class.\n",
    "- Composition means ’has a’."
   ]
  }
 ],
 "metadata": {
  "kernelspec": {
   "display_name": "Python 3",
   "language": "python",
   "name": "python3"
  },
  "language_info": {
   "codemirror_mode": {
    "name": "ipython",
    "version": 3
   },
   "file_extension": ".py",
   "mimetype": "text/x-python",
   "name": "python",
   "nbconvert_exporter": "python",
   "pygments_lexer": "ipython3",
   "version": "3.10.12"
  },
  "orig_nbformat": 4
 },
 "nbformat": 4,
 "nbformat_minor": 2
}
