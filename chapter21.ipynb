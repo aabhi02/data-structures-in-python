{
 "cells": [
  {
   "cell_type": "markdown",
   "metadata": {},
   "source": [
    "Chapter 21 Graph Search"
   ]
  },
  {
   "cell_type": "code",
   "execution_count": 1,
   "metadata": {},
   "outputs": [],
   "source": [
    "from ds2.graph import EdgeSetGraph\n",
    "\n",
    "class Graph(EdgeSetGraph):  # make sure we are using directed graph\n",
    "    pass"
   ]
  },
  {
   "cell_type": "code",
   "execution_count": 2,
   "metadata": {},
   "outputs": [
    {
     "name": "stdout",
     "output_type": "stream",
     "text": [
      "1\n",
      "2\n",
      "3\n",
      "4\n"
     ]
    }
   ],
   "source": [
    "# preorder graph traversal\n",
    "\n",
    "def printall(G, v):\n",
    "    print(v)\n",
    "    for n in G.nbrs(v):\n",
    "        printall(G, n)\n",
    "\n",
    "G = Graph({1,2,3,4}, {(1,2), (1,3), (1,4)})\n",
    "printall(G, 1)"
   ]
  },
  {
   "cell_type": "markdown",
   "metadata": {},
   "source": [
    "This is fine for a tree, but it quickly gets very bad as soon as there is\n",
    "a cycle. In that case, there is nothing in the code to keep us from going\n",
    "around and around the cycle. We will get a RecursionError."
   ]
  },
  {
   "cell_type": "code",
   "execution_count": 3,
   "metadata": {},
   "outputs": [
    {
     "name": "stdout",
     "output_type": "stream",
     "text": [
      "1\n",
      "2\n",
      "3\n",
      "4\n"
     ]
    }
   ],
   "source": [
    "def printall(G, v, visited):\n",
    "    visited.add(v)\n",
    "    print(v)\n",
    "    for n in G.nbrs(v):\n",
    "        if n not in visited:\n",
    "            printall(G, n, visited)\n",
    "\n",
    "G = Graph({1,2,3,4}, {(1,2), (2,3), (3,4), (4,1)})\n",
    "printall(G, 1, set())"
   ]
  },
  {
   "cell_type": "markdown",
   "metadata": {},
   "source": [
    "This is the most direct generalization of a recursive tree traversal into\n",
    "something that also traverses the vertices of a graph."
   ]
  },
  {
   "cell_type": "markdown",
   "metadata": {},
   "source": [
    "21.1 Depth-First Search<br>\n",
    "\n",
    "A depth-first search (or DFS) of a graph G starting from a vertex v\n",
    "will visit all the vertices connected to v. It will always prioritize moving\n",
    "”outward” in the direction of new vertices, backtracking as little as possible.\n",
    "The printall method above prints the vertices in a depth-first order.\n",
    "Below is the general form of this algorithm."
   ]
  },
  {
   "cell_type": "code",
   "execution_count": 4,
   "metadata": {},
   "outputs": [
    {
     "name": "stdout",
     "output_type": "stream",
     "text": [
      "reachable from 1: {1, 2, 3, 4}\n",
      "reachable from 2: {2, 3, 4}\n"
     ]
    }
   ],
   "source": [
    "def dfs(G, v):\n",
    "    visited = {v}\n",
    "    _dfs(G, v, visited)\n",
    "    return visited\n",
    "\n",
    "def _dfs(G, v, visited):\n",
    "    for n in G.nbrs(v):\n",
    "        if n not in visited:\n",
    "            visited.add(n)\n",
    "            _dfs(G, n, visited)\n",
    "\n",
    "G = Graph({1,2,3,4}, {(1,2), (2,3), (3,4), (4,2)})\n",
    "print(\"reachable from 1:\", dfs(G, 1))\n",
    "print(\"reachable from 2:\", dfs(G, 2))"
   ]
  },
  {
   "cell_type": "markdown",
   "metadata": {},
   "source": [
    "With this code, it will be easy to check if two vertices are connected."
   ]
  },
  {
   "cell_type": "code",
   "execution_count": 5,
   "metadata": {},
   "outputs": [],
   "source": [
    "def connected(G, u, v):\n",
    "    return v in dfs(G, u)"
   ]
  },
  {
   "cell_type": "code",
   "execution_count": 6,
   "metadata": {},
   "outputs": [
    {
     "name": "stdout",
     "output_type": "stream",
     "text": [
      "1 is connected to 4: True\n",
      "4 is connected to 3: True\n",
      "4 is connected to 1: False\n"
     ]
    }
   ],
   "source": [
    "G = Graph({1,2,3,4}, {(1,2), (2,3), (3,4), (4,2)})\n",
    "print(\"1 is connected to 4:\", connected(G, 1, 4))\n",
    "print(\"4 is connected to 3:\", connected(G, 4, 3))\n",
    "print(\"4 is connected to 1:\", connected(G, 4, 1))"
   ]
  },
  {
   "cell_type": "markdown",
   "metadata": {},
   "source": [
    "It's possible to modify our dfs code to provide not only the set of con-\n",
    "nected vertices, but also the paths used in the search. The idea is to store\n",
    "a dictionary that maps vertices to the previous vertex in the path from the\n",
    "starting vertex."
   ]
  },
  {
   "cell_type": "code",
   "execution_count": 7,
   "metadata": {},
   "outputs": [
    {
     "name": "stdout",
     "output_type": "stream",
     "text": [
      "dfs tree from 1: {1: None, 2: 1, 3: 2, 4: 3}\n",
      "dfs tree from 2: {2: None, 3: 2, 4: 3}\n"
     ]
    }
   ],
   "source": [
    "def dfs(G, v):\n",
    "    tree = {v: None}\n",
    "    _dfs(G, v, tree)\n",
    "    return tree\n",
    "\n",
    "def _dfs(G, v, tree):\n",
    "    for n in G.nbrs(v):\n",
    "        if n not in tree:\n",
    "            tree[n] = v\n",
    "            _dfs(G, n, tree)\n",
    "\n",
    "G = Graph({1,2,3,4}, {(1,2), (2,3), (3,4), (4,2)})\n",
    "print(\"dfs tree from 1:\", dfs(G, 1))\n",
    "print(\"dfs tree from 2:\", dfs(G, 2))"
   ]
  },
  {
   "cell_type": "code",
   "execution_count": 8,
   "metadata": {},
   "outputs": [
    {
     "name": "stdout",
     "output_type": "stream",
     "text": [
      "dfs tree from 1: {1: None, 2: 1, 3: 2, 4: 3}\n",
      "dfs tree from 2: {2: None, 3: 2, 4: 3}\n"
     ]
    }
   ],
   "source": [
    "def dfs(G, v):\n",
    "    tree = {v: None}\n",
    "    _dfs(G, v, tree)\n",
    "    return tree\n",
    "\n",
    "def _dfs(G, v, tree):\n",
    "    for n in G.nbrs(v):\n",
    "        if n not in tree:\n",
    "            tree[n] = v\n",
    "            _dfs(G, n, tree)\n",
    "\n",
    "G = Graph({1,2,3,4}, {(1,2), (2,3), (3,4), (4,2)})\n",
    "print(\"dfs tree from 1:\", dfs(G, 1))\n",
    "print(\"dfs tree from 2:\", dfs(G, 2))"
   ]
  },
  {
   "cell_type": "markdown",
   "metadata": {},
   "source": [
    "21.2 Removing the Recursion<br>\n",
    "\n",
    "The dfs code above uses recursion to keep track of previous vertices, so\n",
    "that we can backtrack (by returning) when we reach a vertex from which\n",
    "we can't move forward. To remove the recursion, we replace the function\n",
    "call stack with our own stack."
   ]
  },
  {
   "cell_type": "code",
   "execution_count": 9,
   "metadata": {},
   "outputs": [
    {
     "name": "stdout",
     "output_type": "stream",
     "text": [
      "dfs tree from 1: {1: None, 2: 1, 4: 2, 3: 4}\n",
      "dfs tree from 2: {2: None, 4: 2, 3: 4, 1: 2}\n"
     ]
    }
   ],
   "source": [
    "from ds2.graph import Graph\n",
    "\n",
    "def dfs(self, v):\n",
    "    tree = {}\n",
    "    tovisit = [(None, v)]\n",
    "    while tovisit:\n",
    "        a, b = tovisit.pop()\n",
    "        if b not in tree:\n",
    "            tree[b] = a\n",
    "            for n in self.nbrs(b):\n",
    "                tovisit.append((b, n))\n",
    "    return tree\n",
    "\n",
    "\n",
    "G = Graph({1,2,3,4}, {(1,2), (2,3), (3,4), (4,2)})\n",
    "print(\"dfs tree from 1:\", dfs(G, 1))\n",
    "print(\"dfs tree from 2:\", dfs(G, 2))"
   ]
  },
  {
   "cell_type": "markdown",
   "metadata": {},
   "source": [
    "21.3 Breadth-First Search<br>\n",
    "\n",
    "We get another important traversal by replacing the stack with a queue. In\n",
    "this case, the search prioritizes breadth over depth, resulting in a breadth-\n",
    "first search of BFS."
   ]
  },
  {
   "cell_type": "code",
   "execution_count": 10,
   "metadata": {},
   "outputs": [
    {
     "name": "stdout",
     "output_type": "stream",
     "text": [
      "bfs tree from 1: {1: None, 2: 1, 3: 2, 4: 2}\n",
      "bfs tree from 2: {2: None, 3: 2, 1: 2, 4: 2}\n"
     ]
    }
   ],
   "source": [
    "from ds2.queue import ListQueue as Queue\n",
    "\n",
    "def bfs(G, v):\n",
    "    tree = {}\n",
    "    tovisit = Queue()\n",
    "    tovisit.enqueue((None, v))\n",
    "    while tovisit:\n",
    "        a, b = tovisit.dequeue()\n",
    "        if b not in tree:\n",
    "            tree[b] = a\n",
    "            for n in G.nbrs(b):\n",
    "                tovisit.enqueue((b, n))\n",
    "    return tree\n",
    "\n",
    "G = Graph({1,2,3,4}, {(1,2), (2,3), (3,4), (4,2)})\n",
    "print(\"bfs tree from 1:\", bfs(G, 1))\n",
    "print(\"bfs tree from 2:\", bfs(G, 2))"
   ]
  },
  {
   "cell_type": "code",
   "execution_count": 11,
   "metadata": {},
   "outputs": [
    {
     "name": "stdout",
     "output_type": "stream",
     "text": [
      "distance from 1 to 5: 4\n",
      "distance from 2 to 5: 3\n",
      "distance from 3 to 4: 1\n"
     ]
    }
   ],
   "source": [
    "def distance(G, u, v):\n",
    "    tree = bfs(G, u)\n",
    "    if v not in tree:\n",
    "        return float('inf')\n",
    "    edgecount = 0\n",
    "    while v is not u:\n",
    "        edgecount += 1\n",
    "        v = tree[v]\n",
    "    return edgecount\n",
    "\n",
    "G = Graph({1,2,3,4,5}, {(1,2), (2,3), (3,4), (4,5)})\n",
    "print(\"distance from 1 to 5:\", distance(G, 1, 5))\n",
    "print(\"distance from 2 to 5:\", distance(G, 2, 5))\n",
    "print(\"distance from 3 to 4:\", distance(G, 3, 4))"
   ]
  },
  {
   "cell_type": "markdown",
   "metadata": {},
   "source": [
    "21.4 Weighted Graphs and Shortest Paths<br>\n",
    "\n",
    "In the single source, all shortest paths problem, the goal is to find the\n",
    "shortest path from every vertex to a given source vertex. If the edges are\n",
    "assumed to have the same length, then BFS solves this problem. However, it\n",
    "is common to consider weighted graphs in which a (positive) real number\n",
    "called the weight is assigned to each edge. We will augment our graph ADT\n",
    "to support a function wt(u,v) that returns the weight of an edge. Then,\n",
    "the weight of a path is the sum of the weights of the edges on that path."
   ]
  },
  {
   "cell_type": "code",
   "execution_count": 12,
   "metadata": {},
   "outputs": [],
   "source": [
    "from ds2.graph import AdjacencySetGraph\n",
    "from ds2.priorityqueue import PriorityQueue\n",
    "\n",
    "class Digraph(AdjacencySetGraph):\n",
    "    def addedge(self, u, v, weight = 1):\n",
    "        self._nbrs[u][v] = weight\n",
    "\n",
    "    def removeedge(self, u, v):\n",
    "        del self._nbrs[u][v]\n",
    "\n",
    "    def addvertex(self, v):\n",
    "        self._V.add(v)\n",
    "        self._nbrs[v] = {}\n",
    "\n",
    "    def wt(self, u, v):\n",
    "        return self._nbrs[u][v]"
   ]
  },
  {
   "cell_type": "code",
   "execution_count": 13,
   "metadata": {},
   "outputs": [],
   "source": [
    "from ds2.graph import Digraph\n",
    "\n",
    "class Graph(Digraph):\n",
    "    def addedge(self, u, v, weight = 1):\n",
    "        Digraph.addedge(self, u, v, weight)\n",
    "        Digraph.addedge(self, v, u, weight)\n",
    "    \n",
    "    def removeedge(self, u, v):\n",
    "        Digraph.removeedge(self, u, v)\n",
    "        Digraph.removeedge(self, v, u)\n",
    "    \n",
    "    def edges(self):\n",
    "        E = {frozenset(e) for e in Digraph.edges(self)}\n",
    "        return iter(E)"
   ]
  },
  {
   "cell_type": "markdown",
   "metadata": {},
   "source": [
    "One nice algorithm for the single source, all shortest paths problem on\n",
    "weighted graphs is called **Dijkstra's algorithm**. It looks a lot like DFS and\n",
    "BFS except now, the stack or queue is replaced by a priority queue. The ver-\n",
    "tices will be visited in order of their distance to the source. These distances\n",
    "will be used as the priorities in the priority queue.<br>\n",
    "\n",
    "We'll see two different implementations. The first, although less efficient\n",
    "is very close to DFS and BFS. Recall that in those algorithms, we visit\n",
    "the vertices, recording the edges used in a dictionary and adding all the\n",
    "neighboring vertices to a stack or a queue to be traversed later. We'll do\n",
    "the same here except that we'll use a priority queue to store the edges to be\n",
    "searched. We'll also keep a dictionary of the distances from the start vertex\n",
    "that will be updated when we visit a vertex. The priority for an edge (u,v)\n",
    "will be the distance to u plus the weight of (u,v). So, if we use this edge,\n",
    "the shortest path to v will go through u. In this way, the tree will encode\n",
    "all the shortest paths from the start vertex. Thus, the result will be not\n",
    "only the lengths of all the paths, but also an efficient encoding of the paths\n",
    "themselves."
   ]
  },
  {
   "cell_type": "code",
   "execution_count": 14,
   "metadata": {},
   "outputs": [
    {
     "name": "stdout",
     "output_type": "stream",
     "text": [
      "Vertex 1 : 1 , distance =  0\n",
      "Vertex 2 : 2 --> 1 , distance =  4.6\n",
      "Vertex 3 : 3 --> 1 , distance =  3.1\n",
      "------------------------\n",
      "Vertex 1 : 1 , distance =  0\n",
      "Vertex 2 : 2 --> 3 --> 1 , distance =  4.2\n",
      "Vertex 3 : 3 --> 1 , distance =  3.1\n"
     ]
    }
   ],
   "source": [
    "def dijkstra(G, v):\n",
    "    tree = {}\n",
    "    D = {v: 0}\n",
    "    tovisit = PriorityQueue()\n",
    "    tovisit.insert((None,v), 0)\n",
    "    for a,b in tovisit:\n",
    "        if b not in tree:\n",
    "            tree[b] = a\n",
    "            if a is not None:\n",
    "                D[b] = D[a] + G.wt(a,b)\n",
    "            for n in G.nbrs(b):\n",
    "                tovisit.insert((b,n), D[b] + G.wt(b,n))\n",
    "    return tree, D\n",
    "\n",
    "def path(tree, v):\n",
    "    path = []\n",
    "    while v is not None:\n",
    "        path.append(str(v))\n",
    "        v = tree[v]\n",
    "    return ' --> '.join(path)\n",
    "\n",
    "def shortestpaths(G, v):\n",
    "    tree, D = dijkstra(G, v)\n",
    "    for v in G.vertices():\n",
    "        print('Vertex', v, ':', path(tree, v), \", distance = \", D[v])\n",
    "\n",
    "G = Graph({1,2,3}, {(1,2, 4.6), (2, 3, 9.2), (1, 3, 3.1)})\n",
    "shortestpaths(G, 1)\n",
    "print('------------------------')\n",
    "# Adding an edge creates a shortcut to vertex 2.\n",
    "G.addedge(3, 2, 1.1)\n",
    "shortestpaths(G, 1)"
   ]
  },
  {
   "cell_type": "markdown",
   "metadata": {},
   "source": [
    "21.5 Prim’s Algorithm for Minimum Spanning Trees<br>\n",
    "\n",
    "Recall that a subgraph of an undirected graph G = (V, E) is a spanning\n",
    "tree if it is a tree with vertex set V . For a weighted graph, the weight\n",
    "of a spanning tree is the sum of the weights of its edges. The Minimum\n",
    "Spanning Tree (MST) Problem is to find a spanning tree of an input\n",
    "graph with minimum weight.<br>\n",
    "\n",
    "To find an algorithm for this problem, we start by trying to describe\n",
    "which edges should appear in the minimum spanning tree. That is, we\n",
    "should think about the object we want to construct first, and only then can\n",
    "we think about how to construct it."
   ]
  },
  {
   "cell_type": "code",
   "execution_count": 15,
   "metadata": {},
   "outputs": [],
   "source": [
    "def prim(G):\n",
    "    v = next(iter(G.vertices()))\n",
    "    tree = {}\n",
    "    tovisit = PriorityQueue()\n",
    "    tovisit.insert((None, v), 0)\n",
    "    for a, b in tovisit:\n",
    "        if b not in tree:\n",
    "            tree[b] = a\n",
    "            for n in G.nbrs(b):\n",
    "                tovisit.insert((b,n), G.wt(b,n))\n",
    "    return tree"
   ]
  },
  {
   "cell_type": "code",
   "execution_count": 16,
   "metadata": {},
   "outputs": [
    {
     "name": "stdout",
     "output_type": "stream",
     "text": [
      "{1: None, 2: 1, 3: 2, 4: 3, 5: 4}\n",
      "{1: None, 2: 1, 3: 1, 4: 3, 5: 3}\n"
     ]
    }
   ],
   "source": [
    "G = Graph({1,2,3,4,5}, {(1, 2, 1),\n",
    "                        (2, 3, 1),\n",
    "                        (1, 3, 2),\n",
    "                        (3, 4, 1),\n",
    "                        (3, 5, 3),\n",
    "                        (4, 5, 2),\n",
    "                        })\n",
    "mst = prim(G)\n",
    "sp, D = dijkstra(G, 1)\n",
    "print(mst)\n",
    "print(sp)"
   ]
  },
  {
   "cell_type": "markdown",
   "metadata": {},
   "source": [
    "21.6 An optimization for Priority-First search<br>\n",
    "\n",
    "When thinking about how to\n",
    "improve an algorithm, an easy first place to look is for wasted work. In\n",
    "this case, we can see that many edges added to the priority queue are later\n",
    "removed without being used, because they lead to a vertex that has already\n",
    "been visited (by a shorter path).<br>\n",
    "\n",
    "The idea is to store vertices rather than edges in the priority queue.\n",
    "Then, we’ll use the changepriority method to update an entry when we\n",
    "find a new shorter path to a given vertex. Although we won’t know the\n",
    "distances at first, we’ll store the shortest distance we’ve seen so far. If we\n",
    "find a shortcut to a given vertex, we will reduce it’s priority and update the\n",
    "priority queue. Updating after finding a shortcut is called edge relaxation.<br>\n",
    "\n",
    "It works as follows. The distances to the source are stored in a dictionary D\n",
    "that maps vertices to the distance, based on what we’ve searched so far. If\n",
    "we find that D[n] > D[u] + G.wt(u,n), then it would be a shorter path to\n",
    "n if we just took the shortest path from the source to u and appended the\n",
    "edge (u,n). In that case, we set D[n] = D[u] + G.wt(u,n) and update\n",
    "the priority queue. Note that we had this algorithm in mind when we added\n",
    "changepriority to our Priority Queue ADT."
   ]
  },
  {
   "cell_type": "code",
   "execution_count": 17,
   "metadata": {},
   "outputs": [
    {
     "name": "stdout",
     "output_type": "stream",
     "text": [
      "{1: None, 2: 1, 3: 1, 5: 2, 4: 3} {1: 0, 2: 1, 3: 2, 4: 4, 5: 3}\n"
     ]
    }
   ],
   "source": [
    "def dijkstra2(G, v):\n",
    "    tree = {v: None}\n",
    "    D = {u: float('inf') for u in G.vertices()}\n",
    "    D[v] = 0\n",
    "    tovisit = PriorityQueue(entries = [(u, D[u]) for u in G.vertices()])\n",
    "    for u in tovisit:\n",
    "        for n in G.nbrs(u):\n",
    "            if D[u] + G.wt(u,n) < D[n]:\n",
    "                D[n] = D[u] + G.wt(u,n)\n",
    "                tree[n] = u\n",
    "                tovisit.changepriority(n, D[n])\n",
    "    return tree, D\n",
    "from ds2.graph import Digraph\n",
    "V = {1,2,3,4,5}\n",
    "E = {(1,2,1),\n",
    "(2,3,2),\n",
    "(1,3,2),\n",
    "(3,4,2),\n",
    "(2,5,2)\n",
    "}\n",
    "G = Digraph(V, E)\n",
    "tree, D = dijkstra2(G, 1)\n",
    "print(tree, D)"
   ]
  },
  {
   "cell_type": "markdown",
   "metadata": {},
   "source": [
    "Visualize Prims algorithm [here](https://visualgo.net/en/mst)<br>\n",
    "and Visualize dijkstra algorithm [here](https://visualgo.net/en/sssp)"
   ]
  }
 ],
 "metadata": {
  "kernelspec": {
   "display_name": "Python 3",
   "language": "python",
   "name": "python3"
  },
  "language_info": {
   "codemirror_mode": {
    "name": "ipython",
    "version": 3
   },
   "file_extension": ".py",
   "mimetype": "text/x-python",
   "name": "python",
   "nbconvert_exporter": "python",
   "pygments_lexer": "ipython3",
   "version": "3.10.12"
  },
  "orig_nbformat": 4
 },
 "nbformat": 4,
 "nbformat_minor": 2
}
