{
 "cells": [
  {
   "cell_type": "markdown",
   "metadata": {},
   "source": [
    "Chapter 14 Selection<br>\n",
    "\n",
    "Consider the following problem.<br>\n",
    "Given a list of numbers, find the median element."
   ]
  },
  {
   "cell_type": "code",
   "execution_count": 1,
   "metadata": {},
   "outputs": [],
   "source": [
    "def median(L):\n",
    "    L.sort()\n",
    "    return L[len(L) // 2]"
   ]
  },
  {
   "cell_type": "markdown",
   "metadata": {},
   "source": [
    "The code does rearrange the list, If we use a fast sorting algorithm, we can expect this algorithm to run in O(n log n) time."
   ]
  },
  {
   "cell_type": "code",
   "execution_count": 2,
   "metadata": {},
   "outputs": [],
   "source": [
    "def secondsmallest(L):\n",
    "    a, b = None, None\n",
    "    for item in L:\n",
    "        if a is None or item <= b:\n",
    "            a, b = item, a\n",
    "        elif b is None or item <= a:\n",
    "            b = item\n",
    "    return b"
   ]
  },
  {
   "cell_type": "markdown",
   "metadata": {},
   "source": [
    "The Selection Problem: Given a list of numbers and a number k, find the kth smallest number in the list.<br>\n",
    "\n",
    "14.1 The quickselect algorithm<br>\n",
    "\n",
    "We can use a divide and conquer approach derived from quicksort to do\n",
    "selection. The idea is to partition the list and then recursive do the selection\n",
    "on one part or the other. Unlike quicksort, we only have to do a recursive\n",
    "search on one half of the list (as in binary search)."
   ]
  },
  {
   "cell_type": "code",
   "execution_count": 3,
   "metadata": {},
   "outputs": [],
   "source": [
    "from ds2.sorting.quicksort import partition\n",
    "\n",
    "def quickselect(L, k):\n",
    "    return _quicksort(L, k, 0, len(L))\n",
    "\n",
    "def _quicksort(L, k, left, right):\n",
    "    pivot = partition(L, left, right)\n",
    "    if k <= pivot:\n",
    "        return _quicksort(L, k, left, pivot)\n",
    "    elif k == pivot + 1:\n",
    "        return L[pivot]\n",
    "    else:\n",
    "        return _quicksort(L, k, pivot + 1, right)"
   ]
  },
  {
   "cell_type": "markdown",
   "metadata": {},
   "source": [
    "We to eliminate a constant fraction of the list with each new step. Unlike\n",
    "quicksort, we will not make a recursive call on both sides. As a result,\n",
    "we’ll see that the average running time is only ***O(n)***. That means we can do\n",
    "selection faster than we can sort, which makes sense, but it is not obvious\n",
    "how to do it. We’ll make the analysis formal below."
   ]
  },
  {
   "cell_type": "markdown",
   "metadata": {},
   "source": [
    "14.2 Analysis\n",
    "The quickselect algorithm is a randomized algorithm.\n",
    "The worst-case running time is bad. If we are trying to select the largest\n",
    "element and the pivots all land on the smallest elements, then the running\n",
    "time will be quadratic.\n",
    "Instead, we’ll analyze the **expected running time**. The word **expected** comes from probability and refers to the average over all random\n",
    "choices the algorithm makes.\n",
    "Given a list of n numbers, the partition function will pick a random\n",
    "element to serve as the pivot. We say a pivot is good if it lands in the range\n",
    "of indices from $n/4$ to $3n/4$. So, choosing randomly, there is a 50 percent\n",
    "chance of picking a good pivot.\n",
    "With each recursive call, we get a smaller list. Let’s say that $n_{i}$ is the\n",
    "size of the list on the ith recursive call, so $n = n_{0} > n_{1} > · · · > n_{k}$, where\n",
    "k is the (unknown) number of recursive calls. There is a 1/2 probability of\n",
    "a good pivot at any step, so the expected value of ni can be bounded as\n",
    "follows.\n",
    "\n",
    "$$\n",
    "E[n_{i}] \\ \\leq (1/2) (\\frac{3E[n_{i-1}]}{4}) + (1/2)(E[n_{i-1}]) = (\\frac{7}{8})E[n_{i-1}]\n",
    "$$\n",
    "\n",
    "Each recursive call takes linear time, so the total running time will be\n",
    "\n",
    "$$\n",
    "T(n) = \\sum_{i=0}^{k}O(n_{i}) = O(\\sum_{i=0}^{k}n_{i})\n",
    "$$"
   ]
  },
  {
   "cell_type": "markdown",
   "metadata": {},
   "source": [
    "14.3 One last time without recursion"
   ]
  },
  {
   "cell_type": "code",
   "execution_count": 4,
   "metadata": {},
   "outputs": [],
   "source": [
    "from ds2.sorting.quicksort import partition\n",
    "def quickselect(L, k):\n",
    "    left, right = 0, len(L)\n",
    "    while left < right:\n",
    "        pivot = partition(L, left, right)\n",
    "        if k <= pivot:\n",
    "            right = pivot\n",
    "        elif k == pivot + 1:\n",
    "            return L[pivot]\n",
    "        else:\n",
    "            left = pivot + 1\n",
    "    return L[left]"
   ]
  },
  {
   "cell_type": "markdown",
   "metadata": {},
   "source": [
    "14.4 Divide-and-Conquer Recap<br>\n",
    "\n",
    "Three main classes of divide-and-conquer algorithms:\n",
    "- The first,and perhaps simplest, were those like binary search, where each\n",
    "recursive step takes constant time and makes a single recursive call on a list\n",
    "that is a constant times smaller. The total running time in those cases is\n",
    "proportional to the depth of the recursion, ***O(log n)***.\n",
    "- The second class of recursive, divide-and-conquer algorithms we saw were\n",
    "binary recursion associated with sorting. In those, the running time is linear\n",
    "plus the time to make recursive calls on shorter lists whose total length is\n",
    "O(n). In those cases, as long as the depth of the recursion is ***O(log n)***, the\n",
    "total running time is ***O(n log n)***.\n",
    "- third class of divide-and-conquer algorithms, those like\n",
    "quickselect. Here, like in the sorting algorithms, the running time is linear\n",
    "plus the cost of recursive calls. However, like in binary search, there is only\n",
    "one recursive call. In these cases, as long as the subproblems shrink by a\n",
    "constant factor at each step, the running time will be ***O(n)***."
   ]
  },
  {
   "cell_type": "markdown",
   "metadata": {},
   "source": [
    "14.5 A Note on Derandomization<br>\n",
    "\n",
    "An algorithm that does not use randomness is called deterministic. So\n",
    "far, all the algorithms we have covered are deterministic so we didn’t need\n",
    "to make the distinction. In the case of the selection problem, it’s possible\n",
    "to solve it in linear time in the worst-case, without randomness.\n",
    "If you recall the quickselect algorithm depends on getting an approxi-\n",
    "mate median in order to reduce the length of the list by a constant fraction.\n",
    "So, if you had an algorithm for finding the median in linear time, you could\n",
    "use it to choose the pivots in quickselect in order to get a linear-time\n",
    "algorithm."
   ]
  }
 ],
 "metadata": {
  "kernelspec": {
   "display_name": "Python 3",
   "language": "python",
   "name": "python3"
  },
  "language_info": {
   "codemirror_mode": {
    "name": "ipython",
    "version": 3
   },
   "file_extension": ".py",
   "mimetype": "text/x-python",
   "name": "python",
   "nbconvert_exporter": "python",
   "pygments_lexer": "ipython3",
   "version": "3.10.12"
  },
  "orig_nbformat": 4
 },
 "nbformat": 4,
 "nbformat_minor": 2
}
