{
 "cells": [
  {
   "cell_type": "markdown",
   "metadata": {},
   "source": [
    "Chapter 8 Doubly-Linked Lists<br><br>\n",
    "In the linked list implementation, all of the basic operations ran in constant time except removelast.<br>\n",
    "In this doubly-linked list, removing from the end will be symmetric to removing from the beginning, with the roles of head and tail reversed.<br>\n",
    "We create a new ListNode, we can specify the nodes before and after so that the appropriate links can be established. We want it to always be true that b == a.link if and only if a = b.prev for any two nodes a and b. To help ensure this invariant, we set self.prev.link = self and self.link.prev = self unless prev or link respectively are None. (This is to make sure that when inserting any node to the linked list there should not be any conflict of no more than 1 node linking with the same other node, if the node is inserted in between the linked list then before inserting those both nodes will be linked so we have to break that link and connect it with the new inserted node.)"
   ]
  },
  {
   "cell_type": "code",
   "execution_count": 1,
   "metadata": {
    "tags": []
   },
   "outputs": [],
   "source": [
    "class ListNode:\n",
    "    def __init__(self, data, prev = None, link = None):\n",
    "        self.data = data\n",
    "        self.prev = prev\n",
    "        self.link = link\n",
    "        if prev is not None:\n",
    "            self.prev.link = self\n",
    "        if link is not None:\n",
    "            self.link.prev = self"
   ]
  },
  {
   "cell_type": "markdown",
   "metadata": {},
   "source": [
    "First, we’ll look at adding items to a DoublyLinkedList. These operations are very similar to the addfirst operation on a LinkedList. One has to do a little more work to update the prev node that was not present in our LinkedList."
   ]
  },
  {
   "cell_type": "code",
   "execution_count": 2,
   "metadata": {},
   "outputs": [],
   "source": [
    "class DoublyLinkedList:\n",
    "    def __init__(self):\n",
    "        self._head = None\n",
    "        self._tail = None\n",
    "        self._length = 0\n",
    "\n",
    "    def addfirst(self, item):\n",
    "        if len(self) == 0:\n",
    "            self._head = self._tail = ListNode(item, None, None)\n",
    "        else:\n",
    "            node = ListNode(item, None, self._head)\n",
    "            self._head.prev = node\n",
    "            self._head = node\n",
    "        self._length += 1\n",
    "\n",
    "    def addlast(self, item):\n",
    "        if len(self) == 0:\n",
    "            self._head = self._tail = ListNode(item, None, None)\n",
    "        else:\n",
    "            node = ListNode(item, self._tail, None)\n",
    "            self._tail.link = node\n",
    "            self._tail = node\n",
    "        self._length += 1\n",
    "\n",
    "    def __len__(self):\n",
    "        return self._length"
   ]
  },
  {
   "cell_type": "markdown",
   "metadata": {},
   "source": [
    "However the code above works just fine to add the node at first and last it contains shared logic between methods, so it needs to be refactored and simplified."
   ]
  },
  {
   "cell_type": "code",
   "execution_count": 3,
   "metadata": {},
   "outputs": [],
   "source": [
    "class DoublyLinkedList:\n",
    "    def __init__(self):\n",
    "        self._head = None\n",
    "        self._tail = None\n",
    "        self._length = 0\n",
    "    \n",
    "    def __len__(self):\n",
    "        return self._length\n",
    "    \n",
    "    def _addbetween(self, item, before, after):\n",
    "        node = ListNode(item, before, after)\n",
    "        if after is self._head:\n",
    "            self._head = node\n",
    "        if before is self._tail:\n",
    "            self._tail = node\n",
    "        self._length += 1\n",
    "\n",
    "    def addfirst(self, item):\n",
    "        self._addbetween(item, None, self._head)\n",
    "    \n",
    "    def addlast(self, item):\n",
    "        self._addbetween(item, self._tail, None)\n",
    "\n",
    "    def _remove(self, node):\n",
    "        before, after = node.prev, node.link\n",
    "        if node is self._head:\n",
    "            self._head = after\n",
    "        else:\n",
    "            before.link = after\n",
    "        if node is self._tail:\n",
    "            self._tail = before\n",
    "        else:\n",
    "            after.prev = before\n",
    "        self._length -= 1\n",
    "        return node.data\n",
    "    \n",
    "    def removefirst(self):\n",
    "        return self._remove(self._head)\n",
    "    \n",
    "    def removelast(self):\n",
    "        return self._remove(self._tail)"
   ]
  },
  {
   "cell_type": "markdown",
   "metadata": {},
   "source": [
    "8.1 Concatenating Doubly Linked Lists<br><br>\n",
    "\n",
    "The concatenation can be accomplished by pointing the tail of the first list at the head of the second."
   ]
  },
  {
   "cell_type": "code",
   "execution_count": 4,
   "metadata": {},
   "outputs": [
    {
     "name": "stdout",
     "output_type": "stream",
     "text": [
      "0 1 2 3 4 5 6 7 8 9 10 11 12 13 14 15 16 17 18 19 20 "
     ]
    }
   ],
   "source": [
    "class DoublyLinkedList:\n",
    "    def __init__(self):\n",
    "        self._head = None\n",
    "        self._tail = None\n",
    "        self._length = 0\n",
    "    \n",
    "    def __len__(self):\n",
    "        return self._length\n",
    "    \n",
    "    def _addbetween(self, item, before, after):\n",
    "        node = ListNode(item, before, after)\n",
    "        if after is self._head:\n",
    "            self._head = node\n",
    "        if before is self._tail:\n",
    "            self._tail = node\n",
    "        self._length += 1\n",
    "\n",
    "    def addfirst(self, item):\n",
    "        self._addbetween(item, None, self._head)\n",
    "    \n",
    "    def addlast(self, item):\n",
    "        self._addbetween(item, self._tail, None)\n",
    "\n",
    "    def _remove(self, node):\n",
    "        before, after = node.prev, node.link\n",
    "        if node is self._head:\n",
    "            self._head = after\n",
    "        else:\n",
    "            before.link = after\n",
    "        if node is self._tail:\n",
    "            self._tail = before\n",
    "        else:\n",
    "            after.prev = before\n",
    "        self._length -= 1\n",
    "        return node.data\n",
    "    \n",
    "    def removefirst(self):\n",
    "        return self._remove(self._head)\n",
    "    \n",
    "    def removelast(self):\n",
    "        return self._remove(self._tail)\n",
    "    \n",
    "    def __iadd__(self, other):\n",
    "        if other._head is not None:\n",
    "            if self._head is None:\n",
    "                self._head = other._head\n",
    "            else:\n",
    "                self._tail.link = other._head\n",
    "                other._head.prev = self._tail\n",
    "            self._tail = other._tail\n",
    "            self._length += other._length\n",
    "            other.__init__()\n",
    "        return self\n",
    "    \n",
    "L = DoublyLinkedList()\n",
    "for i in range(11):\n",
    "    L.addlast(i)\n",
    "B = DoublyLinkedList()\n",
    "[B.addlast(i+11) for i in range(10)]\n",
    "L += B\n",
    "n = L._head\n",
    "while n is not None:\n",
    "    print(n.data, end=' ')\n",
    "    n = n.link"
   ]
  }
 ],
 "metadata": {
  "kernelspec": {
   "display_name": "Python 3",
   "language": "python",
   "name": "python3"
  },
  "language_info": {
   "codemirror_mode": {
    "name": "ipython",
    "version": 3
   },
   "file_extension": ".py",
   "mimetype": "text/x-python",
   "name": "python",
   "nbconvert_exporter": "python",
   "pygments_lexer": "ipython3",
   "version": "3.10.12"
  },
  "orig_nbformat": 4
 },
 "nbformat": 4,
 "nbformat_minor": 2
}
